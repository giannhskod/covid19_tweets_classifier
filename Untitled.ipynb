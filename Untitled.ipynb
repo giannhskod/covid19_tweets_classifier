{
 "cells": [
  {
   "cell_type": "code",
   "execution_count": 1,
   "metadata": {},
   "outputs": [
    {
     "name": "stderr",
     "output_type": "stream",
     "text": [
      "Using TensorFlow backend.\n"
     ]
    }
   ],
   "source": [
    "import csv\n",
    "import numpy as np\n",
    "from sklearn.feature_extraction.text import TfidfVectorizer\n",
    "from sklearn.linear_model import LogisticRegression\n",
    "from sklearn.svm import SVC\n",
    "import models, helpers, results\n",
    "from sklearn import preprocessing\n",
    "from sklearn.metrics import confusion_matrix, roc_curve, auc, precision_recall_curve,average_precision_score\n",
    "from sklearn import metrics \n",
    "from sklearn.utils import compute_class_weight\n",
    "from keras.preprocessing.text import Tokenizer\n",
    "from keras.preprocessing import sequence\n",
    "from keras.callbacks import ModelCheckpoint,EarlyStopping\n",
    "from keras.utils import to_categorical\n",
    "# Read training data"
   ]
  },
  {
   "cell_type": "code",
   "execution_count": 2,
   "metadata": {},
   "outputs": [
    {
     "name": "stdout",
     "output_type": "stream",
     "text": [
      "Read DONE \n"
     ]
    }
   ],
   "source": [
    "# Read training data\n",
    "train_posts, test_posts,label_train, label_test, y_train_as_is, test_index = helpers.get_data_set()\n",
    "\n",
    "print('Read DONE ')"
   ]
  },
  {
   "cell_type": "code",
   "execution_count": 3,
   "metadata": {},
   "outputs": [],
   "source": [
    "# vectorizer = TfidfVectorizer(stop_words='english',min_df=5)\n",
    "# X_train_transformer = vectorizer.fit_transform(train_posts)\n",
    "# X_train = X_train_transformer.toarray()\n",
    "# X_test_transformer = vectorizer.transform(test_posts)\n",
    "# X_test = X_test_transformer.toarray()\n",
    "# print('tfidf DONE ')\n",
    "# train_x_sub, test_x_sub = (X_train, X_test)"
   ]
  },
  {
   "cell_type": "code",
   "execution_count": 4,
   "metadata": {
    "scrolled": true
   },
   "outputs": [],
   "source": [
    "# num_max = 1000\n",
    "# tok = Tokenizer(num_words=num_max)\n",
    "# tok.fit_on_texts([train_posts,test_posts])\n",
    "# train_x_sub = tok.texts_to_matrix(train_posts,mode='count')\n",
    "# test_x_sub = tok.texts_to_matrix(test_posts,mode='count')"
   ]
  },
  {
   "cell_type": "code",
   "execution_count": 5,
   "metadata": {
    "scrolled": true
   },
   "outputs": [],
   "source": [
    "max_len = 150\n",
    "num_max = 1000\n",
    "tok = Tokenizer(num_words=num_max)\n",
    "tok.fit_on_texts(train_posts)\n",
    "# Transform sequence of senteces in sequence of integers\n",
    "sequences = tok.texts_to_sequences(train_posts)\n",
    "# Create Input to Neural Network\n",
    "train_x_sub = sequence.pad_sequences(sequences, maxlen = max_len)"
   ]
  },
  {
   "cell_type": "code",
   "execution_count": 6,
   "metadata": {},
   "outputs": [],
   "source": [
    "classWeight = compute_class_weight('balanced', [0,1,2,3,4,5,6,7,8,9,10,11,12,13,14], y_train_as_is) \n",
    "classWeight = dict(enumerate(classWeight))"
   ]
  },
  {
   "cell_type": "code",
   "execution_count": 7,
   "metadata": {},
   "outputs": [
    {
     "data": {
      "text/plain": [
       "{0: 0.1567769477054429,\n",
       " 1: 1.5382198952879582,\n",
       " 2: 0.37080353386621795,\n",
       " 3: 0.6295714285714286,\n",
       " 4: 0.8276056338028169,\n",
       " 5: 4.8966666666666665,\n",
       " 6: 9.37659574468085,\n",
       " 7: 48.96666666666667,\n",
       " 8: 7.224590163934426,\n",
       " 9: 7.8,\n",
       " 10: 1.7592814371257486,\n",
       " 11: 2.7203703703703703,\n",
       " 12: 2.9478260869565216,\n",
       " 13: 4.257971014492754,\n",
       " 14: 2.703680981595092}"
      ]
     },
     "execution_count": 7,
     "metadata": {},
     "output_type": "execute_result"
    }
   ],
   "source": [
    "classWeight"
   ]
  },
  {
   "cell_type": "code",
   "execution_count": 8,
   "metadata": {
    "scrolled": true
   },
   "outputs": [
    {
     "name": "stdout",
     "output_type": "stream",
     "text": [
      "Model: \"sequential_1\"\n",
      "_________________________________________________________________\n",
      "Layer (type)                 Output Shape              Param #   \n",
      "=================================================================\n",
      "embedding_1 (Embedding)      (None, 150, 150)          150000    \n",
      "_________________________________________________________________\n",
      "flatten_1 (Flatten)          (None, 22500)             0         \n",
      "_________________________________________________________________\n",
      "dense_1 (Dense)              (None, 1024)              23041024  \n",
      "_________________________________________________________________\n",
      "dropout_1 (Dropout)          (None, 1024)              0         \n",
      "_________________________________________________________________\n",
      "dense_2 (Dense)              (None, 1024)              1049600   \n",
      "_________________________________________________________________\n",
      "dropout_2 (Dropout)          (None, 1024)              0         \n",
      "_________________________________________________________________\n",
      "dense_3 (Dense)              (None, 1024)              1049600   \n",
      "_________________________________________________________________\n",
      "dropout_3 (Dropout)          (None, 1024)              0         \n",
      "_________________________________________________________________\n",
      "dense_4 (Dense)              (None, 1024)              1049600   \n",
      "_________________________________________________________________\n",
      "dropout_4 (Dropout)          (None, 1024)              0         \n",
      "_________________________________________________________________\n",
      "dense_5 (Dense)              (None, 15)                15375     \n",
      "=================================================================\n",
      "Total params: 26,355,199\n",
      "Trainable params: 26,355,199\n",
      "Non-trainable params: 0\n",
      "_________________________________________________________________\n"
     ]
    },
    {
     "name": "stderr",
     "output_type": "stream",
     "text": [
      "/Users/pspyrakis/opt/anaconda3/lib/python3.7/site-packages/tensorflow/python/framework/indexed_slices.py:434: UserWarning: Converting sparse IndexedSlices to a dense Tensor of unknown shape. This may consume a large amount of memory.\n",
      "  \"Converting sparse IndexedSlices to a dense Tensor of unknown shape. \"\n"
     ]
    },
    {
     "name": "stdout",
     "output_type": "stream",
     "text": [
      "Train on 11898 samples, validate on 1323 samples\n",
      "Epoch 1/100\n",
      "11898/11898 [==============================] - 48s 4ms/step - loss: 2.7516 - categorical_accuracy: 0.0274 - val_loss: 2.3915 - val_categorical_accuracy: 0.0091\n",
      "Epoch 2/100\n",
      "11898/11898 [==============================] - 47s 4ms/step - loss: 2.7546 - categorical_accuracy: 0.0187 - val_loss: 2.3936 - val_categorical_accuracy: 0.0113\n",
      "Epoch 3/100\n",
      "11898/11898 [==============================] - 48s 4ms/step - loss: 2.7488 - categorical_accuracy: 0.0286 - val_loss: 2.3862 - val_categorical_accuracy: 0.0113\n",
      "Epoch 4/100\n",
      "11898/11898 [==============================] - 48s 4ms/step - loss: 2.7530 - categorical_accuracy: 0.0332 - val_loss: 2.3887 - val_categorical_accuracy: 0.0234\n",
      "Epoch 5/100\n",
      "11898/11898 [==============================] - 48s 4ms/step - loss: 2.7472 - categorical_accuracy: 0.0619 - val_loss: 2.3469 - val_categorical_accuracy: 0.0340\n",
      "Epoch 6/100\n",
      "11898/11898 [==============================] - 48s 4ms/step - loss: 2.7223 - categorical_accuracy: 0.0582 - val_loss: 2.3311 - val_categorical_accuracy: 0.0325\n",
      "Epoch 7/100\n",
      "11898/11898 [==============================] - 46s 4ms/step - loss: 2.6799 - categorical_accuracy: 0.0519 - val_loss: 2.2944 - val_categorical_accuracy: 0.0423\n",
      "Epoch 8/100\n",
      "11898/11898 [==============================] - 44s 4ms/step - loss: 2.6130 - categorical_accuracy: 0.0586 - val_loss: 2.2809 - val_categorical_accuracy: 0.0673\n",
      "Epoch 9/100\n",
      "11898/11898 [==============================] - 43s 4ms/step - loss: 2.4827 - categorical_accuracy: 0.0762 - val_loss: 2.3104 - val_categorical_accuracy: 0.0658\n",
      "Epoch 10/100\n",
      "11898/11898 [==============================] - 42s 4ms/step - loss: 2.3390 - categorical_accuracy: 0.0948 - val_loss: 2.4717 - val_categorical_accuracy: 0.0544\n",
      "Epoch 11/100\n",
      "11898/11898 [==============================] - 43s 4ms/step - loss: 2.1943 - categorical_accuracy: 0.1141 - val_loss: 2.2872 - val_categorical_accuracy: 0.0627\n",
      "Epoch 12/100\n",
      "11898/11898 [==============================] - 43s 4ms/step - loss: 2.1014 - categorical_accuracy: 0.1350 - val_loss: 2.6018 - val_categorical_accuracy: 0.0711\n",
      "Epoch 13/100\n",
      "11898/11898 [==============================] - 43s 4ms/step - loss: 1.9395 - categorical_accuracy: 0.1477 - val_loss: 2.7385 - val_categorical_accuracy: 0.2048\n",
      "Epoch 14/100\n",
      "11898/11898 [==============================] - 43s 4ms/step - loss: 1.8215 - categorical_accuracy: 0.1757 - val_loss: 2.6237 - val_categorical_accuracy: 0.1285\n",
      "Epoch 15/100\n",
      "11898/11898 [==============================] - 43s 4ms/step - loss: 1.6715 - categorical_accuracy: 0.1930 - val_loss: 3.0028 - val_categorical_accuracy: 0.1323\n",
      "Epoch 16/100\n",
      "11898/11898 [==============================] - 43s 4ms/step - loss: 1.5288 - categorical_accuracy: 0.2124 - val_loss: 2.8430 - val_categorical_accuracy: 0.1240\n",
      "Epoch 17/100\n",
      "11898/11898 [==============================] - 46s 4ms/step - loss: 1.4101 - categorical_accuracy: 0.2374 - val_loss: 3.1069 - val_categorical_accuracy: 0.1096\n",
      "Epoch 18/100\n",
      "11898/11898 [==============================] - 44s 4ms/step - loss: 1.2951 - categorical_accuracy: 0.2584 - val_loss: 3.5639 - val_categorical_accuracy: 0.1330\n",
      "Epoch 19/100\n",
      "11898/11898 [==============================] - 40s 3ms/step - loss: 1.1793 - categorical_accuracy: 0.2761 - val_loss: 3.8136 - val_categorical_accuracy: 0.1527\n",
      "Epoch 20/100\n",
      "11898/11898 [==============================] - 40s 3ms/step - loss: 1.0916 - categorical_accuracy: 0.3011 - val_loss: 4.0519 - val_categorical_accuracy: 0.1738\n",
      "Epoch 21/100\n",
      "11898/11898 [==============================] - 40s 3ms/step - loss: 0.9840 - categorical_accuracy: 0.3197 - val_loss: 4.2644 - val_categorical_accuracy: 0.2192\n",
      "Epoch 22/100\n",
      "11898/11898 [==============================] - 40s 3ms/step - loss: 0.9293 - categorical_accuracy: 0.3457 - val_loss: 4.2785 - val_categorical_accuracy: 0.2396\n",
      "Epoch 23/100\n",
      "11898/11898 [==============================] - 40s 3ms/step - loss: 0.8350 - categorical_accuracy: 0.3747 - val_loss: 4.9511 - val_categorical_accuracy: 0.1693\n",
      "Epoch 24/100\n",
      "11898/11898 [==============================] - 40s 3ms/step - loss: 0.7978 - categorical_accuracy: 0.3869 - val_loss: 4.7168 - val_categorical_accuracy: 0.2411\n",
      "Epoch 25/100\n",
      "11898/11898 [==============================] - 40s 3ms/step - loss: 0.7684 - categorical_accuracy: 0.4091 - val_loss: 5.1500 - val_categorical_accuracy: 0.2668\n",
      "Epoch 26/100\n",
      "11898/11898 [==============================] - 40s 3ms/step - loss: 0.6891 - categorical_accuracy: 0.4312 - val_loss: 5.5450 - val_categorical_accuracy: 0.2857\n",
      "Epoch 27/100\n",
      "11898/11898 [==============================] - 55s 5ms/step - loss: 0.6485 - categorical_accuracy: 0.4607 - val_loss: 5.3875 - val_categorical_accuracy: 0.2366\n",
      "Epoch 28/100\n",
      "11898/11898 [==============================] - 51s 4ms/step - loss: 0.6103 - categorical_accuracy: 0.4660 - val_loss: 5.8551 - val_categorical_accuracy: 0.2313\n",
      "Epoch 29/100\n",
      "11898/11898 [==============================] - 47s 4ms/step - loss: 0.5561 - categorical_accuracy: 0.4903 - val_loss: 5.9566 - val_categorical_accuracy: 0.2797\n",
      "Epoch 30/100\n",
      "11898/11898 [==============================] - 48s 4ms/step - loss: 0.5085 - categorical_accuracy: 0.5159 - val_loss: 6.5106 - val_categorical_accuracy: 0.3031\n",
      "Epoch 31/100\n",
      "11898/11898 [==============================] - 48s 4ms/step - loss: 0.4851 - categorical_accuracy: 0.5347 - val_loss: 6.3733 - val_categorical_accuracy: 0.2132\n",
      "Epoch 32/100\n",
      "11898/11898 [==============================] - 48s 4ms/step - loss: 0.4580 - categorical_accuracy: 0.5561 - val_loss: 6.7737 - val_categorical_accuracy: 0.2948\n",
      "Epoch 33/100\n",
      "11898/11898 [==============================] - 48s 4ms/step - loss: 0.4217 - categorical_accuracy: 0.5732 - val_loss: 7.0977 - val_categorical_accuracy: 0.2948\n",
      "Epoch 34/100\n",
      "11898/11898 [==============================] - 47s 4ms/step - loss: 0.3962 - categorical_accuracy: 0.5946 - val_loss: 6.9364 - val_categorical_accuracy: 0.3167\n",
      "Epoch 35/100\n",
      "11898/11898 [==============================] - 47s 4ms/step - loss: 0.3726 - categorical_accuracy: 0.6190 - val_loss: 7.0958 - val_categorical_accuracy: 0.2804\n",
      "Epoch 36/100\n",
      "11898/11898 [==============================] - 47s 4ms/step - loss: 0.3415 - categorical_accuracy: 0.6492 - val_loss: 7.6874 - val_categorical_accuracy: 0.3228\n",
      "Epoch 37/100\n",
      "11898/11898 [==============================] - 47s 4ms/step - loss: 0.3176 - categorical_accuracy: 0.6728 - val_loss: 7.9744 - val_categorical_accuracy: 0.2910\n",
      "Epoch 38/100\n",
      "11898/11898 [==============================] - 47s 4ms/step - loss: 0.2921 - categorical_accuracy: 0.6857 - val_loss: 8.9534 - val_categorical_accuracy: 0.3348\n",
      "Epoch 39/100\n",
      "11898/11898 [==============================] - 48s 4ms/step - loss: 0.2727 - categorical_accuracy: 0.7109 - val_loss: 8.5295 - val_categorical_accuracy: 0.3492\n",
      "Epoch 40/100\n",
      "11898/11898 [==============================] - 47s 4ms/step - loss: 0.2513 - categorical_accuracy: 0.7363 - val_loss: 8.6274 - val_categorical_accuracy: 0.3371\n",
      "Epoch 41/100\n",
      "11898/11898 [==============================] - 47s 4ms/step - loss: 0.2331 - categorical_accuracy: 0.7500 - val_loss: 9.5233 - val_categorical_accuracy: 0.3779\n",
      "Epoch 42/100\n",
      "11898/11898 [==============================] - 47s 4ms/step - loss: 0.2062 - categorical_accuracy: 0.7724 - val_loss: 9.3723 - val_categorical_accuracy: 0.3779\n",
      "Epoch 43/100\n",
      "11898/11898 [==============================] - 47s 4ms/step - loss: 0.1919 - categorical_accuracy: 0.7920 - val_loss: 9.0773 - val_categorical_accuracy: 0.3961\n",
      "Epoch 44/100\n",
      "11898/11898 [==============================] - 48s 4ms/step - loss: 0.1731 - categorical_accuracy: 0.8119 - val_loss: 9.1594 - val_categorical_accuracy: 0.3923\n",
      "Epoch 45/100\n",
      "11898/11898 [==============================] - 47s 4ms/step - loss: 0.1792 - categorical_accuracy: 0.8180 - val_loss: 8.9993 - val_categorical_accuracy: 0.3560\n",
      "Epoch 46/100\n",
      "11898/11898 [==============================] - 48s 4ms/step - loss: 0.1580 - categorical_accuracy: 0.8377 - val_loss: 10.4231 - val_categorical_accuracy: 0.4089\n",
      "Epoch 47/100\n",
      "11898/11898 [==============================] - 47s 4ms/step - loss: 0.1511 - categorical_accuracy: 0.8471 - val_loss: 10.0245 - val_categorical_accuracy: 0.4097\n",
      "Epoch 48/100\n"
     ]
    },
    {
     "name": "stdout",
     "output_type": "stream",
     "text": [
      "11898/11898 [==============================] - 48s 4ms/step - loss: 0.1395 - categorical_accuracy: 0.8635 - val_loss: 10.1812 - val_categorical_accuracy: 0.4074\n",
      "Epoch 49/100\n",
      "11898/11898 [==============================] - 48s 4ms/step - loss: 0.1348 - categorical_accuracy: 0.8759 - val_loss: 10.9990 - val_categorical_accuracy: 0.4286\n",
      "Epoch 50/100\n",
      "11898/11898 [==============================] - 48s 4ms/step - loss: 0.1170 - categorical_accuracy: 0.8839 - val_loss: 10.4646 - val_categorical_accuracy: 0.4006\n",
      "Epoch 51/100\n",
      "11898/11898 [==============================] - 48s 4ms/step - loss: 0.1139 - categorical_accuracy: 0.8880 - val_loss: 11.1912 - val_categorical_accuracy: 0.4346\n",
      "Epoch 52/100\n",
      "11898/11898 [==============================] - 49s 4ms/step - loss: 0.1107 - categorical_accuracy: 0.8981 - val_loss: 11.5269 - val_categorical_accuracy: 0.4082\n",
      "Epoch 53/100\n",
      "11898/11898 [==============================] - 48s 4ms/step - loss: 0.1026 - categorical_accuracy: 0.9098 - val_loss: 10.8527 - val_categorical_accuracy: 0.4376\n",
      "Epoch 54/100\n",
      "11898/11898 [==============================] - 49s 4ms/step - loss: 0.0938 - categorical_accuracy: 0.9205 - val_loss: 10.9884 - val_categorical_accuracy: 0.4142\n",
      "Epoch 55/100\n",
      "11898/11898 [==============================] - 49s 4ms/step - loss: 0.0949 - categorical_accuracy: 0.9231 - val_loss: 11.8561 - val_categorical_accuracy: 0.4119\n",
      "Epoch 56/100\n",
      "11898/11898 [==============================] - 49s 4ms/step - loss: 0.0774 - categorical_accuracy: 0.9287 - val_loss: 11.7490 - val_categorical_accuracy: 0.4520\n",
      "Epoch 57/100\n",
      "11898/11898 [==============================] - 49s 4ms/step - loss: 0.0763 - categorical_accuracy: 0.9340 - val_loss: 12.2797 - val_categorical_accuracy: 0.4422\n",
      "Epoch 58/100\n",
      "11898/11898 [==============================] - 50s 4ms/step - loss: 0.0819 - categorical_accuracy: 0.9404 - val_loss: 12.0983 - val_categorical_accuracy: 0.4180\n",
      "Epoch 59/100\n",
      "11898/11898 [==============================] - 50s 4ms/step - loss: 0.0776 - categorical_accuracy: 0.9395 - val_loss: 11.8728 - val_categorical_accuracy: 0.4225\n",
      "Epoch 60/100\n",
      "11898/11898 [==============================] - 50s 4ms/step - loss: 0.0763 - categorical_accuracy: 0.9513 - val_loss: 12.3320 - val_categorical_accuracy: 0.4361\n",
      "Epoch 61/100\n",
      "11898/11898 [==============================] - 51s 4ms/step - loss: 0.0664 - categorical_accuracy: 0.9531 - val_loss: 12.3547 - val_categorical_accuracy: 0.4354\n",
      "Epoch 62/100\n",
      "11898/11898 [==============================] - 51s 4ms/step - loss: 0.0572 - categorical_accuracy: 0.9567 - val_loss: 12.5241 - val_categorical_accuracy: 0.4324\n",
      "Epoch 63/100\n",
      "11898/11898 [==============================] - 50s 4ms/step - loss: 0.0614 - categorical_accuracy: 0.9585 - val_loss: 12.7671 - val_categorical_accuracy: 0.4339\n",
      "Epoch 64/100\n",
      "11898/11898 [==============================] - 52s 4ms/step - loss: 0.0557 - categorical_accuracy: 0.9645 - val_loss: 13.4192 - val_categorical_accuracy: 0.4535\n",
      "Epoch 65/100\n",
      "11898/11898 [==============================] - 51s 4ms/step - loss: 0.0541 - categorical_accuracy: 0.9639 - val_loss: 14.0752 - val_categorical_accuracy: 0.4467\n",
      "Epoch 66/100\n",
      "11898/11898 [==============================] - 51s 4ms/step - loss: 0.0540 - categorical_accuracy: 0.9660 - val_loss: 13.9410 - val_categorical_accuracy: 0.4558\n",
      "Epoch 67/100\n",
      "11898/11898 [==============================] - 51s 4ms/step - loss: 0.0434 - categorical_accuracy: 0.9711 - val_loss: 13.4363 - val_categorical_accuracy: 0.4437\n",
      "Epoch 68/100\n",
      "11898/11898 [==============================] - 52s 4ms/step - loss: 0.0402 - categorical_accuracy: 0.9727 - val_loss: 13.5888 - val_categorical_accuracy: 0.4580\n",
      "Epoch 69/100\n",
      "11898/11898 [==============================] - 52s 4ms/step - loss: 0.0479 - categorical_accuracy: 0.9747 - val_loss: 13.6798 - val_categorical_accuracy: 0.4550\n",
      "Epoch 70/100\n",
      "11898/11898 [==============================] - 52s 4ms/step - loss: 0.0363 - categorical_accuracy: 0.9723 - val_loss: 14.4452 - val_categorical_accuracy: 0.4429\n",
      "Epoch 71/100\n",
      "11898/11898 [==============================] - 52s 4ms/step - loss: 0.0429 - categorical_accuracy: 0.9744 - val_loss: 13.5585 - val_categorical_accuracy: 0.4376\n",
      "Epoch 72/100\n",
      "11898/11898 [==============================] - 52s 4ms/step - loss: 0.0402 - categorical_accuracy: 0.9789 - val_loss: 14.0608 - val_categorical_accuracy: 0.4512\n",
      "Epoch 73/100\n",
      "11898/11898 [==============================] - 52s 4ms/step - loss: 0.0416 - categorical_accuracy: 0.9755 - val_loss: 13.8135 - val_categorical_accuracy: 0.4376\n",
      "Epoch 74/100\n",
      "11898/11898 [==============================] - 52s 4ms/step - loss: 0.0427 - categorical_accuracy: 0.9796 - val_loss: 14.5336 - val_categorical_accuracy: 0.4437\n",
      "Epoch 75/100\n",
      "11898/11898 [==============================] - 52s 4ms/step - loss: 0.0352 - categorical_accuracy: 0.9790 - val_loss: 15.4563 - val_categorical_accuracy: 0.4694\n",
      "Epoch 76/100\n",
      "11898/11898 [==============================] - 52s 4ms/step - loss: 0.0406 - categorical_accuracy: 0.9812 - val_loss: 13.8370 - val_categorical_accuracy: 0.4316\n",
      "Epoch 77/100\n",
      "11898/11898 [==============================] - 52s 4ms/step - loss: 0.0446 - categorical_accuracy: 0.9823 - val_loss: 14.3104 - val_categorical_accuracy: 0.4399\n",
      "Epoch 78/100\n",
      "11898/11898 [==============================] - 53s 4ms/step - loss: 0.0287 - categorical_accuracy: 0.9850 - val_loss: 14.7055 - val_categorical_accuracy: 0.4505\n",
      "Epoch 79/100\n",
      "11898/11898 [==============================] - 52s 4ms/step - loss: 0.0313 - categorical_accuracy: 0.9831 - val_loss: 15.1558 - val_categorical_accuracy: 0.4800\n",
      "Epoch 80/100\n",
      "11898/11898 [==============================] - 53s 4ms/step - loss: 0.0325 - categorical_accuracy: 0.9848 - val_loss: 15.5729 - val_categorical_accuracy: 0.4860\n",
      "Epoch 81/100\n",
      "11898/11898 [==============================] - 53s 4ms/step - loss: 0.0257 - categorical_accuracy: 0.9846 - val_loss: 15.7512 - val_categorical_accuracy: 0.4837\n",
      "Epoch 82/100\n",
      "11898/11898 [==============================] - 53s 4ms/step - loss: 0.0294 - categorical_accuracy: 0.9867 - val_loss: 15.1419 - val_categorical_accuracy: 0.4354\n",
      "Epoch 83/100\n",
      "11898/11898 [==============================] - 53s 4ms/step - loss: 0.0298 - categorical_accuracy: 0.9862 - val_loss: 14.5651 - val_categorical_accuracy: 0.4376\n",
      "Epoch 84/100\n",
      "11898/11898 [==============================] - 53s 4ms/step - loss: 0.0238 - categorical_accuracy: 0.9839 - val_loss: 15.3676 - val_categorical_accuracy: 0.4482\n",
      "Epoch 85/100\n",
      "11898/11898 [==============================] - 53s 4ms/step - loss: 0.0348 - categorical_accuracy: 0.9880 - val_loss: 15.5458 - val_categorical_accuracy: 0.4573\n",
      "Epoch 86/100\n",
      "11898/11898 [==============================] - 57s 5ms/step - loss: 0.0274 - categorical_accuracy: 0.9866 - val_loss: 15.2613 - val_categorical_accuracy: 0.4482\n",
      "Epoch 87/100\n",
      "11898/11898 [==============================] - 53s 4ms/step - loss: 0.0284 - categorical_accuracy: 0.9871 - val_loss: 14.7419 - val_categorical_accuracy: 0.4361\n",
      "Epoch 88/100\n",
      "11898/11898 [==============================] - 53s 4ms/step - loss: 0.0295 - categorical_accuracy: 0.9892 - val_loss: 16.3941 - val_categorical_accuracy: 0.4535\n",
      "Epoch 89/100\n",
      "11898/11898 [==============================] - 53s 4ms/step - loss: 0.0220 - categorical_accuracy: 0.9876 - val_loss: 15.9677 - val_categorical_accuracy: 0.4664\n",
      "Epoch 90/100\n",
      "11898/11898 [==============================] - 55s 5ms/step - loss: 0.0309 - categorical_accuracy: 0.9880 - val_loss: 15.2045 - val_categorical_accuracy: 0.4664\n",
      "Epoch 91/100\n",
      "11898/11898 [==============================] - 53s 4ms/step - loss: 0.0274 - categorical_accuracy: 0.9881 - val_loss: 15.6563 - val_categorical_accuracy: 0.4679\n",
      "Epoch 92/100\n",
      "11898/11898 [==============================] - 53s 4ms/step - loss: 0.0270 - categorical_accuracy: 0.9890 - val_loss: 14.8378 - val_categorical_accuracy: 0.4384\n",
      "Epoch 93/100\n",
      "11898/11898 [==============================] - 54s 5ms/step - loss: 0.0229 - categorical_accuracy: 0.9889 - val_loss: 16.9166 - val_categorical_accuracy: 0.5042\n",
      "Epoch 94/100\n",
      "11898/11898 [==============================] - 54s 4ms/step - loss: 0.0264 - categorical_accuracy: 0.9913 - val_loss: 15.4486 - val_categorical_accuracy: 0.4482\n",
      "Epoch 95/100\n"
     ]
    },
    {
     "name": "stdout",
     "output_type": "stream",
     "text": [
      "11898/11898 [==============================] - 54s 5ms/step - loss: 0.0258 - categorical_accuracy: 0.9903 - val_loss: 15.9400 - val_categorical_accuracy: 0.4724\n",
      "Epoch 96/100\n",
      "11898/11898 [==============================] - 54s 5ms/step - loss: 0.0220 - categorical_accuracy: 0.9901 - val_loss: 15.8811 - val_categorical_accuracy: 0.4701\n",
      "Epoch 97/100\n",
      "11898/11898 [==============================] - 54s 5ms/step - loss: 0.0263 - categorical_accuracy: 0.9925 - val_loss: 16.7840 - val_categorical_accuracy: 0.4664\n",
      "Epoch 98/100\n",
      "11898/11898 [==============================] - 54s 5ms/step - loss: 0.0204 - categorical_accuracy: 0.9903 - val_loss: 17.6002 - val_categorical_accuracy: 0.4633\n",
      "Epoch 99/100\n",
      "11898/11898 [==============================] - 53s 4ms/step - loss: 0.0253 - categorical_accuracy: 0.9913 - val_loss: 16.7761 - val_categorical_accuracy: 0.4906\n",
      "Epoch 100/100\n",
      "11898/11898 [==============================] - 54s 5ms/step - loss: 0.0200 - categorical_accuracy: 0.9913 - val_loss: 16.8858 - val_categorical_accuracy: 0.4807\n"
     ]
    },
    {
     "data": {
      "image/png": "[encoded data removed]",
      "text/plain": [
       "<Figure size 432x288 with 1 Axes>"
      ]
     },
     "metadata": {
      "needs_background": "light"
     },
     "output_type": "display_data"
    },
    {
     "data": {
      "image/png": "[encoded data removed]",
      "text/plain": [
       "<Figure size 432x288 with 1 Axes>"
      ]
     },
     "metadata": {
      "needs_background": "light"
     },
     "output_type": "display_data"
    }
   ],
   "source": [
    "# model training\n",
    "mlp_model = models.MLP(train_x_sub,)\n",
    "\n",
    "history = mlp_model.fit(\n",
    "    train_x_sub,                      \n",
    "    label_train,\n",
    "    epochs=100,\n",
    "    batch_size=64,\n",
    "    verbose=1,\n",
    "    class_weight = classWeight,\n",
    "    validation_split=0.1\n",
    ")\n",
    "helpers.plot(history)"
   ]
  },
  {
   "cell_type": "code",
   "execution_count": 9,
   "metadata": {},
   "outputs": [
    {
     "name": "stdout",
     "output_type": "stream",
     "text": [
      "categorical_accuracy of training data : 0.743 \n",
      "Accuracy on training data : 94.509 %\n",
      "F1 score on test: 94.509 %\n",
      "Accuracy score on test: 94.509 %\n"
     ]
    }
   ],
   "source": [
    "score_train = mlp_model.evaluate(\n",
    "    train_x_sub,\n",
    "    label_train,\n",
    "    batch_size=64,\n",
    "    verbose=0\n",
    ")\n",
    "print('categorical_accuracy of training data : {0:0.3f} '.format(score_train[0]))\n",
    "print('Accuracy on training data : {0:0.3f} %'.format(100*score_train[1]))\n",
    "mlp_train_proba = mlp_model.predict_proba(np.array(train_x_sub))\n",
    "mlp_train_predictions = mlp_model.predict_classes(np.array(train_x_sub))\n",
    "\n",
    "mlp_train_f1_score =  metrics.f1_score(y_train_as_is, mlp_train_predictions,average = \"micro\")\n",
    "mlp_train_accuracy = metrics.accuracy_score(y_train_as_is, mlp_train_predictions)\n",
    "print('F1 score on test: {0:0.3f} %'.format(100*mlp_train_f1_score))\n",
    "print('Accuracy score on test: {0:0.3f} %'.format(100*mlp_train_accuracy))\n",
    "helpers.export_results(test_index, mlp_train_proba)"
   ]
  },
  {
   "cell_type": "code",
   "execution_count": null,
   "metadata": {},
   "outputs": [],
   "source": []
  },
  {
   "cell_type": "code",
   "execution_count": null,
   "metadata": {},
   "outputs": [],
   "source": []
  },
  {
   "cell_type": "code",
   "execution_count": null,
   "metadata": {},
   "outputs": [],
   "source": []
  }
 ],
 "metadata": {
  "kernelspec": {
   "display_name": "Python 3",
   "language": "python",
   "name": "python3"
  },
  "language_info": {
   "codemirror_mode": {
    "name": "ipython",
    "version": 3
   },
   "file_extension": ".py",
   "mimetype": "text/x-python",
   "name": "python",
   "nbconvert_exporter": "python",
   "pygments_lexer": "ipython3",
   "version": "3.7.6"
  }
 },
 "nbformat": 4,
 "nbformat_minor": 4
}
