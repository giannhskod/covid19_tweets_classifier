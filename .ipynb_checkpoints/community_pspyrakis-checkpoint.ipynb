{
 "cells": [
  {
   "cell_type": "code",
   "execution_count": 1,
   "metadata": {},
   "outputs": [],
   "source": [
    "import csv\n",
    "import networkx as nx\n",
    "import numpy as np\n",
    "from sklearn.linear_model import LogisticRegression\n",
    "import community as community_louvain\n",
    "from sklearn.model_selection import train_test_split\n",
    "from sklearn.metrics import log_loss\n",
    "from sklearn.pipeline import make_pipeline\n",
    "from sklearn.preprocessing import StandardScaler\n",
    "from sklearn.svm import SVC\n",
    "from sklearn.ensemble import RandomForestClassifier\n",
    "from sklearn.linear_model import SGDClassifier\n",
    "from random import randint"
   ]
  },
  {
   "cell_type": "markdown",
   "metadata": {},
   "source": [
    "### Load the retweet network as a directed graph"
   ]
  },
  {
   "cell_type": "code",
   "execution_count": 2,
   "metadata": {},
   "outputs": [
    {
     "name": "stdout",
     "output_type": "stream",
     "text": [
      "Number of nodes: 784898\n",
      "Number of edges: 7401920\n"
     ]
    }
   ],
   "source": [
    "G = nx.read_weighted_edgelist(\"data/retweet_weighted.edgelist\", create_using=nx.DiGraph(), nodetype=int)\n",
    "\n",
    "print(\"Number of nodes:\", G.number_of_nodes())\n",
    "print(\"Number of edges:\", G.number_of_edges())"
   ]
  },
  {
   "cell_type": "markdown",
   "metadata": {},
   "source": [
    "### Store the ID of the user that posted each message, and initialize for each user a 15-dimensional vector that will store the number of messages of each class posted by the user"
   ]
  },
  {
   "cell_type": "code",
   "execution_count": 3,
   "metadata": {},
   "outputs": [],
   "source": [
    "posted_by = dict()\n",
    "posts_per_class = dict()\n",
    "users = list()\n",
    "with open('data/posts.tsv', 'r') as f:\n",
    "    for line in f:\n",
    "        t = line.split('\\t')\n",
    "        posted_by[int(t[0])] = int(t[1])\n",
    "        posts_per_class[int(t[1])] = np.zeros(15)\n",
    "        users.append(int(t[1]))\n",
    "users = set(users)"
   ]
  },
  {
   "cell_type": "markdown",
   "metadata": {},
   "source": [
    "### Read training data. Given a message posted by user A that belongs to class B, increase the number of posts of class B posted by user A by 1 "
   ]
  },
  {
   "cell_type": "code",
   "execution_count": 4,
   "metadata": {},
   "outputs": [],
   "source": [
    "train_index = list()\n",
    "y_train = list()    \n",
    "with open('data/train.csv', 'r') as f:\n",
    "    for line in f:\n",
    "        t = line.split(',')\n",
    "        train_index.append(int(t[0]))\n",
    "        y_train.append(int(t[1]))\n",
    "        posts_per_class[posted_by[int(t[0])]][int(t[1][:-1])] += 1"
   ]
  },
  {
   "cell_type": "markdown",
   "metadata": {},
   "source": [
    "### Read test data"
   ]
  },
  {
   "cell_type": "code",
   "execution_count": 5,
   "metadata": {},
   "outputs": [],
   "source": [
    "test_index = list()  \n",
    "with open('data/test.csv', 'r') as f:\n",
    "    for line in f:\n",
    "        t = line.split(',')\n",
    "        test_index.append(int(t[0]))"
   ]
  },
  {
   "cell_type": "markdown",
   "metadata": {},
   "source": [
    "## Community Detection"
   ]
  },
  {
   "cell_type": "code",
   "execution_count": null,
   "metadata": {},
   "outputs": [],
   "source": [
    "G_un = G.copy().to_undirected()\n",
    "# for node in G:\n",
    "#     for ngbr in nx.neighbors(G, node):\n",
    "#         if node in nx.neighbors(G, ngbr):\n",
    "#             G_un.edges[node, ngbr]['weight'] = (\n",
    "#                 G.edges[node, ngbr]['weight'] + G.edges[ngbr, node]['weight']\n",
    "#             )"
   ]
  },
  {
   "cell_type": "code",
   "execution_count": null,
   "metadata": {},
   "outputs": [],
   "source": [
    "print(\"Number of edges:\", G.number_of_edges())\n",
    "print(\"Number of undirected edges:\", G_un.number_of_edges())"
   ]
  },
  {
   "cell_type": "code",
   "execution_count": null,
   "metadata": {},
   "outputs": [],
   "source": [
    "initial_partition = dict()\n",
    "for user in G.nodes():\n",
    "    initial_partition[user] = -1\n",
    "    has_succ = False\n",
    "    has_pred = False\n",
    "    succ_posts_per_class = np.zeros((1, 15))\n",
    "    pred_posts_per_class = np.zeros((1, 15))\n",
    "    for successor in G.successors(user):\n",
    "        if successor in posts_per_class:\n",
    "            has_succ = True\n",
    "            succ_posts_per_class[0,:15] += posts_per_class[successor]\n",
    "    for predecessor in G.predecessors(user):\n",
    "        if predecessor in posts_per_class:\n",
    "            has_pred = True\n",
    "            pred_posts_per_class[0,:15] += posts_per_class[predecessor]\n",
    "\n",
    "    if user in posts_per_class:\n",
    "        initial_partition[user] = posts_per_class[user].tolist().index(max(posts_per_class[user]))\n",
    "    elif has_pred:\n",
    "        maxValue = np.max(pred_posts_per_class)\n",
    "        index_of_maximum = (np.where(pred_posts_per_class[0] == maxValue)[0])[0]\n",
    "        if(user%2 == 0):\n",
    "            initial_partition[user] = index_of_maximum+15\n",
    "        else:\n",
    "            initial_partition[user] = index_of_maximum+30\n",
    "    elif has_succ:\n",
    "        maxValue = np.max(succ_posts_per_class)\n",
    "        index_of_maximum = (np.where(succ_posts_per_class[0] == maxValue)[0])[0]\n",
    "        if(user%2 == 0):\n",
    "            initial_partition[user] = index_of_maximum+45\n",
    "        else:\n",
    "            initial_partition[user] = index_of_maximum+60\n"
   ]
  },
  {
   "cell_type": "code",
   "execution_count": null,
   "metadata": {
    "scrolled": true
   },
   "outputs": [],
   "source": [
    "for comm in set(initial_partition.values()):\n",
    "    times = list(initial_partition.values()).count(comm)\n",
    "    print('{} has occurred {} times'.format(comm, times))"
   ]
  },
  {
   "cell_type": "code",
   "execution_count": null,
   "metadata": {},
   "outputs": [],
   "source": [
    "# compute the best partition\n",
    "partition = community_louvain.best_partition(G_un,resolution = 0.8)"
   ]
  },
  {
   "cell_type": "code",
   "execution_count": null,
   "metadata": {
    "scrolled": true
   },
   "outputs": [],
   "source": [
    "for comm in set(partition.values()):\n",
    "    times = list(partition.values()).count(comm)\n",
    "    print('{} has occurred {} times'.format(comm, times))\n"
   ]
  },
  {
   "cell_type": "markdown",
   "metadata": {},
   "source": [
    "### Calculate the posibility of each class per community"
   ]
  },
  {
   "cell_type": "code",
   "execution_count": null,
   "metadata": {},
   "outputs": [],
   "source": [
    "items_per_comm = np.zeros((len(set(partition.values())), 15))\n",
    "pos_per_comm = np.zeros((len(set(partition.values())), 15))\n",
    "for i,idx in enumerate(train_index):\n",
    "    community = partition[posted_by[idx]]\n",
    "    items_per_comm[community,:15] += posts_per_class[posted_by[idx]]\n",
    "pos_per_comm = items_per_comm\n",
    "for i in range(0,len(pos_per_comm)):   \n",
    "    if np.sum(items_per_comm[i,:15]) > 0:\n",
    "        pos_per_comm[i,:15] /= np.sum(items_per_comm[i,:15])"
   ]
  },
  {
   "cell_type": "markdown",
   "metadata": {},
   "source": [
    " ### Create the training matrix. Each row corresponds to a message. Use the following 15-dimensional vector of the user that posted the message and concatenate to that vector the following three features:<br/>(1) in-degree of user <br/> (2) out-degree of user <br/> (3) community user belongs to"
   ]
  },
  {
   "cell_type": "code",
   "execution_count": null,
   "metadata": {},
   "outputs": [],
   "source": [
    "X_train = np.zeros((len(train_index), 17))\n",
    "for i,idx in enumerate(train_index):\n",
    "    for successor in G.successors(posted_by[idx]):\n",
    "        if partition[successor] == partition[posted_by[idx]]:\n",
    "            if successor in posts_per_class:\n",
    "                X_train[i,:15] += posts_per_class[successor]\n",
    "    \n",
    "    for predecessor in G.predecessors(posted_by[idx]):\n",
    "        if partition[predecessor] == partition[posted_by[idx]]:\n",
    "            if predecessor in posts_per_class:\n",
    "                X_train[i,:15] += posts_per_class[predecessor]\n",
    "    if np.sum(X_train[i,:15]) > 0:\n",
    "        X_train[i,:15] /= np.sum(X_train[i,:15])\n",
    "    \n",
    "    X_train[i,15] = G_un.degree(posted_by[idx])\n",
    "    X_train[i,16] = partition[posted_by[idx]]\n",
    "X_train_dev, X_test_dev, y_train_dev, y_test_dev = train_test_split(X_train, y_train, test_size=0.2)"
   ]
  },
  {
   "cell_type": "markdown",
   "metadata": {},
   "source": [
    "### Create the test matrix. Each row corresponds to a message.Use the following 15-dimensional vector of the user that posted the message and concatenate to that vector the following three features: <br/>(1) in-degree of user<br/>(2) out-degree of user <br/> (3) community user belongs to"
   ]
  },
  {
   "cell_type": "code",
   "execution_count": null,
   "metadata": {},
   "outputs": [],
   "source": [
    "X_test = np.zeros((len(test_index), 17))\n",
    "for i,idx in enumerate(test_index):\n",
    "    for successor in G.successors(posted_by[idx]):\n",
    "        if partition[successor] == partition[posted_by[idx]]:\n",
    "            if successor in posts_per_class:\n",
    "                X_test[i,:15] += posts_per_class[successor]\n",
    "    \n",
    "    for predecessor in G.predecessors(posted_by[idx]):\n",
    "        if partition[predecessor] == partition[posted_by[idx]]:\n",
    "            if predecessor in posts_per_class:\n",
    "                X_test[i,:15] += posts_per_class[predecessor]\n",
    "\n",
    "    if np.sum(X_test[i,:15]) > 0:\n",
    "        X_test[i,:15] /= np.sum(X_test[i,:15])\n",
    "\n",
    "    X_test[i,15] = G_un.degree(posted_by[idx])\n",
    "    X_test[i,16] = partition[posted_by[idx]]"
   ]
  },
  {
   "cell_type": "markdown",
   "metadata": {},
   "source": [
    "### Use logistic regression to classify the messages of the test set\n"
   ]
  },
  {
   "cell_type": "code",
   "execution_count": null,
   "metadata": {},
   "outputs": [],
   "source": [
    "clf = LogisticRegression(solver='newton-cg', multi_class='auto')\n",
    "clf.fit(X_train_dev, y_train_dev)\n",
    "y_pred_lin = clf.predict_proba(X_test_dev)\n",
    "y_pred_dev_lin = clf.predict_proba(X_test_dev)"
   ]
  },
  {
   "cell_type": "code",
   "execution_count": null,
   "metadata": {
    "scrolled": true
   },
   "outputs": [],
   "source": [
    "log = log_loss(y_test_dev,y_pred_dev_lin)\n",
    "print(\"log loss lin:\", log)"
   ]
  },
  {
   "cell_type": "code",
   "execution_count": null,
   "metadata": {},
   "outputs": [],
   "source": [
    "clf = make_pipeline(StandardScaler(), SVC(gamma='auto',probability = True,class_weight='balanced'))\n",
    "clf.fit(X_train_dev, y_train_dev)\n",
    "y_pred = clf.predict_proba(X_test_dev)\n",
    "y_pred_dev_SVC = clf.predict_proba(X_test_dev)"
   ]
  },
  {
   "cell_type": "code",
   "execution_count": null,
   "metadata": {},
   "outputs": [],
   "source": [
    "log = log_loss(y_test_dev,y_pred_dev_SVC)\n",
    "print(\"log loss SVC:\", log)"
   ]
  },
  {
   "cell_type": "code",
   "execution_count": null,
   "metadata": {
    "scrolled": true
   },
   "outputs": [],
   "source": [
    "clf = RandomForestClassifier(max_depth=12,criterion = 'entropy')\n",
    "clf.fit(X_train_dev, y_train_dev)\n",
    "y_pred = clf.predict_proba(X_test_dev)\n",
    "y_pred_dev_Forest = clf.predict_proba(X_test_dev)"
   ]
  },
  {
   "cell_type": "code",
   "execution_count": null,
   "metadata": {},
   "outputs": [],
   "source": [
    "log = log_loss(y_test_dev,y_pred_dev_Forest)\n",
    "print(\"log loss forest:\", log)"
   ]
  },
  {
   "cell_type": "code",
   "execution_count": null,
   "metadata": {},
   "outputs": [],
   "source": [
    "clf = clf = make_pipeline(StandardScaler(),\n",
    "                          SGDClassifier(tol=1e-6,\n",
    "                                        loss = 'log',\n",
    "                                        eta0 = 0.0001,\n",
    "                                        learning_rate = 'adaptive'))\n",
    "clf.fit(X_train_dev, y_train_dev)\n",
    "y_pred = clf.predict_proba(X_test_dev)\n",
    "y_pred_dev_SGD = clf.predict_proba(X_test_dev)"
   ]
  },
  {
   "cell_type": "code",
   "execution_count": null,
   "metadata": {},
   "outputs": [],
   "source": [
    "log = log_loss(y_test_dev,y_pred_dev_SGD)\n",
    "print(\"log loss SGD:\", log)"
   ]
  },
  {
   "cell_type": "markdown",
   "metadata": {},
   "source": [
    "### Write predictions to a file"
   ]
  },
  {
   "cell_type": "code",
   "execution_count": null,
   "metadata": {},
   "outputs": [],
   "source": [
    "with open('best_so_far.csv', 'w') as csvfile:\n",
    "    writer = csv.writer(csvfile, delimiter=',')\n",
    "    lst = ['id']\n",
    "    for i in range(15):\n",
    "        lst.append('class_'+str(i))\n",
    "    writer.writerow(lst)\n",
    "    for i,idx in enumerate(test_index):\n",
    "        lst = y_pred[i,:].tolist()\n",
    "        lst.insert(0, idx)\n",
    "        writer.writerow(lst)"
   ]
  },
  {
   "cell_type": "markdown",
   "metadata": {},
   "source": [
    "### Community Detection2\n",
    "#### Girvan Newman method which takes a lot of time"
   ]
  },
  {
   "cell_type": "code",
   "execution_count": null,
   "metadata": {},
   "outputs": [],
   "source": [
    "def edge_to_remove(graph):\n",
    "  G_dict = nx.edge_betweenness_centrality(graph)\n",
    "  edge = ()\n",
    "\n",
    "  # extract the edge with highest edge betweenness centrality score\n",
    "  for key, value in sorted(G_dict.items(), key=lambda item: item[1], reverse = True):\n",
    "      edge = key\n",
    "      break\n",
    "\n",
    "  return edge"
   ]
  },
  {
   "cell_type": "code",
   "execution_count": null,
   "metadata": {},
   "outputs": [],
   "source": [
    "def girvan_newman(graph):\n",
    "    # find number of connected components\n",
    "    sg = nx.connected_components(graph)\n",
    "    sg_count = nx.number_connected_components(graph)\n",
    "\n",
    "    while(sg_count == 1):\n",
    "        graph.remove_edge(edge_to_remove(graph)[0], edge_to_remove(graph)[1])\n",
    "        sg = nx.connected_components(graph)\n",
    "        sg_count = nx.number_connected_components(graph)\n",
    "\n",
    "    return sg"
   ]
  },
  {
   "cell_type": "code",
   "execution_count": null,
   "metadata": {},
   "outputs": [],
   "source": [
    "# find communities in the graph\n",
    "c = girvan_newman(G_un.copy())\n",
    "\n",
    "# find the nodes forming the communities\n",
    "node_groups = []\n",
    "\n",
    "for i in c:\n",
    "  node_groups.append(list(i))"
   ]
  }
 ],
 "metadata": {
  "kernelspec": {
   "display_name": "Python 3",
   "language": "python",
   "name": "python3"
  },
  "language_info": {
   "codemirror_mode": {
    "name": "ipython",
    "version": 3
   },
   "file_extension": ".py",
   "mimetype": "text/x-python",
   "name": "python",
   "nbconvert_exporter": "python",
   "pygments_lexer": "ipython3",
   "version": "3.7.6"
  }
 },
 "nbformat": 4,
 "nbformat_minor": 4
}
