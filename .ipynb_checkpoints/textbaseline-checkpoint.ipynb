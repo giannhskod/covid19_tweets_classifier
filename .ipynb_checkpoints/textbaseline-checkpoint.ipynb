{
 "cells": [
  {
   "cell_type": "code",
   "execution_count": 2,
   "metadata": {},
   "outputs": [
    {
     "name": "stdout",
     "output_type": "stream",
     "text": [
      "Train matrix dimensionality:  (13221, 5671)\n",
      "Test matrix dimensionality:  (3306, 5671)\n"
     ]
    }
   ],
   "source": [
    "import csv\n",
    "import numpy as np\n",
    "from sklearn.feature_extraction.text import TfidfVectorizer\n",
    "from sklearn.linear_model import LogisticRegression\n",
    "from sklearn.svm import SVC\n",
    "# Read training data\n",
    "train_index = list()\n",
    "y_train = list()    \n",
    "with open('data/train.csv', 'r') as f:\n",
    "    for line in f:\n",
    "        t = line.split(',')\n",
    "        train_index.append(int(t[0]))\n",
    "        y_train.append(int(t[1]))\n",
    "\n",
    "# Read test data\n",
    "test_index = list()  \n",
    "with open('data/test.csv', 'r') as f:\n",
    "    for line in f:\n",
    "        t = line.split(',')\n",
    "        test_index.append(int(t[0]))\n",
    "\n",
    "# Load the textual content of the messages into the dictionary \"posts\"\n",
    "posts = dict()\n",
    "with open('data/posts.tsv', 'r') as f:\n",
    "    for line in f:\n",
    "        t = line.split('\\t')\n",
    "        posts[int(t[0])] = t[2][:-1]\n",
    "\n",
    "# Create 2 lists: one containing the messages of the training set and the other containing the messages of the\n",
    "# test set\n",
    "train_posts = [posts[idx] for idx in train_index]\n",
    "test_posts = [posts[idx] for idx in test_index]\n",
    "\n",
    "# Create the training matrix. Each row corresponds to a message and each column to a word present in at least 5\n",
    "# messages of the training set. The value of each entry in a row is equal to the tf-idf weight of that word in the \n",
    "# corresponding message \n",
    "vectorizer = TfidfVectorizer(stop_words='english',min_df=5)\n",
    "X_train = vectorizer.fit_transform(train_posts)\n",
    "\n",
    "# Create the test matrix following the same approach as in the case of the training matrix\n",
    "X_test = vectorizer.transform(test_posts)\n",
    "\n",
    "print(\"Train matrix dimensionality: \", X_train.shape)\n",
    "print(\"Test matrix dimensionality: \", X_test.shape)\n",
    "\n",
    "# Use logistic regression to classify the messages of the test set\n",
    "clf = LogisticRegression(solver='newton-cg', multi_class='multinomial')\n",
    "clf.fit(X_train, y_train)\n",
    "y_pred_train = clf.predict_proba(X_train)\n",
    "y_pred = clf.predict_proba(X_test)\n",
    "\n",
    "# Write predictions to a file\n",
    "with open('text_train_baseline_submission.csv', 'w') as csvfile:\n",
    "    writer = csv.writer(csvfile, delimiter=',')\n",
    "    lst = ['id']\n",
    "    for i in range(15):\n",
    "        lst.append('class_'+str(i))\n",
    "    writer.writerow(lst)\n",
    "    for i,idx in enumerate(train_index):\n",
    "        lst = y_pred_train[i,:].tolist()\n",
    "        lst.insert(0, idx)\n",
    "        writer.writerow(lst)\n",
    "        \n",
    "\n",
    "# Write predictions to a file\n",
    "with open('text_baseline_submission.csv', 'w') as csvfile:\n",
    "    writer = csv.writer(csvfile, delimiter=',')\n",
    "    lst = ['id']\n",
    "    for i in range(15):\n",
    "        lst.append('class_'+str(i))\n",
    "    writer.writerow(lst)\n",
    "    for i,idx in enumerate(test_index):\n",
    "        lst = y_pred[i,:].tolist()\n",
    "        lst.insert(0, idx)\n",
    "        writer.writerow(lst)"
   ]
  },
  {
   "cell_type": "code",
   "execution_count": null,
   "metadata": {},
   "outputs": [],
   "source": []
  }
 ],
 "metadata": {
  "kernelspec": {
   "display_name": "Python 3",
   "language": "python",
   "name": "python3"
  },
  "language_info": {
   "codemirror_mode": {
    "name": "ipython",
    "version": 3
   },
   "file_extension": ".py",
   "mimetype": "text/x-python",
   "name": "python",
   "nbconvert_exporter": "python",
   "pygments_lexer": "ipython3",
   "version": "3.7.6"
  }
 },
 "nbformat": 4,
 "nbformat_minor": 4
}
