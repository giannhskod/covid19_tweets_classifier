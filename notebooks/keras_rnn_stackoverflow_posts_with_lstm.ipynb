{
 "cells": [
  {
   "cell_type": "markdown",
   "metadata": {},
   "source": [
    "# Text Classification of StackOverflow using BiLSTM RNNs with deep self-attention"
   ]
  },
  {
   "cell_type": "code",
   "execution_count": 1,
   "metadata": {},
   "outputs": [
    {
     "name": "stderr",
     "output_type": "stream",
     "text": [
      "Using TensorFlow backend.\n"
     ]
    },
    {
     "data": {
      "application/javascript": [
       "\n",
       "            setTimeout(function() {\n",
       "                var nbb_cell_id = 1;\n",
       "                var nbb_unformatted_code = \"%load_ext autoreload\\n%load_ext nb_black\\n%autoreload 2\\n\\nimport sys\\nimport os\\nimport parent_modules\\n\\nimport warnings\\nimport sklearn.exceptions\\nimport talos as ta\\n\\nfrom os import pardir, getcwd\\nfrom os.path import join, abspath\\nfrom definitions import *\\n\\nwarnings.filterwarnings(\\\"ignore\\\", category=sklearn.exceptions.UndefinedMetricWarning)\\nwarnings.simplefilter(action=\\\"ignore\\\", category=FutureWarning)\\n\\nfrom definitions import TALOS_DIR\\nfrom app.preprocessing import (\\n    load_dataset,\\n    load_embeddings,\\n    preprocess_data,\\n    save_embeddings_matrix,\\n)\\nfrom app.models import load_bi_lstm_model, find_best_model_over_scan_logs\\nfrom app.metrics import *\\n\\n# Comment out In case of Testing use only a set of the tags as dataset\\nRUN_STATE = \\\"testing\\\"\\n\\n# Comment out In case of Production use all the tags of the dataset\\n# RUN_STATE = 'production'\";\n",
       "                var nbb_formatted_code = \"%load_ext autoreload\\n%load_ext nb_black\\n%autoreload 2\\n\\nimport sys\\nimport os\\nimport parent_modules\\n\\nimport warnings\\nimport sklearn.exceptions\\nimport talos as ta\\n\\nfrom os import pardir, getcwd\\nfrom os.path import join, abspath\\nfrom definitions import *\\n\\nwarnings.filterwarnings(\\\"ignore\\\", category=sklearn.exceptions.UndefinedMetricWarning)\\nwarnings.simplefilter(action=\\\"ignore\\\", category=FutureWarning)\\n\\nfrom definitions import TALOS_DIR\\nfrom app.preprocessing import (\\n    load_dataset,\\n    load_embeddings,\\n    preprocess_data,\\n    save_embeddings_matrix,\\n)\\nfrom app.models import load_bi_lstm_model, find_best_model_over_scan_logs\\nfrom app.metrics import *\\n\\n# Comment out In case of Testing use only a set of the tags as dataset\\nRUN_STATE = \\\"testing\\\"\\n\\n# Comment out In case of Production use all the tags of the dataset\\n# RUN_STATE = 'production'\";\n",
       "                var nbb_cells = Jupyter.notebook.get_cells();\n",
       "                for (var i = 0; i < nbb_cells.length; ++i) {\n",
       "                    if (nbb_cells[i].input_prompt_number == nbb_cell_id) {\n",
       "                        if (nbb_cells[i].get_text() == nbb_unformatted_code) {\n",
       "                             nbb_cells[i].set_text(nbb_formatted_code);\n",
       "                        }\n",
       "                        break;\n",
       "                    }\n",
       "                }\n",
       "            }, 500);\n",
       "            "
      ],
      "text/plain": [
       "<IPython.core.display.Javascript object>"
      ]
     },
     "metadata": {},
     "output_type": "display_data"
    }
   ],
   "source": [
    "%load_ext autoreload\n",
    "%load_ext nb_black\n",
    "%autoreload 2\n",
    "\n",
    "import sys\n",
    "import os\n",
    "import parent_modules\n",
    "\n",
    "import warnings\n",
    "import sklearn.exceptions\n",
    "import talos as ta\n",
    "\n",
    "from os import pardir, getcwd\n",
    "from os.path import join, abspath\n",
    "from definitions import *\n",
    "\n",
    "warnings.filterwarnings(\"ignore\", category=sklearn.exceptions.UndefinedMetricWarning)\n",
    "warnings.simplefilter(action=\"ignore\", category=FutureWarning)\n",
    "\n",
    "from definitions import TALOS_DIR\n",
    "from app.preprocessing import (\n",
    "    load_dataset,\n",
    "    load_embeddings,\n",
    "    preprocess_data,\n",
    "    save_embeddings_matrix,\n",
    ")\n",
    "from app.models import load_bi_lstm_model, find_best_model_over_scan_logs\n",
    "from app.metrics import *\n",
    "\n",
    "# Comment out In case of Testing use only a set of the tags as dataset\n",
    "RUN_STATE = \"testing\"\n",
    "\n",
    "# Comment out In case of Production use all the tags of the dataset\n",
    "# RUN_STATE = 'production'"
   ]
  },
  {
   "cell_type": "markdown",
   "metadata": {},
   "source": [
    "## Preprocessing for the loaded Dataset\n",
    "\n",
    "1. Format into *lowercase*\n",
    "2. Remove some of the *punctuation* characters\n",
    "3. Remove *Numbers*\n",
    "4. Remove *stopwords*\n",
    "5. Remove *links*"
   ]
  },
  {
   "cell_type": "code",
   "execution_count": 2,
   "metadata": {},
   "outputs": [
    {
     "name": "stdout",
     "output_type": "stream",
     "text": [
      "__label__0     3373\n",
      "__label__2     1426\n",
      "__label__3      840\n",
      "__label__4      639\n",
      "__label__1      344\n",
      "__label__10     301\n",
      "__label__14     196\n",
      "__label__11     194\n",
      "__label__12     179\n",
      "__label__13     124\n",
      "__label__5      108\n",
      "__label__8       73\n",
      "__label__9       68\n",
      "__label__6       56\n",
      "__label__7       11\n",
      "Name: label, dtype: int64 ['__label__0', '__label__2', '__label__3', '__label__4', '__label__1', '__label__10', '__label__14', '__label__11', '__label__12', '__label__13', '__label__5', '__label__8', '__label__9', '__label__6', '__label__7'] 15\n"
     ]
    },
    {
     "data": {
      "application/javascript": [
       "\n",
       "            setTimeout(function() {\n",
       "                var nbb_cell_id = 2;\n",
       "                var nbb_unformatted_code = \"data, test_data = load_dataset(load_from_pickle=False, minified=True)\\nclasses_counts = data[\\\"label\\\"].value_counts().where(lambda cls: cls > 0).dropna()\\nClasses = list(classes_counts.index)\\nNclasses = len(Classes)\\nprint(classes_counts, Classes, Nclasses)\";\n",
       "                var nbb_formatted_code = \"data, test_data = load_dataset(load_from_pickle=False, minified=True)\\nclasses_counts = data[\\\"label\\\"].value_counts().where(lambda cls: cls > 0).dropna()\\nClasses = list(classes_counts.index)\\nNclasses = len(Classes)\\nprint(classes_counts, Classes, Nclasses)\";\n",
       "                var nbb_cells = Jupyter.notebook.get_cells();\n",
       "                for (var i = 0; i < nbb_cells.length; ++i) {\n",
       "                    if (nbb_cells[i].input_prompt_number == nbb_cell_id) {\n",
       "                        if (nbb_cells[i].get_text() == nbb_unformatted_code) {\n",
       "                             nbb_cells[i].set_text(nbb_formatted_code);\n",
       "                        }\n",
       "                        break;\n",
       "                    }\n",
       "                }\n",
       "            }, 500);\n",
       "            "
      ],
      "text/plain": [
       "<IPython.core.display.Javascript object>"
      ]
     },
     "metadata": {},
     "output_type": "display_data"
    }
   ],
   "source": [
    "data, test_data = load_dataset(load_from_pickle=False, minified=True)\n",
    "classes_counts = data[\"label\"].value_counts().where(lambda cls: cls > 0).dropna()\n",
    "Classes = list(classes_counts.index)\n",
    "Nclasses = len(Classes)\n",
    "print(classes_counts, Classes, Nclasses)"
   ]
  },
  {
   "cell_type": "markdown",
   "metadata": {},
   "source": [
    "> Download and the fasttext vocabulary from [here](https://dl.fbaipublicfiles.com/fasttext/vectors-crawl/cc.en.300.vec.gz) and add to *data/fasttext_dir/* folder"
   ]
  },
  {
   "cell_type": "code",
   "execution_count": 3,
   "metadata": {},
   "outputs": [
    {
     "data": {
      "application/javascript": [
       "\n",
       "            setTimeout(function() {\n",
       "                var nbb_cell_id = 3;\n",
       "                var nbb_unformatted_code = \"# 70% Train & 30% Test\\n# 70% Train-Dev % 30* Train-Dev\\nembeddings_voc, embeddings_vec = load_embeddings(load_from_pickle=False)\\nmodel_data = preprocess_data(data, \\\"label\\\", \\\"post\\\", cv_split_dev=0.2, minified=True)\\nembeddings_matrix_path = save_embeddings_matrix(\\n    embeddings_voc, embeddings_vec, model_data[\\\"words_index\\\"]\\n)\";\n",
       "                var nbb_formatted_code = \"# 70% Train & 30% Test\\n# 70% Train-Dev % 30* Train-Dev\\nembeddings_voc, embeddings_vec = load_embeddings(load_from_pickle=False)\\nmodel_data = preprocess_data(data, \\\"label\\\", \\\"post\\\", cv_split_dev=0.2, minified=True)\\nembeddings_matrix_path = save_embeddings_matrix(\\n    embeddings_voc, embeddings_vec, model_data[\\\"words_index\\\"]\\n)\";\n",
       "                var nbb_cells = Jupyter.notebook.get_cells();\n",
       "                for (var i = 0; i < nbb_cells.length; ++i) {\n",
       "                    if (nbb_cells[i].input_prompt_number == nbb_cell_id) {\n",
       "                        if (nbb_cells[i].get_text() == nbb_unformatted_code) {\n",
       "                             nbb_cells[i].set_text(nbb_formatted_code);\n",
       "                        }\n",
       "                        break;\n",
       "                    }\n",
       "                }\n",
       "            }, 500);\n",
       "            "
      ],
      "text/plain": [
       "<IPython.core.display.Javascript object>"
      ]
     },
     "metadata": {},
     "output_type": "display_data"
    }
   ],
   "source": [
    "# 70% Train & 30% Test\n",
    "# 70% Train-Dev % 30* Train-Dev\n",
    "embeddings_voc, embeddings_vec = load_embeddings(load_from_pickle=False)\n",
    "model_data = preprocess_data(data, \"label\", \"post\", cv_split_dev=0.2, minified=True)\n",
    "embeddings_matrix_path = save_embeddings_matrix(\n",
    "    embeddings_voc, embeddings_vec, model_data[\"words_index\"]\n",
    ")"
   ]
  },
  {
   "cell_type": "markdown",
   "metadata": {},
   "source": [
    "## Models Definition and Hyperparameter Tuning\n",
    "\n",
    "> Below it will be defined, trained and evaluate the 2 models of RNNs the first with a unistack RNN with BiLSTM and MLP on top of it and the second with a multistack RNN with BiLSTM and MLP on top of it. \n",
    "The hyperparameter tuning is implemented throw the Talos library and will calculate the best configuration for each of the 2 models."
   ]
  },
  {
   "cell_type": "markdown",
   "metadata": {},
   "source": [
    "### UniStacked RNN with BiLSTM"
   ]
  },
  {
   "cell_type": "code",
   "execution_count": 4,
   "metadata": {},
   "outputs": [
    {
     "data": {
      "application/javascript": [
       "\n",
       "            setTimeout(function() {\n",
       "                var nbb_cell_id = 4;\n",
       "                var nbb_unformatted_code = \"###### Production configuration\\nrnn_deep_lstm_config = {\\n    \\\"model_type\\\": [\\\"keras_deep_LSTM_model\\\"],\\n    \\\"embedding_dim\\\": [embeddings_vec.shape[1]],\\n    \\\"lstm_size\\\": [200],\\n    \\\"class_weight\\\": [model_data[\\\"class_weight\\\"]],\\n    \\\"dense\\\": [300],\\n    \\\"embeddings_matrix_path\\\": [embeddings_matrix_path],\\n    \\\"visualize_process\\\": [True],\\n    \\\"with_early_stoping\\\": [True],\\n    \\\"multistack_run\\\": [False],\\n    \\\"early_stopping\\\": [True],\\n    \\\"early_stopping_config__monitor\\\": [\\\"val_loss\\\"],\\n    \\\"early_stopping_config__min_delta\\\": [0],\\n    \\\"early_stopping_config__patience\\\": [5],\\n    \\\"early_stopping_config__mode\\\": [\\\"min\\\"],\\n    \\\"embeddings_dropout\\\": [0.2],\\n    \\\"var_dropout\\\": [0.1, 0.2],\\n    \\\"mlp_dropout\\\": [0.2],\\n    \\\"mlp_activation\\\": [\\\"softmax\\\"],\\n    \\\"rnn_activation\\\": [\\\"relu\\\", \\\"tanh\\\"],\\n    \\\"optimizer\\\": [\\\"Nadam\\\", \\\"Adam\\\"],\\n    \\\"batch_size\\\": [32, 64],\\n    \\\"epochs\\\": [5 if RUN_STATE == \\\"testing\\\" else 10],\\n}\";\n",
       "                var nbb_formatted_code = \"###### Production configuration\\nrnn_deep_lstm_config = {\\n    \\\"model_type\\\": [\\\"keras_deep_LSTM_model\\\"],\\n    \\\"embedding_dim\\\": [embeddings_vec.shape[1]],\\n    \\\"lstm_size\\\": [200],\\n    \\\"class_weight\\\": [model_data[\\\"class_weight\\\"]],\\n    \\\"dense\\\": [300],\\n    \\\"embeddings_matrix_path\\\": [embeddings_matrix_path],\\n    \\\"visualize_process\\\": [True],\\n    \\\"with_early_stoping\\\": [True],\\n    \\\"multistack_run\\\": [False],\\n    \\\"early_stopping\\\": [True],\\n    \\\"early_stopping_config__monitor\\\": [\\\"val_loss\\\"],\\n    \\\"early_stopping_config__min_delta\\\": [0],\\n    \\\"early_stopping_config__patience\\\": [5],\\n    \\\"early_stopping_config__mode\\\": [\\\"min\\\"],\\n    \\\"embeddings_dropout\\\": [0.2],\\n    \\\"var_dropout\\\": [0.1, 0.2],\\n    \\\"mlp_dropout\\\": [0.2],\\n    \\\"mlp_activation\\\": [\\\"softmax\\\"],\\n    \\\"rnn_activation\\\": [\\\"relu\\\", \\\"tanh\\\"],\\n    \\\"optimizer\\\": [\\\"Nadam\\\", \\\"Adam\\\"],\\n    \\\"batch_size\\\": [32, 64],\\n    \\\"epochs\\\": [5 if RUN_STATE == \\\"testing\\\" else 10],\\n}\";\n",
       "                var nbb_cells = Jupyter.notebook.get_cells();\n",
       "                for (var i = 0; i < nbb_cells.length; ++i) {\n",
       "                    if (nbb_cells[i].input_prompt_number == nbb_cell_id) {\n",
       "                        if (nbb_cells[i].get_text() == nbb_unformatted_code) {\n",
       "                             nbb_cells[i].set_text(nbb_formatted_code);\n",
       "                        }\n",
       "                        break;\n",
       "                    }\n",
       "                }\n",
       "            }, 500);\n",
       "            "
      ],
      "text/plain": [
       "<IPython.core.display.Javascript object>"
      ]
     },
     "metadata": {},
     "output_type": "display_data"
    }
   ],
   "source": [
    "###### Production configuration\n",
    "rnn_deep_lstm_config = {\n",
    "    \"model_type\": [\"keras_deep_LSTM_model\"],\n",
    "    \"embedding_dim\": [embeddings_vec.shape[1]],\n",
    "    \"lstm_size\": [200],\n",
    "    \"class_weight\": [model_data[\"class_weight\"]],\n",
    "    \"dense\": [300],\n",
    "    \"embeddings_matrix_path\": [embeddings_matrix_path],\n",
    "    \"visualize_process\": [True],\n",
    "    \"with_early_stoping\": [True],\n",
    "    \"multistack_run\": [False],\n",
    "    \"early_stopping\": [True],\n",
    "    \"early_stopping_config__monitor\": [\"val_loss\"],\n",
    "    \"early_stopping_config__min_delta\": [0],\n",
    "    \"early_stopping_config__patience\": [5],\n",
    "    \"early_stopping_config__mode\": [\"min\"],\n",
    "    \"embeddings_dropout\": [0.2],\n",
    "    \"var_dropout\": [0.1, 0.2],\n",
    "    \"mlp_dropout\": [0.2],\n",
    "    \"mlp_activation\": [\"softmax\"],\n",
    "    \"rnn_activation\": [\"relu\", \"tanh\"],\n",
    "    \"optimizer\": [\"Nadam\", \"Adam\"],\n",
    "    \"batch_size\": [32, 64],\n",
    "    \"epochs\": [5 if RUN_STATE == \"testing\" else 10],\n",
    "}"
   ]
  },
  {
   "cell_type": "code",
   "execution_count": 5,
   "metadata": {},
   "outputs": [
    {
     "name": "stderr",
     "output_type": "stream",
     "text": [
      "\r",
      "  0%|          | 0/3 [00:00<?, ?it/s]"
     ]
    },
    {
     "name": "stdout",
     "output_type": "stream",
     "text": [
      "{'batch_size': 64, 'class_weight': {0: 1.1758, 2: 2.7812, 3: 4.7214, 4: 6.2066, 1: 11.5291, 10: 13.1761, 14: 20.2347, 11: 20.4433, 12: 22.1564, 13: 31.9839, 5: 36.7222, 8: 54.3288, 9: 58.3235, 6: 70.8214, 7: 360.5455}, 'dense': 300, 'early_stopping': True, 'early_stopping_config__min_delta': 0, 'early_stopping_config__mode': 'min', 'early_stopping_config__monitor': 'val_loss', 'early_stopping_config__patience': 5, 'embedding_dim': 300, 'embeddings_dropout': 0.2, 'embeddings_matrix_path': 'fasstex_dir/embeddings-matrix-pickle', 'epochs': 5, 'lstm_size': 200, 'mlp_activation': 'softmax', 'mlp_dropout': 0.2, 'model_type': 'keras_deep_LSTM_model', 'multistack_run': False, 'optimizer': 'Adam', 'rnn_activation': 'relu', 'var_dropout': 0.1, 'visualize_process': True, 'with_early_stoping': True}\n",
      "WARNING:tensorflow:From /home/giannhs/miniconda3/envs/data_challenge/lib/python3.7/site-packages/tensorflow/python/keras/backend.py:3794: add_dispatch_support.<locals>.wrapper (from tensorflow.python.ops.array_ops) is deprecated and will be removed in a future version.\n",
      "Instructions for updating:\n",
      "Use tf.where in 2.0, which has the same broadcast rule as np.where\n",
      "Model: \"model_1\"\n",
      "_________________________________________________________________\n",
      "Layer (type)                 Output Shape              Param #   \n",
      "=================================================================\n",
      "input_1 (InputLayer)         (None, 600)               0         \n",
      "_________________________________________________________________\n",
      "embedding_1 (Embedding)      (None, 600, 300)          6000600   \n",
      "_________________________________________________________________\n",
      "dropout_1 (Dropout)          (None, 600, 300)          0         \n",
      "_________________________________________________________________\n",
      "bidirectional_1 (Bidirection (None, 600, 400)          801600    \n",
      "_________________________________________________________________\n",
      "deep_attention_1 (DeepAttent [(None, 400), (None, 600) 160801    \n",
      "_________________________________________________________________\n",
      "dense_1 (Dense)              (None, 300)               120300    \n",
      "_________________________________________________________________\n",
      "dense_2 (Dense)              (None, 15)                4515      \n",
      "=================================================================\n",
      "Total params: 7,087,816\n",
      "Trainable params: 1,087,216\n",
      "Non-trainable params: 6,000,600\n",
      "_________________________________________________________________\n",
      "None\n",
      "WARNING:tensorflow:From /home/giannhs/miniconda3/envs/data_challenge/lib/python3.7/site-packages/keras/backend/tensorflow_backend.py:422: The name tf.global_variables is deprecated. Please use tf.compat.v1.global_variables instead.\n",
      "\n"
     ]
    },
    {
     "data": {
      "application/vnd.jupyter.widget-view+json": {
       "model_id": "f5018209e24348a984433a58c6e9388a",
       "version_major": 2,
       "version_minor": 0
      },
      "text/plain": [
       "HBox(children=(FloatProgress(value=0.0, description='Training', max=5.0, style=ProgressStyle(description_width…"
      ]
     },
     "metadata": {},
     "output_type": "display_data"
    },
    {
     "data": {
      "application/vnd.jupyter.widget-view+json": {
       "model_id": "",
       "version_major": 2,
       "version_minor": 0
      },
      "text/plain": [
       "HBox(children=(FloatProgress(value=0.0, description='Epoch 0', max=6345.0, style=ProgressStyle(description_wid…"
      ]
     },
     "metadata": {},
     "output_type": "display_data"
    },
    {
     "name": "stdout",
     "output_type": "stream",
     "text": [
      "\n",
      "Epoch 00001: val_loss improved from inf to 3.52190, saving model to keras_deep_LSTM_model\n",
      "\n",
      "Epoch 00001: val_f1 improved from -inf to 0.19145, saving model to keras_deep_LSTM_model\n"
     ]
    },
    {
     "data": {
      "application/vnd.jupyter.widget-view+json": {
       "model_id": "",
       "version_major": 2,
       "version_minor": 0
      },
      "text/plain": [
       "HBox(children=(FloatProgress(value=0.0, description='Epoch 1', max=6345.0, style=ProgressStyle(description_wid…"
      ]
     },
     "metadata": {},
     "output_type": "display_data"
    },
    {
     "name": "stdout",
     "output_type": "stream",
     "text": [
      "\n",
      "Epoch 00002: val_loss did not improve from 3.52190\n",
      "\n",
      "Epoch 00002: val_f1 improved from 0.19145 to 0.21082, saving model to keras_deep_LSTM_model\n"
     ]
    },
    {
     "data": {
      "application/vnd.jupyter.widget-view+json": {
       "model_id": "",
       "version_major": 2,
       "version_minor": 0
      },
      "text/plain": [
       "HBox(children=(FloatProgress(value=0.0, description='Epoch 2', max=6345.0, style=ProgressStyle(description_wid…"
      ]
     },
     "metadata": {},
     "output_type": "display_data"
    },
    {
     "name": "stdout",
     "output_type": "stream",
     "text": [
      "\n",
      "Epoch 00003: val_loss improved from 3.52190 to 3.18372, saving model to keras_deep_LSTM_model\n",
      "\n",
      "Epoch 00003: val_f1 improved from 0.21082 to 0.25572, saving model to keras_deep_LSTM_model\n"
     ]
    },
    {
     "data": {
      "application/vnd.jupyter.widget-view+json": {
       "model_id": "",
       "version_major": 2,
       "version_minor": 0
      },
      "text/plain": [
       "HBox(children=(FloatProgress(value=0.0, description='Epoch 3', max=6345.0, style=ProgressStyle(description_wid…"
      ]
     },
     "metadata": {},
     "output_type": "display_data"
    },
    {
     "name": "stdout",
     "output_type": "stream",
     "text": [
      "\n",
      "Epoch 00004: val_loss did not improve from 3.18372\n",
      "\n",
      "Epoch 00004: val_f1 improved from 0.25572 to 0.26654, saving model to keras_deep_LSTM_model\n"
     ]
    },
    {
     "data": {
      "application/vnd.jupyter.widget-view+json": {
       "model_id": "",
       "version_major": 2,
       "version_minor": 0
      },
      "text/plain": [
       "HBox(children=(FloatProgress(value=0.0, description='Epoch 4', max=6345.0, style=ProgressStyle(description_wid…"
      ]
     },
     "metadata": {},
     "output_type": "display_data"
    },
    {
     "name": "stderr",
     "output_type": "stream",
     "text": [
      "\r",
      " 33%|███▎      | 1/3 [29:23<58:47, 1763.91s/it]"
     ]
    },
    {
     "name": "stdout",
     "output_type": "stream",
     "text": [
      "\n",
      "Epoch 00005: val_loss did not improve from 3.18372\n",
      "\n",
      "Epoch 00005: val_f1 did not improve from 0.26654\n",
      "\n",
      "{'batch_size': 64, 'class_weight': {0: 1.1758, 2: 2.7812, 3: 4.7214, 4: 6.2066, 1: 11.5291, 10: 13.1761, 14: 20.2347, 11: 20.4433, 12: 22.1564, 13: 31.9839, 5: 36.7222, 8: 54.3288, 9: 58.3235, 6: 70.8214, 7: 360.5455}, 'dense': 300, 'early_stopping': True, 'early_stopping_config__min_delta': 0, 'early_stopping_config__mode': 'min', 'early_stopping_config__monitor': 'val_loss', 'early_stopping_config__patience': 5, 'embedding_dim': 300, 'embeddings_dropout': 0.2, 'embeddings_matrix_path': 'fasstex_dir/embeddings-matrix-pickle', 'epochs': 5, 'lstm_size': 200, 'mlp_activation': 'softmax', 'mlp_dropout': 0.2, 'model_type': 'keras_deep_LSTM_model', 'multistack_run': False, 'optimizer': 'Nadam', 'rnn_activation': 'relu', 'var_dropout': 0.1, 'visualize_process': True, 'with_early_stoping': True}\n",
      "Model: \"model_1\"\n",
      "_________________________________________________________________\n",
      "Layer (type)                 Output Shape              Param #   \n",
      "=================================================================\n",
      "input_1 (InputLayer)         (None, 600)               0         \n",
      "_________________________________________________________________\n",
      "embedding_1 (Embedding)      (None, 600, 300)          6000600   \n",
      "_________________________________________________________________\n",
      "dropout_1 (Dropout)          (None, 600, 300)          0         \n",
      "_________________________________________________________________\n",
      "bidirectional_1 (Bidirection (None, 600, 400)          801600    \n",
      "_________________________________________________________________\n",
      "deep_attention_1 (DeepAttent [(None, 400), (None, 600) 160801    \n",
      "_________________________________________________________________\n",
      "dense_1 (Dense)              (None, 300)               120300    \n",
      "_________________________________________________________________\n",
      "dense_2 (Dense)              (None, 15)                4515      \n",
      "=================================================================\n",
      "Total params: 7,087,816\n",
      "Trainable params: 1,087,216\n",
      "Non-trainable params: 6,000,600\n",
      "_________________________________________________________________\n",
      "None\n"
     ]
    },
    {
     "data": {
      "application/vnd.jupyter.widget-view+json": {
       "model_id": "8e197b626de649aa9bb9709ef2c82c1d",
       "version_major": 2,
       "version_minor": 0
      },
      "text/plain": [
       "HBox(children=(FloatProgress(value=0.0, description='Training', max=5.0, style=ProgressStyle(description_width…"
      ]
     },
     "metadata": {},
     "output_type": "display_data"
    },
    {
     "data": {
      "application/vnd.jupyter.widget-view+json": {
       "model_id": "",
       "version_major": 2,
       "version_minor": 0
      },
      "text/plain": [
       "HBox(children=(FloatProgress(value=0.0, description='Epoch 0', max=6345.0, style=ProgressStyle(description_wid…"
      ]
     },
     "metadata": {},
     "output_type": "display_data"
    },
    {
     "name": "stdout",
     "output_type": "stream",
     "text": [
      "\n",
      "Epoch 00001: val_loss improved from inf to 4.40506, saving model to keras_deep_LSTM_model\n",
      "\n",
      "Epoch 00001: val_f1 improved from -inf to 0.18527, saving model to keras_deep_LSTM_model\n"
     ]
    },
    {
     "data": {
      "application/vnd.jupyter.widget-view+json": {
       "model_id": "",
       "version_major": 2,
       "version_minor": 0
      },
      "text/plain": [
       "HBox(children=(FloatProgress(value=0.0, description='Epoch 1', max=6345.0, style=ProgressStyle(description_wid…"
      ]
     },
     "metadata": {},
     "output_type": "display_data"
    },
    {
     "name": "stdout",
     "output_type": "stream",
     "text": [
      "\n",
      "Epoch 00002: val_loss improved from 4.40506 to 3.81156, saving model to keras_deep_LSTM_model\n",
      "\n",
      "Epoch 00002: val_f1 improved from 0.18527 to 0.22596, saving model to keras_deep_LSTM_model\n"
     ]
    },
    {
     "data": {
      "application/vnd.jupyter.widget-view+json": {
       "model_id": "",
       "version_major": 2,
       "version_minor": 0
      },
      "text/plain": [
       "HBox(children=(FloatProgress(value=0.0, description='Epoch 2', max=6345.0, style=ProgressStyle(description_wid…"
      ]
     },
     "metadata": {},
     "output_type": "display_data"
    },
    {
     "name": "stdout",
     "output_type": "stream",
     "text": [
      "\n",
      "Epoch 00003: val_loss did not improve from 3.81156\n",
      "\n",
      "Epoch 00003: val_f1 did not improve from 0.22596\n"
     ]
    },
    {
     "data": {
      "application/vnd.jupyter.widget-view+json": {
       "model_id": "",
       "version_major": 2,
       "version_minor": 0
      },
      "text/plain": [
       "HBox(children=(FloatProgress(value=0.0, description='Epoch 3', max=6345.0, style=ProgressStyle(description_wid…"
      ]
     },
     "metadata": {},
     "output_type": "display_data"
    },
    {
     "name": "stdout",
     "output_type": "stream",
     "text": [
      "\n",
      "Epoch 00004: val_loss improved from 3.81156 to 3.42420, saving model to keras_deep_LSTM_model\n",
      "\n",
      "Epoch 00004: val_f1 improved from 0.22596 to 0.23721, saving model to keras_deep_LSTM_model\n"
     ]
    },
    {
     "data": {
      "application/vnd.jupyter.widget-view+json": {
       "model_id": "",
       "version_major": 2,
       "version_minor": 0
      },
      "text/plain": [
       "HBox(children=(FloatProgress(value=0.0, description='Epoch 4', max=6345.0, style=ProgressStyle(description_wid…"
      ]
     },
     "metadata": {},
     "output_type": "display_data"
    },
    {
     "name": "stdout",
     "output_type": "stream",
     "text": [
      "\n",
      "Epoch 00005: val_loss improved from 3.42420 to 3.24241, saving model to keras_deep_LSTM_model\n",
      "\n",
      "Epoch 00005: val_f1 improved from 0.23721 to 0.27836, saving model to keras_deep_LSTM_model\n",
      "\n"
     ]
    },
    {
     "name": "stderr",
     "output_type": "stream",
     "text": [
      "\r",
      " 67%|██████▋   | 2/3 [59:50<29:42, 1782.66s/it]"
     ]
    },
    {
     "name": "stdout",
     "output_type": "stream",
     "text": [
      "{'batch_size': 64, 'class_weight': {0: 1.1758, 2: 2.7812, 3: 4.7214, 4: 6.2066, 1: 11.5291, 10: 13.1761, 14: 20.2347, 11: 20.4433, 12: 22.1564, 13: 31.9839, 5: 36.7222, 8: 54.3288, 9: 58.3235, 6: 70.8214, 7: 360.5455}, 'dense': 300, 'early_stopping': True, 'early_stopping_config__min_delta': 0, 'early_stopping_config__mode': 'min', 'early_stopping_config__monitor': 'val_loss', 'early_stopping_config__patience': 5, 'embedding_dim': 300, 'embeddings_dropout': 0.2, 'embeddings_matrix_path': 'fasstex_dir/embeddings-matrix-pickle', 'epochs': 5, 'lstm_size': 200, 'mlp_activation': 'softmax', 'mlp_dropout': 0.2, 'model_type': 'keras_deep_LSTM_model', 'multistack_run': False, 'optimizer': 'Adam', 'rnn_activation': 'tanh', 'var_dropout': 0.1, 'visualize_process': True, 'with_early_stoping': True}\n",
      "Model: \"model_1\"\n",
      "_________________________________________________________________\n",
      "Layer (type)                 Output Shape              Param #   \n",
      "=================================================================\n",
      "input_1 (InputLayer)         (None, 600)               0         \n",
      "_________________________________________________________________\n",
      "embedding_1 (Embedding)      (None, 600, 300)          6000600   \n",
      "_________________________________________________________________\n",
      "dropout_1 (Dropout)          (None, 600, 300)          0         \n",
      "_________________________________________________________________\n",
      "bidirectional_1 (Bidirection (None, 600, 400)          801600    \n",
      "_________________________________________________________________\n",
      "deep_attention_1 (DeepAttent [(None, 400), (None, 600) 160801    \n",
      "_________________________________________________________________\n",
      "dense_1 (Dense)              (None, 300)               120300    \n",
      "_________________________________________________________________\n",
      "dense_2 (Dense)              (None, 15)                4515      \n",
      "=================================================================\n",
      "Total params: 7,087,816\n",
      "Trainable params: 1,087,216\n",
      "Non-trainable params: 6,000,600\n",
      "_________________________________________________________________\n",
      "None\n"
     ]
    },
    {
     "data": {
      "application/vnd.jupyter.widget-view+json": {
       "model_id": "d8201144a77f4b9ba892c594ef8c6229",
       "version_major": 2,
       "version_minor": 0
      },
      "text/plain": [
       "HBox(children=(FloatProgress(value=0.0, description='Training', max=5.0, style=ProgressStyle(description_width…"
      ]
     },
     "metadata": {},
     "output_type": "display_data"
    },
    {
     "data": {
      "application/vnd.jupyter.widget-view+json": {
       "model_id": "",
       "version_major": 2,
       "version_minor": 0
      },
      "text/plain": [
       "HBox(children=(FloatProgress(value=0.0, description='Epoch 0', max=6345.0, style=ProgressStyle(description_wid…"
      ]
     },
     "metadata": {},
     "output_type": "display_data"
    },
    {
     "name": "stdout",
     "output_type": "stream",
     "text": [
      "\n",
      "Epoch 00001: val_loss improved from inf to 3.85894, saving model to keras_deep_LSTM_model\n",
      "\n",
      "Epoch 00001: val_f1 improved from -inf to 0.18873, saving model to keras_deep_LSTM_model\n"
     ]
    },
    {
     "data": {
      "application/vnd.jupyter.widget-view+json": {
       "model_id": "",
       "version_major": 2,
       "version_minor": 0
      },
      "text/plain": [
       "HBox(children=(FloatProgress(value=0.0, description='Epoch 1', max=6345.0, style=ProgressStyle(description_wid…"
      ]
     },
     "metadata": {},
     "output_type": "display_data"
    },
    {
     "name": "stdout",
     "output_type": "stream",
     "text": [
      "\n",
      "Epoch 00002: val_loss improved from 3.85894 to 3.42291, saving model to keras_deep_LSTM_model\n",
      "\n",
      "Epoch 00002: val_f1 improved from 0.18873 to 0.23759, saving model to keras_deep_LSTM_model\n"
     ]
    },
    {
     "data": {
      "application/vnd.jupyter.widget-view+json": {
       "model_id": "",
       "version_major": 2,
       "version_minor": 0
      },
      "text/plain": [
       "HBox(children=(FloatProgress(value=0.0, description='Epoch 2', max=6345.0, style=ProgressStyle(description_wid…"
      ]
     },
     "metadata": {},
     "output_type": "display_data"
    },
    {
     "name": "stdout",
     "output_type": "stream",
     "text": [
      "\n",
      "Epoch 00003: val_loss improved from 3.42291 to 3.33485, saving model to keras_deep_LSTM_model\n",
      "\n",
      "Epoch 00003: val_f1 did not improve from 0.23759\n"
     ]
    },
    {
     "data": {
      "application/vnd.jupyter.widget-view+json": {
       "model_id": "",
       "version_major": 2,
       "version_minor": 0
      },
      "text/plain": [
       "HBox(children=(FloatProgress(value=0.0, description='Epoch 3', max=6345.0, style=ProgressStyle(description_wid…"
      ]
     },
     "metadata": {},
     "output_type": "display_data"
    },
    {
     "name": "stdout",
     "output_type": "stream",
     "text": [
      "\n",
      "Epoch 00004: val_loss did not improve from 3.33485\n",
      "\n",
      "Epoch 00004: val_f1 improved from 0.23759 to 0.26523, saving model to keras_deep_LSTM_model\n"
     ]
    },
    {
     "data": {
      "application/vnd.jupyter.widget-view+json": {
       "model_id": "",
       "version_major": 2,
       "version_minor": 0
      },
      "text/plain": [
       "HBox(children=(FloatProgress(value=0.0, description='Epoch 4', max=6345.0, style=ProgressStyle(description_wid…"
      ]
     },
     "metadata": {},
     "output_type": "display_data"
    },
    {
     "name": "stdout",
     "output_type": "stream",
     "text": [
      "\n",
      "Epoch 00005: val_loss did not improve from 3.33485\n",
      "\n",
      "Epoch 00005: val_f1 did not improve from 0.26523\n",
      "\n"
     ]
    },
    {
     "name": "stderr",
     "output_type": "stream",
     "text": [
      "100%|██████████| 3/3 [1:28:24<00:00, 1768.18s/it]\n"
     ]
    },
    {
     "data": {
      "application/javascript": [
       "\n",
       "            setTimeout(function() {\n",
       "                var nbb_cell_id = 5;\n",
       "                var nbb_unformatted_code = \"TALOS_LSTM_DEEP_LOG_FILENAME = 'talos_logs_bilstm'\\nif RUN_STATE == 'testing': \\n    TALOS_LSTM_DEEP_LOG_FILENAME += '_test'\\n# talos_lstm_deep_log_pathname = os.path.join(TALOS_DIR, TALOS_LSTM_DEEP_LOG_FILENAME)\\n\\nhistory_model = ta.Scan(model_data['x_train'],\\n                        model_data['y_train'],\\n                        x_val=model_data['x_train_dev'],\\n                        y_val=model_data['y_train_dev'],\\n                        model=load_bi_lstm_model,\\n                        params=rnn_deep_lstm_config,\\n                        fraction_limit=0.2,\\n                        print_params=True,\\n                        seed=(123),\\n                        experiment_name=TALOS_LSTM_DEEP_LOG_FILENAME\\n                        )\";\n",
       "                var nbb_formatted_code = \"TALOS_LSTM_DEEP_LOG_FILENAME = \\\"talos_logs_bilstm\\\"\\nif RUN_STATE == \\\"testing\\\":\\n    TALOS_LSTM_DEEP_LOG_FILENAME += \\\"_test\\\"\\n# talos_lstm_deep_log_pathname = os.path.join(TALOS_DIR, TALOS_LSTM_DEEP_LOG_FILENAME)\\n\\nhistory_model = ta.Scan(\\n    model_data[\\\"x_train\\\"],\\n    model_data[\\\"y_train\\\"],\\n    x_val=model_data[\\\"x_train_dev\\\"],\\n    y_val=model_data[\\\"y_train_dev\\\"],\\n    model=load_bi_lstm_model,\\n    params=rnn_deep_lstm_config,\\n    fraction_limit=0.2,\\n    print_params=True,\\n    seed=(123),\\n    experiment_name=TALOS_LSTM_DEEP_LOG_FILENAME,\\n)\";\n",
       "                var nbb_cells = Jupyter.notebook.get_cells();\n",
       "                for (var i = 0; i < nbb_cells.length; ++i) {\n",
       "                    if (nbb_cells[i].input_prompt_number == nbb_cell_id) {\n",
       "                        if (nbb_cells[i].get_text() == nbb_unformatted_code) {\n",
       "                             nbb_cells[i].set_text(nbb_formatted_code);\n",
       "                        }\n",
       "                        break;\n",
       "                    }\n",
       "                }\n",
       "            }, 500);\n",
       "            "
      ],
      "text/plain": [
       "<IPython.core.display.Javascript object>"
      ]
     },
     "metadata": {},
     "output_type": "display_data"
    }
   ],
   "source": [
    "TALOS_LSTM_DEEP_LOG_FILENAME = 'talos_logs_bilstm'\n",
    "if RUN_STATE == 'testing': \n",
    "    TALOS_LSTM_DEEP_LOG_FILENAME += '_test'\n",
    "# talos_lstm_deep_log_pathname = os.path.join(TALOS_DIR, TALOS_LSTM_DEEP_LOG_FILENAME)\n",
    "\n",
    "history_model = ta.Scan(model_data['x_train'],\n",
    "                        model_data['y_train'],\n",
    "                        x_val=model_data['x_train_dev'],\n",
    "                        y_val=model_data['y_train_dev'],\n",
    "                        model=load_bi_lstm_model,\n",
    "                        params=rnn_deep_lstm_config,\n",
    "                        fraction_limit=0.1,\n",
    "                        print_params=True,\n",
    "                        seed=(123),\n",
    "                        experiment_name=TALOS_LSTM_DEEP_LOG_FILENAME\n",
    "                        )\n"
   ]
  },
  {
   "cell_type": "markdown",
   "metadata": {},
   "source": [
    "> Finds the best model configuration based for our RNN based on the highest value of the *val_f1*."
   ]
  },
  {
   "cell_type": "code",
   "execution_count": 6,
   "metadata": {},
   "outputs": [
    {
     "data": {
      "text/plain": [
       "{'round_epochs': 5,\n",
       " 'val_loss': 3.495927696119792,\n",
       " 'val_precision': 0.2650211453437805,\n",
       " 'val_recall': 0.23586538434028625,\n",
       " 'val_f1': 0.24936887621879578,\n",
       " 'val_accuracy': 0.9062631726264954,\n",
       " 'val_categorical_accuracy': 0.2484237104654312,\n",
       " 'loss': 41.76000115595247,\n",
       " 'precision': 0.3135703504085541,\n",
       " 'recall': 0.25034722685813904,\n",
       " 'f1': 0.27798956632614136,\n",
       " 'accuracy': 0.91352778673172,\n",
       " 'categorical_accuracy': 0.2724980413913727,\n",
       " 'batch_size': 64,\n",
       " 'class_weight': {0: 1.1758,\n",
       "  2: 2.7812,\n",
       "  3: 4.7214,\n",
       "  4: 6.2066,\n",
       "  1: 11.5291,\n",
       "  10: 13.1761,\n",
       "  14: 20.2347,\n",
       "  11: 20.4433,\n",
       "  12: 22.1564,\n",
       "  13: 31.9839,\n",
       "  5: 36.7222,\n",
       "  8: 54.3288,\n",
       "  9: 58.3235,\n",
       "  6: 70.8214,\n",
       "  7: 360.5455},\n",
       " 'dense': 300,\n",
       " 'early_stopping': True,\n",
       " 'early_stopping_config__min_delta': 0,\n",
       " 'early_stopping_config__mode': 'min',\n",
       " 'early_stopping_config__monitor': 'val_loss',\n",
       " 'early_stopping_config__patience': 5,\n",
       " 'embedding_dim': 300,\n",
       " 'embeddings_dropout': 0.2,\n",
       " 'embeddings_matrix_path': 'fasstex_dir/embeddings-matrix-pickle',\n",
       " 'epochs': 5,\n",
       " 'lstm_size': 200,\n",
       " 'mlp_activation': 'softmax',\n",
       " 'mlp_dropout': 0.2,\n",
       " 'model_type': 'keras_deep_LSTM_model',\n",
       " 'multistack_run': False,\n",
       " 'optimizer': 'Adam',\n",
       " 'rnn_activation': 'relu',\n",
       " 'var_dropout': 0.1,\n",
       " 'visualize_process': True,\n",
       " 'with_early_stoping': True}"
      ]
     },
     "execution_count": 6,
     "metadata": {},
     "output_type": "execute_result"
    },
    {
     "data": {
      "application/javascript": [
       "\n",
       "            setTimeout(function() {\n",
       "                var nbb_cell_id = 6;\n",
       "                var nbb_unformatted_code = \"report_talos = ta.Reporting(history_model)\\nbest_model_idx = report_talos.data['val_loss'].idxmax()\\nbest_model_params = report_talos.data.loc[best_model_idx].to_dict()\\nbest_model_params\";\n",
       "                var nbb_formatted_code = \"report_talos = ta.Reporting(history_model)\\nbest_model_idx = report_talos.data[\\\"val_loss\\\"].idxmax()\\nbest_model_params = report_talos.data.loc[best_model_idx].to_dict()\\nbest_model_params\";\n",
       "                var nbb_cells = Jupyter.notebook.get_cells();\n",
       "                for (var i = 0; i < nbb_cells.length; ++i) {\n",
       "                    if (nbb_cells[i].input_prompt_number == nbb_cell_id) {\n",
       "                        if (nbb_cells[i].get_text() == nbb_unformatted_code) {\n",
       "                             nbb_cells[i].set_text(nbb_formatted_code);\n",
       "                        }\n",
       "                        break;\n",
       "                    }\n",
       "                }\n",
       "            }, 500);\n",
       "            "
      ],
      "text/plain": [
       "<IPython.core.display.Javascript object>"
      ]
     },
     "metadata": {},
     "output_type": "display_data"
    }
   ],
   "source": [
    "report_talos = ta.Reporting(history_model)\n",
    "best_model_idx = report_talos.data[\"val_loss\"].idxmax()\n",
    "best_model_params = report_talos.data.loc[best_model_idx].to_dict()\n",
    "best_model_params"
   ]
  },
  {
   "cell_type": "markdown",
   "metadata": {},
   "source": [
    "> Train a new RNN model based on the best Talos configuration.\n",
    "\n",
    " ****Note: the below cells have been explicitly removed from the PRODUCTION run because they required an extra model generation which was demanding in terms of recources and time. For extra information about the PRODUCTION run check the README instructions.*"
   ]
  },
  {
   "cell_type": "code",
   "execution_count": 9,
   "metadata": {},
   "outputs": [
    {
     "name": "stdout",
     "output_type": "stream",
     "text": [
      "Model: \"model_1\"\n",
      "_________________________________________________________________\n",
      "Layer (type)                 Output Shape              Param #   \n",
      "=================================================================\n",
      "input_1 (InputLayer)         (None, 600)               0         \n",
      "_________________________________________________________________\n",
      "embedding_1 (Embedding)      (None, 600, 300)          6000600   \n",
      "_________________________________________________________________\n",
      "dropout_1 (Dropout)          (None, 600, 300)          0         \n",
      "_________________________________________________________________\n",
      "bidirectional_1 (Bidirection (None, 600, 400)          801600    \n",
      "_________________________________________________________________\n",
      "deep_attention_1 (DeepAttent [(None, 400), (None, 600) 160801    \n",
      "_________________________________________________________________\n",
      "dense_1 (Dense)              (None, 300)               120300    \n",
      "_________________________________________________________________\n",
      "dense_2 (Dense)              (None, 15)                4515      \n",
      "=================================================================\n",
      "Total params: 7,087,816\n",
      "Trainable params: 1,087,216\n",
      "Non-trainable params: 6,000,600\n",
      "_________________________________________________________________\n",
      "None\n"
     ]
    },
    {
     "data": {
      "application/vnd.jupyter.widget-view+json": {
       "model_id": "ddb1ecd0e4aa40ab8274970a4cea2669",
       "version_major": 2,
       "version_minor": 0
      },
      "text/plain": [
       "HBox(children=(FloatProgress(value=0.0, description='Training', max=5.0, style=ProgressStyle(description_width…"
      ]
     },
     "metadata": {},
     "output_type": "display_data"
    },
    {
     "data": {
      "application/vnd.jupyter.widget-view+json": {
       "model_id": "",
       "version_major": 2,
       "version_minor": 0
      },
      "text/plain": [
       "HBox(children=(FloatProgress(value=0.0, description='Epoch 0', max=6345.0, style=ProgressStyle(description_wid…"
      ]
     },
     "metadata": {},
     "output_type": "display_data"
    },
    {
     "name": "stdout",
     "output_type": "stream",
     "text": [
      "\n",
      "Epoch 00001: val_loss improved from inf to 3.32032, saving model to keras_deep_LSTM_model\n",
      "\n",
      "Epoch 00001: val_f1 improved from -inf to 0.20367, saving model to keras_deep_LSTM_model\n"
     ]
    },
    {
     "data": {
      "application/vnd.jupyter.widget-view+json": {
       "model_id": "",
       "version_major": 2,
       "version_minor": 0
      },
      "text/plain": [
       "HBox(children=(FloatProgress(value=0.0, description='Epoch 1', max=6345.0, style=ProgressStyle(description_wid…"
      ]
     },
     "metadata": {},
     "output_type": "display_data"
    },
    {
     "name": "stdout",
     "output_type": "stream",
     "text": [
      "\n",
      "Epoch 00002: val_loss did not improve from 3.32032\n",
      "\n",
      "Epoch 00002: val_f1 did not improve from 0.20367\n"
     ]
    },
    {
     "data": {
      "application/vnd.jupyter.widget-view+json": {
       "model_id": "",
       "version_major": 2,
       "version_minor": 0
      },
      "text/plain": [
       "HBox(children=(FloatProgress(value=0.0, description='Epoch 2', max=6345.0, style=ProgressStyle(description_wid…"
      ]
     },
     "metadata": {},
     "output_type": "display_data"
    },
    {
     "name": "stdout",
     "output_type": "stream",
     "text": [
      "\n",
      "Epoch 00003: val_loss improved from 3.32032 to 3.28007, saving model to keras_deep_LSTM_model\n",
      "\n",
      "Epoch 00003: val_f1 improved from 0.20367 to 0.24825, saving model to keras_deep_LSTM_model\n"
     ]
    },
    {
     "data": {
      "application/vnd.jupyter.widget-view+json": {
       "model_id": "",
       "version_major": 2,
       "version_minor": 0
      },
      "text/plain": [
       "HBox(children=(FloatProgress(value=0.0, description='Epoch 3', max=6345.0, style=ProgressStyle(description_wid…"
      ]
     },
     "metadata": {},
     "output_type": "display_data"
    },
    {
     "name": "stdout",
     "output_type": "stream",
     "text": [
      "\n",
      "Epoch 00004: val_loss improved from 3.28007 to 3.15144, saving model to keras_deep_LSTM_model\n",
      "\n",
      "Epoch 00004: val_f1 improved from 0.24825 to 0.24966, saving model to keras_deep_LSTM_model\n"
     ]
    },
    {
     "data": {
      "application/vnd.jupyter.widget-view+json": {
       "model_id": "",
       "version_major": 2,
       "version_minor": 0
      },
      "text/plain": [
       "HBox(children=(FloatProgress(value=0.0, description='Epoch 4', max=6345.0, style=ProgressStyle(description_wid…"
      ]
     },
     "metadata": {},
     "output_type": "display_data"
    },
    {
     "name": "stdout",
     "output_type": "stream",
     "text": [
      "\n",
      "Epoch 00005: val_loss did not improve from 3.15144\n",
      "\n",
      "Epoch 00005: val_f1 did not improve from 0.24966\n",
      "\n"
     ]
    },
    {
     "data": {
      "application/javascript": [
       "\n",
       "            setTimeout(function() {\n",
       "                var nbb_cell_id = 9;\n",
       "                var nbb_unformatted_code = \"if RUN_STATE == 'testing':\\n    # Train and Load the best model of given the tuned featured model\\n    best_model_params['early_stopping'] = True\\n    best_model_params['with_early_stopping'] = True\\n    best_model_params['visualize_process'] = True\\n    model_history, model = load_bi_lstm_model(model_data['x_train'],\\n                                              model_data['y_train'],\\n                                              model_data['x_train_dev'],\\n                                              model_data['y_train_dev'],\\n                                              best_model_params)\";\n",
       "                var nbb_formatted_code = \"if RUN_STATE == \\\"testing\\\":\\n    # Train and Load the best model of given the tuned featured model\\n    best_model_params[\\\"early_stopping\\\"] = True\\n    best_model_params[\\\"with_early_stopping\\\"] = True\\n    best_model_params[\\\"visualize_process\\\"] = True\\n    model_history, model = load_bi_lstm_model(\\n        model_data[\\\"x_train\\\"],\\n        model_data[\\\"y_train\\\"],\\n        model_data[\\\"x_train_dev\\\"],\\n        model_data[\\\"y_train_dev\\\"],\\n        best_model_params,\\n    )\";\n",
       "                var nbb_cells = Jupyter.notebook.get_cells();\n",
       "                for (var i = 0; i < nbb_cells.length; ++i) {\n",
       "                    if (nbb_cells[i].input_prompt_number == nbb_cell_id) {\n",
       "                        if (nbb_cells[i].get_text() == nbb_unformatted_code) {\n",
       "                             nbb_cells[i].set_text(nbb_formatted_code);\n",
       "                        }\n",
       "                        break;\n",
       "                    }\n",
       "                }\n",
       "            }, 500);\n",
       "            "
      ],
      "text/plain": [
       "<IPython.core.display.Javascript object>"
      ]
     },
     "metadata": {},
     "output_type": "display_data"
    }
   ],
   "source": [
    "if RUN_STATE == \"testing\":\n",
    "    # Train and Load the best model of given the tuned featured model\n",
    "    best_model_params[\"early_stopping\"] = True\n",
    "    best_model_params[\"with_early_stopping\"] = True\n",
    "    best_model_params[\"visualize_process\"] = True\n",
    "    model_history, model = load_bi_lstm_model(\n",
    "        model_data[\"x_train\"],\n",
    "        model_data[\"y_train\"],\n",
    "        model_data[\"x_train_dev\"],\n",
    "        model_data[\"y_train_dev\"],\n",
    "        best_model_params,\n",
    "    )"
   ]
  },
  {
   "cell_type": "markdown",
   "metadata": {},
   "source": [
    "### Visualize Model History Scores"
   ]
  },
  {
   "cell_type": "code",
   "execution_count": 10,
   "metadata": {
    "scrolled": true
   },
   "outputs": [
    {
     "data": {
      "image/png": "[encoded data removed]",
      "text/plain": [
       "<Figure size 432x288 with 1 Axes>"
      ]
     },
     "metadata": {
      "needs_background": "light"
     },
     "output_type": "display_data"
    },
    {
     "data": {
      "image/png": "[encoded data removed]",
      "text/plain": [
       "<Figure size 432x288 with 1 Axes>"
      ]
     },
     "metadata": {
      "needs_background": "light"
     },
     "output_type": "display_data"
    },
    {
     "data": {
      "image/png": "[encoded data removed]",
      "text/plain": [
       "<Figure size 432x288 with 1 Axes>"
      ]
     },
     "metadata": {
      "needs_background": "light"
     },
     "output_type": "display_data"
    },
    {
     "data": {
      "application/javascript": [
       "\n",
       "            setTimeout(function() {\n",
       "                var nbb_cell_id = 10;\n",
       "                var nbb_unformatted_code = \"if RUN_STATE == 'testing':\\n    from app.visualization import plot_history_metrics\\n    import matplotlib.pylab as plt\\n\\n    %matplotlib inline\\n    plot_history_metrics(history_obj=model_history)\";\n",
       "                var nbb_formatted_code = \"if RUN_STATE == \\\"testing\\\":\\n    from app.visualization import plot_history_metrics\\n    import matplotlib.pylab as plt\\n\\n    %matplotlib inline\\n    plot_history_metrics(history_obj=model_history)\";\n",
       "                var nbb_cells = Jupyter.notebook.get_cells();\n",
       "                for (var i = 0; i < nbb_cells.length; ++i) {\n",
       "                    if (nbb_cells[i].input_prompt_number == nbb_cell_id) {\n",
       "                        if (nbb_cells[i].get_text() == nbb_unformatted_code) {\n",
       "                             nbb_cells[i].set_text(nbb_formatted_code);\n",
       "                        }\n",
       "                        break;\n",
       "                    }\n",
       "                }\n",
       "            }, 500);\n",
       "            "
      ],
      "text/plain": [
       "<IPython.core.display.Javascript object>"
      ]
     },
     "metadata": {},
     "output_type": "display_data"
    }
   ],
   "source": [
    "if RUN_STATE == \"testing\":\n",
    "    from app.visualization import plot_history_metrics\n",
    "    import matplotlib.pylab as plt\n",
    "\n",
    "    %matplotlib inline\n",
    "    plot_history_metrics(history_obj=model_history)"
   ]
  },
  {
   "cell_type": "markdown",
   "metadata": {},
   "source": [
    "### Evaluate performance model\n",
    "\n",
    "Evaluates the performance of the best trained model in the **test** dataset. "
   ]
  },
  {
   "cell_type": "code",
   "execution_count": 11,
   "metadata": {},
   "outputs": [
    {
     "name": "stdout",
     "output_type": "stream",
     "text": [
      "794/794 [==============================] - 15s 19ms/step\n",
      "\n",
      "Test f1: 0.2505\n",
      "\n",
      "Test categorical accuracy: 0.2322\n"
     ]
    },
    {
     "data": {
      "application/javascript": [
       "\n",
       "            setTimeout(function() {\n",
       "                var nbb_cell_id = 11;\n",
       "                var nbb_unformatted_code = \"if RUN_STATE == 'testing':\\n    score = model.evaluate(model_data['x_test'],\\n                           model_data['y_test'],\\n                           batch_size=best_model_params['batch_size'],\\n                           verbose=1)\\n\\n    print('\\\\nTest f1: %.4f' % (score[1]))\\n    print('\\\\nTest categorical accuracy: %.4f'% (score[2]))\";\n",
       "                var nbb_formatted_code = \"if RUN_STATE == \\\"testing\\\":\\n    score = model.evaluate(\\n        model_data[\\\"x_test\\\"],\\n        model_data[\\\"y_test\\\"],\\n        batch_size=best_model_params[\\\"batch_size\\\"],\\n        verbose=1,\\n    )\\n\\n    print(\\\"\\\\nTest f1: %.4f\\\" % (score[1]))\\n    print(\\\"\\\\nTest categorical accuracy: %.4f\\\" % (score[2]))\";\n",
       "                var nbb_cells = Jupyter.notebook.get_cells();\n",
       "                for (var i = 0; i < nbb_cells.length; ++i) {\n",
       "                    if (nbb_cells[i].input_prompt_number == nbb_cell_id) {\n",
       "                        if (nbb_cells[i].get_text() == nbb_unformatted_code) {\n",
       "                             nbb_cells[i].set_text(nbb_formatted_code);\n",
       "                        }\n",
       "                        break;\n",
       "                    }\n",
       "                }\n",
       "            }, 500);\n",
       "            "
      ],
      "text/plain": [
       "<IPython.core.display.Javascript object>"
      ]
     },
     "metadata": {},
     "output_type": "display_data"
    }
   ],
   "source": [
    "if RUN_STATE == \"testing\":\n",
    "    score = model.evaluate(\n",
    "        model_data[\"x_test\"],\n",
    "        model_data[\"y_test\"],\n",
    "        batch_size=best_model_params[\"batch_size\"],\n",
    "        verbose=1,\n",
    "    )\n",
    "\n",
    "    print(\"\\nTest f1: %.4f\" % (score[1]))\n",
    "    print(\"\\nTest categorical accuracy: %.4f\" % (score[2]))"
   ]
  },
  {
   "cell_type": "markdown",
   "metadata": {},
   "source": [
    "### Visualize Prediction Perfomance  model"
   ]
  },
  {
   "cell_type": "code",
   "execution_count": 12,
   "metadata": {},
   "outputs": [
    {
     "name": "stdout",
     "output_type": "stream",
     "text": [
      "--------------------------------------------------------------------------------\n",
      "Accuracy Score: 23.80%\n",
      "--------------------------------------------------------------------------------\n",
      "--------------------------------------------------------------------------------\n",
      "Classification Report:\n",
      "\n",
      "              precision    recall  f1-score   support\n",
      "\n",
      "           0      0.000     0.000     0.000       338\n",
      "           1      0.000     0.000     0.000        35\n",
      "           2      0.000     0.000     0.000        30\n",
      "           3      0.000     0.000     0.000        20\n",
      "           4      0.000     0.000     0.000        18\n",
      "           5      0.000     0.000     0.000        12\n",
      "           6      0.300     0.300     0.300        20\n",
      "           7      0.215     0.979     0.353       143\n",
      "           8      0.635     0.393     0.485        84\n",
      "           9      0.333     0.062     0.105        64\n",
      "          10      0.000     0.000     0.000        11\n",
      "          11      0.000     0.000     0.000         5\n",
      "          12      0.000     0.000     0.000         1\n",
      "          13      0.000     0.000     0.000         7\n",
      "          14      0.000     0.000     0.000         6\n",
      "\n",
      "   micro avg      0.249     0.230     0.239       794\n",
      "   macro avg      0.099     0.116     0.083       794\n",
      "weighted avg      0.140     0.230     0.131       794\n",
      " samples avg      0.230     0.230     0.230       794\n",
      "\n"
     ]
    },
    {
     "data": {
      "image/png": "[encoded data removed]",
      "text/plain": [
       "<Figure size 1728x1440 with 2 Axes>"
      ]
     },
     "metadata": {
      "needs_background": "light"
     },
     "output_type": "display_data"
    },
    {
     "data": {
      "application/javascript": [
       "\n",
       "            setTimeout(function() {\n",
       "                var nbb_cell_id = 12;\n",
       "                var nbb_unformatted_code = \"if RUN_STATE == 'testing':\\n    import numpy as np\\n    from app.visualization import (plot_prediction_metrics,\\n                                   create_clf_report,\\n                                   plot_roc_curve,\\n                                   plot_precision_recall_curve,\\n                                   plot_confusion_matrix)\\n    import matplotlib.pylab as plt\\n\\n    prediction_val = model.predict(model_data['x_test'], batch_size=best_model_params['batch_size'])\\n\\n    # returns each entry result to the classification with the relevant probabilities\\n    y_pred_processed = np.array([np.argmax(val) for val in prediction_val])\\n    y_true_processed = np.array([np.argmax(val) for val in model_data['y_test']])\\n\\n    # If you want to see the OneVSAll ROC Curves of each class uncomment the below line\\n    # plot_roc_curve(model_data['y_test'], prediction_val, Classes, 1)\\n\\n    # If you want to see the OneVSAll Precission Recall Curves of each class, comment out the below line\\n    # plot_precision_recall_curve(model_data['y_test'], prediction_val, Classes , 1)\\n\\n    # If you want to get the Classification Report, comment out the below line\\n    create_clf_report(model_data['y_test'], (prediction_val > 0.5).astype('int32'),\\n                      y_true_processed, y_pred_processed)\\n\\n    # If you want to get the confusion matrix,comment out the below line\\n    plot_confusion_matrix(y_true_processed, y_pred_processed, Classes)\";\n",
       "                var nbb_formatted_code = \"if RUN_STATE == \\\"testing\\\":\\n    import numpy as np\\n    from app.visualization import (\\n        plot_prediction_metrics,\\n        create_clf_report,\\n        plot_roc_curve,\\n        plot_precision_recall_curve,\\n        plot_confusion_matrix,\\n    )\\n    import matplotlib.pylab as plt\\n\\n    prediction_val = model.predict(\\n        model_data[\\\"x_test\\\"], batch_size=best_model_params[\\\"batch_size\\\"]\\n    )\\n\\n    # returns each entry result to the classification with the relevant probabilities\\n    y_pred_processed = np.array([np.argmax(val) for val in prediction_val])\\n    y_true_processed = np.array([np.argmax(val) for val in model_data[\\\"y_test\\\"]])\\n\\n    # If you want to see the OneVSAll ROC Curves of each class uncomment the below line\\n    # plot_roc_curve(model_data['y_test'], prediction_val, Classes, 1)\\n\\n    # If you want to see the OneVSAll Precission Recall Curves of each class, comment out the below line\\n    # plot_precision_recall_curve(model_data['y_test'], prediction_val, Classes , 1)\\n\\n    # If you want to get the Classification Report, comment out the below line\\n    create_clf_report(\\n        model_data[\\\"y_test\\\"],\\n        (prediction_val > 0.5).astype(\\\"int32\\\"),\\n        y_true_processed,\\n        y_pred_processed,\\n    )\\n\\n    # If you want to get the confusion matrix,comment out the below line\\n    plot_confusion_matrix(y_true_processed, y_pred_processed, Classes)\";\n",
       "                var nbb_cells = Jupyter.notebook.get_cells();\n",
       "                for (var i = 0; i < nbb_cells.length; ++i) {\n",
       "                    if (nbb_cells[i].input_prompt_number == nbb_cell_id) {\n",
       "                        if (nbb_cells[i].get_text() == nbb_unformatted_code) {\n",
       "                             nbb_cells[i].set_text(nbb_formatted_code);\n",
       "                        }\n",
       "                        break;\n",
       "                    }\n",
       "                }\n",
       "            }, 500);\n",
       "            "
      ],
      "text/plain": [
       "<IPython.core.display.Javascript object>"
      ]
     },
     "metadata": {},
     "output_type": "display_data"
    }
   ],
   "source": [
    "if RUN_STATE == \"testing\":\n",
    "    import numpy as np\n",
    "    from app.visualization import (\n",
    "        plot_prediction_metrics,\n",
    "        create_clf_report,\n",
    "        plot_roc_curve,\n",
    "        plot_precision_recall_curve,\n",
    "        plot_confusion_matrix,\n",
    "    )\n",
    "    import matplotlib.pylab as plt\n",
    "\n",
    "    prediction_val = model.predict(\n",
    "        model_data[\"x_test\"], batch_size=best_model_params[\"batch_size\"]\n",
    "    )\n",
    "\n",
    "    # returns each entry result to the classification with the relevant probabilities\n",
    "    y_pred_processed = np.array([np.argmax(val) for val in prediction_val])\n",
    "    y_true_processed = np.array([np.argmax(val) for val in model_data[\"y_test\"]])\n",
    "\n",
    "    # If you want to see the OneVSAll ROC Curves of each class uncomment the below line\n",
    "    # plot_roc_curve(model_data['y_test'], prediction_val, Classes, 1)\n",
    "\n",
    "    # If you want to see the OneVSAll Precission Recall Curves of each class, comment out the below line\n",
    "    # plot_precision_recall_curve(model_data['y_test'], prediction_val, Classes , 1)\n",
    "\n",
    "    # If you want to get the Classification Report, comment out the below line\n",
    "    create_clf_report(\n",
    "        model_data[\"y_test\"],\n",
    "        (prediction_val > 0.5).astype(\"int32\"),\n",
    "        y_true_processed,\n",
    "        y_pred_processed,\n",
    "    )\n",
    "\n",
    "    # If you want to get the confusion matrix,comment out the below line\n",
    "    plot_confusion_matrix(y_true_processed, y_pred_processed, Classes)"
   ]
  },
  {
   "cell_type": "markdown",
   "metadata": {},
   "source": [
    "### Multistack RNN with BiLSTM"
   ]
  },
  {
   "cell_type": "code",
   "execution_count": 8,
   "metadata": {},
   "outputs": [
    {
     "ename": "TypeError",
     "evalue": "__init__() got an unexpected keyword argument 'dataset_name'",
     "output_type": "error",
     "traceback": [
      "\u001b[0;31m---------------------------------------------------------------------------\u001b[0m",
      "\u001b[0;31mTypeError\u001b[0m                                 Traceback (most recent call last)",
      "\u001b[0;32m<ipython-input-8-f130315f88a2>\u001b[0m in \u001b[0;36m<module>\u001b[0;34m\u001b[0m\n\u001b[1;32m     20\u001b[0m                         \u001b[0mprint_params\u001b[0m\u001b[0;34m=\u001b[0m\u001b[0;32mTrue\u001b[0m\u001b[0;34m,\u001b[0m\u001b[0;34m\u001b[0m\u001b[0;34m\u001b[0m\u001b[0m\n\u001b[1;32m     21\u001b[0m                         \u001b[0mseed\u001b[0m\u001b[0;34m=\u001b[0m\u001b[0;34m(\u001b[0m\u001b[0;36m123\u001b[0m\u001b[0;34m)\u001b[0m\u001b[0;34m,\u001b[0m\u001b[0;34m\u001b[0m\u001b[0;34m\u001b[0m\u001b[0m\n\u001b[0;32m---> 22\u001b[0;31m                         \u001b[0mdataset_name\u001b[0m\u001b[0;34m=\u001b[0m\u001b[0mTALOS_LSTM_DEEP_MULTI_LOG_FILENAME\u001b[0m\u001b[0;34m\u001b[0m\u001b[0;34m\u001b[0m\u001b[0m\n\u001b[0m\u001b[1;32m     23\u001b[0m                         )\n",
      "\u001b[0;31mTypeError\u001b[0m: __init__() got an unexpected keyword argument 'dataset_name'"
     ]
    },
    {
     "data": {
      "application/javascript": [
       "\n",
       "            setTimeout(function() {\n",
       "                var nbb_cell_id = 8;\n",
       "                var nbb_unformatted_code = \"TALOS_LSTM_DEEP_MULTI_LOG_FILENAME = 'talos_logs_multi_bilstm'\\nif RUN_STATE == 'testing': \\n    TALOS_LSTM_DEEP_MULTI_LOG_FILENAME += '_test'\\n\\n\\n###### Production configuration\\nrnn_deep_lstm_multi_config = rnn_deep_lstm_config.copy()\\nrnn_deep_lstm_multi_config.update({\\n    \\\"model_type\\\": [\\\"keras_deep_LSTM_multi_model\\\"],\\n    \\\"multistack_run\\\": [True],\\n})\\n\\nhistory_model_multi = ta.Scan(model_data['x_train'],\\n                        model_data['y_train'],\\n                        x_val=model_data['x_train_dev'],\\n                        y_val=model_data['y_train_dev'],\\n                        model=load_bi_lstm_model,\\n                        params=rnn_deep_lstm_multi_config,\\n                        fraction_limit=0.1,\\n                        print_params=True,\\n                        seed=(123),\\n                        dataset_name=TALOS_LSTM_DEEP_MULTI_LOG_FILENAME\\n                        )\";\n",
       "                var nbb_formatted_code = \"TALOS_LSTM_DEEP_MULTI_LOG_FILENAME = \\\"talos_logs_multi_bilstm\\\"\\nif RUN_STATE == \\\"testing\\\":\\n    TALOS_LSTM_DEEP_MULTI_LOG_FILENAME += \\\"_test\\\"\\n\\n\\n###### Production configuration\\nrnn_deep_lstm_multi_config = rnn_deep_lstm_config.copy()\\nrnn_deep_lstm_multi_config.update(\\n    {\\\"model_type\\\": [\\\"keras_deep_LSTM_multi_model\\\"], \\\"multistack_run\\\": [True],}\\n)\\n\\nhistory_model_multi = ta.Scan(\\n    model_data[\\\"x_train\\\"],\\n    model_data[\\\"y_train\\\"],\\n    x_val=model_data[\\\"x_train_dev\\\"],\\n    y_val=model_data[\\\"y_train_dev\\\"],\\n    model=load_bi_lstm_model,\\n    params=rnn_deep_lstm_multi_config,\\n    fraction_limit=0.1,\\n    print_params=True,\\n    seed=(123),\\n    dataset_name=TALOS_LSTM_DEEP_MULTI_LOG_FILENAME,\\n)\";\n",
       "                var nbb_cells = Jupyter.notebook.get_cells();\n",
       "                for (var i = 0; i < nbb_cells.length; ++i) {\n",
       "                    if (nbb_cells[i].input_prompt_number == nbb_cell_id) {\n",
       "                        if (nbb_cells[i].get_text() == nbb_unformatted_code) {\n",
       "                             nbb_cells[i].set_text(nbb_formatted_code);\n",
       "                        }\n",
       "                        break;\n",
       "                    }\n",
       "                }\n",
       "            }, 500);\n",
       "            "
      ],
      "text/plain": [
       "<IPython.core.display.Javascript object>"
      ]
     },
     "metadata": {},
     "output_type": "display_data"
    }
   ],
   "source": [
    "TALOS_LSTM_DEEP_MULTI_LOG_FILENAME = 'talos_logs_multi_bilstm'\n",
    "if RUN_STATE == 'testing': \n",
    "    TALOS_LSTM_DEEP_MULTI_LOG_FILENAME += '_test'\n",
    "\n",
    "\n",
    "###### Production configuration\n",
    "rnn_deep_lstm_multi_config = rnn_deep_lstm_config.copy()\n",
    "rnn_deep_lstm_multi_config.update({\n",
    "    \"model_type\": [\"keras_deep_LSTM_multi_model\"],\n",
    "    \"multistack_run\": [True],\n",
    "})\n",
    "\n",
    "history_model_multi = ta.Scan(model_data['x_train'],\n",
    "                        model_data['y_train'],\n",
    "                        x_val=model_data['x_train_dev'],\n",
    "                        y_val=model_data['y_train_dev'],\n",
    "                        model=load_bi_lstm_model,\n",
    "                        params=rnn_deep_lstm_multi_config,\n",
    "                        fraction_limit=0.1,\n",
    "                        print_params=True,\n",
    "                        seed=(123),\n",
    "                        experiment_name=TALOS_LSTM_DEEP_MULTI_LOG_FILENAME\n",
    "                        )\n"
   ]
  },
  {
   "cell_type": "markdown",
   "metadata": {},
   "source": [
    "> Finds the best model configuration based for our RNN based on the highest value of the *val_f1*."
   ]
  },
  {
   "cell_type": "code",
   "execution_count": null,
   "metadata": {},
   "outputs": [],
   "source": [
    "report_talos_multi = ta.Reporting(history_model_multi)\n",
    "best_model_idx = report_talos_multi.data['val_loss'].idxmax()\n",
    "best_model_params_multi = report_talos_multi.data.loc[best_model_idx].to_dict()\n",
    "best_model_params_multi"
   ]
  },
  {
   "cell_type": "markdown",
   "metadata": {},
   "source": [
    "> Train a new RNN model based on the best Talos configuration.\n"
   ]
  },
  {
   "cell_type": "code",
   "execution_count": null,
   "metadata": {},
   "outputs": [],
   "source": [
    "if RUN_STATE == 'testing':\n",
    "    # Train and Load the best model of given the tuned featured model\n",
    "    model_history_multi, model_multi = load_bi_lstm_model(model_data['x_train'],\n",
    "                                                          model_data['y_train'],\n",
    "                                                          model_data['x_train_dev'],\n",
    "                                                          model_data['y_train_dev'],\n",
    "                                                          best_model_params)"
   ]
  },
  {
   "cell_type": "markdown",
   "metadata": {},
   "source": [
    "### Visualize Model History Scores"
   ]
  },
  {
   "cell_type": "code",
   "execution_count": null,
   "metadata": {},
   "outputs": [],
   "source": [
    "if RUN_STATE == 'testing':\n",
    "    from app.visualization import plot_history_metrics\n",
    "    import matplotlib.pylab as plt\n",
    "\n",
    "    %matplotlib inline\n",
    "    plot_history_metrics(history_obj=model_history_multi)"
   ]
  },
  {
   "cell_type": "markdown",
   "metadata": {},
   "source": [
    "### Evaluate performance model\n",
    "\n",
    "Evaluates the performance of the best trained model in the **test** dataset. "
   ]
  },
  {
   "cell_type": "code",
   "execution_count": null,
   "metadata": {},
   "outputs": [],
   "source": [
    "if RUN_STATE == 'testing':\n",
    "    score_multi = model_multi.evaluate(model_data['x_test'],\n",
    "                                       model_data['y_test'],\n",
    "                                       batch_size=best_model_params_multi['batch_size'],\n",
    "                                       verbose=1)\n",
    "\n",
    "    print('\\nTest f1: %.4f' % (score_multi[1]))\n",
    "    print('\\nTest categorical accuracy: %.4f'% (score_multi[2]))"
   ]
  },
  {
   "cell_type": "markdown",
   "metadata": {},
   "source": [
    "### Visualize Prediction Perfomance  model"
   ]
  },
  {
   "cell_type": "code",
   "execution_count": null,
   "metadata": {},
   "outputs": [],
   "source": [
    "if RUN_STATE == 'testing':\n",
    "    import numpy as np\n",
    "    from app.visualization import (plot_prediction_metrics,\n",
    "                                   create_clf_report,\n",
    "                                   plot_roc_curve,\n",
    "                                   plot_precision_recall_curve,\n",
    "                                   plot_confusion_matrix)\n",
    "    import matplotlib.pylab as plt\n",
    "\n",
    "    prediction_val_multi = model_multi.predict(model_data['x_test'], batch_size=best_model_params['batch_size'])\n",
    "\n",
    "    # returns each entry result to the classification with the relevant probabilities\n",
    "    y_pred_processed_multi = np.array([np.argmax(val) for val in prediction_val_multi])\n",
    "    y_true_processed_multi = np.array([np.argmax(val) for val in model_data['y_test']])\n",
    "\n",
    "    # If you want to see the OneVSAll ROC Curves of each class uncomment the below line\n",
    "    # plot_roc_curve(model_data['y_test'], prediction_val, Classes, 1)\n",
    "\n",
    "    # If you want to see the OneVSAll Precission Recall Curves of each class, comment out the below line\n",
    "    # plot_precision_recall_curve(model_data['y_test'], prediction_val, Classes , 1)\n",
    "\n",
    "    # If you want to get the Classification Report, comment out the below line\n",
    "    create_clf_report(model_data['y_test'], (prediction_val_multi > 0.5).astype('int32'),\n",
    "                      y_true_processed_multi, y_pred_processed_multi)\n",
    "\n",
    "    # If you want to get the confusion matrix,comment out the below line\n",
    "    plot_confusion_matrix(y_true_processed_multi, y_pred_processed_multi, Classes)"
   ]
  }
 ],
 "metadata": {
  "kernelspec": {
   "display_name": "Python 3",
   "language": "python",
   "name": "python3"
  },
  "language_info": {
   "codemirror_mode": {
    "name": "ipython",
    "version": 3
   },
   "file_extension": ".py",
   "mimetype": "text/x-python",
   "name": "python",
   "nbconvert_exporter": "python",
   "pygments_lexer": "ipython3",
   "version": "3.7.7"
  }
 },
 "nbformat": 4,
 "nbformat_minor": 2
}
