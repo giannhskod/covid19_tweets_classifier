{
 "cells": [
  {
   "cell_type": "code",
   "execution_count": 5,
   "metadata": {},
   "outputs": [
    {
     "name": "stdout",
     "output_type": "stream",
     "text": [
      "Train matrix dimensionality:  (13221, 5671)\n",
      "Test matrix dimensionality:  (3306, 5671)\n"
     ]
    }
   ],
   "source": [
    "import csv\n",
    "import numpy as np\n",
    "from sklearn.feature_extraction.text import TfidfVectorizer\n",
    "from sklearn.linear_model import LogisticRegression\n",
    "from sklearn.svm import SVC\n",
    "# Read training data\n",
    "train_index = list()\n",
    "y_train = list()    \n",
    "with open('data/train.csv', 'r') as f:\n",
    "    for line in f:\n",
    "        t = line.split(',')\n",
    "        train_index.append(int(t[0]))\n",
    "        y_train.append(int(t[1]))\n",
    "\n",
    "# Read test data\n",
    "test_index = list()  \n",
    "with open('data/test.csv', 'r') as f:\n",
    "    for line in f:\n",
    "        t = line.split(',')\n",
    "        test_index.append(int(t[0]))\n",
    "\n",
    "# Load the textual content of the messages into the dictionary \"posts\"\n",
    "posts = dict()\n",
    "with open('data/posts.tsv', 'r') as f:\n",
    "    for line in f:\n",
    "        t = line.split('\\t')\n",
    "        posts[int(t[0])] = t[2][:-1]\n",
    "\n",
    "# Create 2 lists: one containing the messages of the training set and the other containing the messages of the\n",
    "# test set\n",
    "train_posts = [posts[idx] for idx in train_index]\n",
    "test_posts = [posts[idx] for idx in test_index]\n",
    "\n",
    "# Create the training matrix. Each row corresponds to a message and each column to a word present in at least 5\n",
    "# messages of the training set. The value of each entry in a row is equal to the tf-idf weight of that word in the \n",
    "# corresponding message \n",
    "vectorizer = TfidfVectorizer(stop_words='english',min_df=5)\n",
    "X_train = vectorizer.fit_transform(train_posts)\n",
    "\n",
    "# Create the test matrix following the same approach as in the case of the training matrix\n",
    "X_test = vectorizer.transform(test_posts)\n",
    "\n",
    "print(\"Train matrix dimensionality: \", X_train.shape)\n",
    "print(\"Test matrix dimensionality: \", X_test.shape)\n",
    "\n",
    "# Use logistic regression to classify the messages of the test set\n",
    "clf = LogisticRegression(solver='newton-cg', multi_class='multinomial')\n",
    "clf.fit(X_train, y_train)\n",
    "y_pred_train = clf.predict_proba(X_train)\n",
    "y_pred = clf.predict_proba(X_test)\n",
    "\n",
    "# Write predictions to a file\n",
    "with open('text_train_baseline_submission.csv', 'w') as csvfile:\n",
    "    writer = csv.writer(csvfile, delimiter=',')\n",
    "    for i,idx in enumerate(train_index):\n",
    "        lst = y_pred_train[i,:].tolist()\n",
    "        writer.writerow(lst)\n",
    "        \n",
    "\n",
    "# Write predictions to a file\n",
    "with open('text_baseline_submission.csv', 'w') as csvfile:\n",
    "    writer = csv.writer(csvfile, delimiter=',')\n",
    "    for i,idx in enumerate(test_index):\n",
    "        lst = y_pred[i,:].tolist()\n",
    "        writer.writerow(lst)"
   ]
  },
  {
   "cell_type": "code",
   "execution_count": 23,
   "metadata": {},
   "outputs": [],
   "source": [
    "from sklearn.metrics import log_loss\n",
    "from sklearn.model_selection import train_test_split\n",
    "from sklearn.ensemble import RandomForestClassifier\n",
    "from sklearn.pipeline import make_pipeline\n",
    "from sklearn.preprocessing import StandardScaler\n",
    "from sklearn.svm import SVC\n",
    "from sklearn.ensemble import RandomForestClassifier\n",
    "from sklearn.linear_model import SGDClassifier"
   ]
  },
  {
   "cell_type": "code",
   "execution_count": 7,
   "metadata": {},
   "outputs": [],
   "source": [
    "X_train_dev, X_test_dev, y_train_dev, y_test_dev = train_test_split(X_train, y_train, test_size=0.2)"
   ]
  },
  {
   "cell_type": "code",
   "execution_count": 32,
   "metadata": {
    "scrolled": true
   },
   "outputs": [
    {
     "name": "stdout",
     "output_type": "stream",
     "text": [
      "log loss lin: 1.2137472990448082\n"
     ]
    }
   ],
   "source": [
    "clf = RandomForestClassifier(max_depth=103,criterion = 'entropy')\n",
    "clf.fit(X_train_dev, y_train_dev)\n",
    "y_pred = clf.predict_proba(X_test_dev)\n",
    "log = log_loss(y_test_dev,y_pred)\n",
    "print(\"log loss lin:\", log)"
   ]
  },
  {
   "cell_type": "code",
   "execution_count": 21,
   "metadata": {},
   "outputs": [
    {
     "name": "stdout",
     "output_type": "stream",
     "text": [
      "log loss SVC: 1.244777428353459\n"
     ]
    }
   ],
   "source": [
    "clf = SVC(gamma='auto',probability = True)\n",
    "clf.fit(X_train_dev, y_train_dev)\n",
    "y_pred_dev_SVC = clf.predict_proba(X_test_dev)\n",
    "log = log_loss(y_test_dev,y_pred_dev_SVC)\n",
    "print(\"log loss SVC:\", log)"
   ]
  },
  {
   "cell_type": "code",
   "execution_count": 27,
   "metadata": {},
   "outputs": [
    {
     "name": "stdout",
     "output_type": "stream",
     "text": [
      "log loss SGD: 1.3476977634172946\n"
     ]
    },
    {
     "name": "stderr",
     "output_type": "stream",
     "text": [
      "/Users/pspyrakis/opt/anaconda3/lib/python3.7/site-packages/sklearn/linear_model/_stochastic_gradient.py:557: ConvergenceWarning: Maximum number of iteration reached before convergence. Consider increasing max_iter to improve the fit.\n",
      "  ConvergenceWarning)\n"
     ]
    }
   ],
   "source": [
    "clf = clf = SGDClassifier(tol=1e-6,loss = 'log',eta0 = 0.0001,learning_rate = 'adaptive',max_iter = 10000)\n",
    "clf.fit(X_train_dev, y_train_dev)\n",
    "y_pred_dev_SGD = clf.predict_proba(X_test_dev)\n",
    "log = log_loss(y_test_dev,y_pred_dev_SGD)\n",
    "print(\"log loss SGD:\", log)"
   ]
  },
  {
   "cell_type": "code",
   "execution_count": 28,
   "metadata": {},
   "outputs": [
    {
     "name": "stdout",
     "output_type": "stream",
     "text": [
      "log loss SVC: 1.2267951195964124\n"
     ]
    }
   ],
   "source": [
    "clf = LogisticRegression(solver='newton-cg', multi_class='multinomial')\n",
    "clf.fit(X_train_dev, y_train_dev)\n",
    "y_pred_dev_lin = clf.predict_proba(X_test_dev)\n",
    "log = log_loss(y_test_dev,y_pred_dev_lin)\n",
    "print(\"log loss SVC:\", log)"
   ]
  },
  {
   "cell_type": "code",
   "execution_count": null,
   "metadata": {},
   "outputs": [],
   "source": []
  }
 ],
 "metadata": {
  "kernelspec": {
   "display_name": "Python 3",
   "language": "python",
   "name": "python3"
  },
  "language_info": {
   "codemirror_mode": {
    "name": "ipython",
    "version": 3
   },
   "file_extension": ".py",
   "mimetype": "text/x-python",
   "name": "python",
   "nbconvert_exporter": "python",
   "pygments_lexer": "ipython3",
   "version": "3.7.6"
  }
 },
 "nbformat": 4,
 "nbformat_minor": 4
}
