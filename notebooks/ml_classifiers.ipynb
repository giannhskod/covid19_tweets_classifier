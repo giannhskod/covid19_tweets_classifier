{
 "cells": [
  {
   "cell_type": "code",
   "execution_count": 30,
   "metadata": {},
   "outputs": [
    {
     "data": {
      "application/javascript": [
       "\n",
       "            setTimeout(function() {\n",
       "                var nbb_cell_id = 30;\n",
       "                var nbb_unformatted_code = \"from sklearn.metrics import log_loss\\nfrom sklearn.model_selection import train_test_split\\nfrom sklearn.ensemble import RandomForestClassifier\\nfrom sklearn.pipeline import make_pipeline\\nfrom sklearn.preprocessing import StandardScaler\\nfrom sklearn.svm import SVC\\nfrom sklearn.ensemble import RandomForestClassifier\\nfrom sklearn.linear_model import SGDClassifier\\nfrom sklearn.ensemble import VotingClassifier\";\n",
       "                var nbb_formatted_code = \"from sklearn.metrics import log_loss\\nfrom sklearn.model_selection import train_test_split\\nfrom sklearn.ensemble import RandomForestClassifier\\nfrom sklearn.pipeline import make_pipeline\\nfrom sklearn.preprocessing import StandardScaler\\nfrom sklearn.svm import SVC\\nfrom sklearn.ensemble import RandomForestClassifier\\nfrom sklearn.linear_model import SGDClassifier\\nfrom sklearn.ensemble import VotingClassifier\";\n",
       "                var nbb_cells = Jupyter.notebook.get_cells();\n",
       "                for (var i = 0; i < nbb_cells.length; ++i) {\n",
       "                    if (nbb_cells[i].input_prompt_number == nbb_cell_id) {\n",
       "                        if (nbb_cells[i].get_text() == nbb_unformatted_code) {\n",
       "                             nbb_cells[i].set_text(nbb_formatted_code);\n",
       "                        }\n",
       "                        break;\n",
       "                    }\n",
       "                }\n",
       "            }, 500);\n",
       "            "
      ],
      "text/plain": [
       "<IPython.core.display.Javascript object>"
      ]
     },
     "metadata": {},
     "output_type": "display_data"
    }
   ],
   "source": [
    "from sklearn.metrics import log_loss\n",
    "from sklearn.model_selection import train_test_split\n",
    "from sklearn.ensemble import RandomForestClassifier\n",
    "from sklearn.pipeline import make_pipeline\n",
    "from sklearn.preprocessing import StandardScaler\n",
    "from sklearn.svm import SVC\n",
    "from sklearn.ensemble import RandomForestClassifier\n",
    "from sklearn.linear_model import SGDClassifier\n",
    "from sklearn.ensemble import VotingClassifier"
   ]
  },
  {
   "cell_type": "code",
   "execution_count": 73,
   "metadata": {},
   "outputs": [
    {
     "name": "stdout",
     "output_type": "stream",
     "text": [
      "The autoreload extension is already loaded. To reload it, use:\n",
      "  %reload_ext autoreload\n",
      "The nb_black extension is already loaded. To reload it, use:\n",
      "  %reload_ext nb_black\n",
      "The autoreload extension is already loaded. To reload it, use:\n",
      "  %reload_ext autoreload\n",
      "The nb_black extension is already loaded. To reload it, use:\n",
      "  %reload_ext nb_black\n"
     ]
    },
    {
     "data": {
      "application/javascript": [
       "\n",
       "            setTimeout(function() {\n",
       "                var nbb_cell_id = 73;\n",
       "                var nbb_unformatted_code = \"import csv\\nimport os\\nimport numpy as np\\nfrom sklearn.feature_extraction.text import TfidfVectorizer\\nfrom sklearn.linear_model import LogisticRegression\\nfrom sklearn.svm import SVC\\n\\nimport parent_modules\\nimport preprocessor\\n\\n%load_ext autoreload\\n%load_ext nb_black\\n%autoreload 2\\n\\nfrom definitions import *\\n\\nimport parent_modules\\nimport preprocessor\\n\\n%load_ext autoreload\\n%load_ext nb_black\\n%autoreload 2\\n\\nfrom definitions import *\\n\\n# Read training data\\ntrain_index = list()\\ny_train = list()    \\nwith open(os.path.join(DATA_DIR, \\\"train.csv\\\"), 'r') as f:\\n    for line in f:\\n        t = line.split(',')\\n        train_index.append(int(t[0]))\\n        y_train.append(int(t[1]))\\n\\n# Read test data\\ntest_index = list()  \\nwith open(os.path.join(DATA_DIR, \\\"test.csv\\\"), 'r') as f:\\n    for line in f:\\n        t = line.split(',')\\n        test_index.append(int(t[0]))\\n\\n# Load the textual content of the messages into the dictionary \\\"posts\\\"\\nloaded_posts = dict()\\nwith open(os.path.join(DATA_DIR, \\\"posts.tsv\\\"), 'r') as f:\\n    for line in f:\\n        t = line.split('\\\\t')\\n        loaded_posts[int(t[0])] = t[2][:-1]\";\n",
       "                var nbb_formatted_code = \"import csv\\nimport os\\nimport numpy as np\\nfrom sklearn.feature_extraction.text import TfidfVectorizer\\nfrom sklearn.linear_model import LogisticRegression\\nfrom sklearn.svm import SVC\\n\\nimport parent_modules\\nimport preprocessor\\n\\n%load_ext autoreload\\n%load_ext nb_black\\n%autoreload 2\\n\\nfrom definitions import *\\n\\nimport parent_modules\\nimport preprocessor\\n\\n%load_ext autoreload\\n%load_ext nb_black\\n%autoreload 2\\n\\nfrom definitions import *\\n\\n# Read training data\\ntrain_index = list()\\ny_train = list()\\nwith open(os.path.join(DATA_DIR, \\\"train.csv\\\"), \\\"r\\\") as f:\\n    for line in f:\\n        t = line.split(\\\",\\\")\\n        train_index.append(int(t[0]))\\n        y_train.append(int(t[1]))\\n\\n# Read test data\\ntest_index = list()\\nwith open(os.path.join(DATA_DIR, \\\"test.csv\\\"), \\\"r\\\") as f:\\n    for line in f:\\n        t = line.split(\\\",\\\")\\n        test_index.append(int(t[0]))\\n\\n# Load the textual content of the messages into the dictionary \\\"posts\\\"\\nloaded_posts = dict()\\nwith open(os.path.join(DATA_DIR, \\\"posts.tsv\\\"), \\\"r\\\") as f:\\n    for line in f:\\n        t = line.split(\\\"\\\\t\\\")\\n        loaded_posts[int(t[0])] = t[2][:-1]\";\n",
       "                var nbb_cells = Jupyter.notebook.get_cells();\n",
       "                for (var i = 0; i < nbb_cells.length; ++i) {\n",
       "                    if (nbb_cells[i].input_prompt_number == nbb_cell_id) {\n",
       "                        if (nbb_cells[i].get_text() == nbb_unformatted_code) {\n",
       "                             nbb_cells[i].set_text(nbb_formatted_code);\n",
       "                        }\n",
       "                        break;\n",
       "                    }\n",
       "                }\n",
       "            }, 500);\n",
       "            "
      ],
      "text/plain": [
       "<IPython.core.display.Javascript object>"
      ]
     },
     "metadata": {},
     "output_type": "display_data"
    }
   ],
   "source": [
    "import csv\n",
    "import os\n",
    "import numpy as np\n",
    "from sklearn.feature_extraction.text import TfidfVectorizer\n",
    "from sklearn.linear_model import LogisticRegression\n",
    "from sklearn.svm import SVC\n",
    "\n",
    "import parent_modules\n",
    "import preprocessor\n",
    "\n",
    "%load_ext autoreload\n",
    "%load_ext nb_black\n",
    "%autoreload 2\n",
    "\n",
    "from definitions import *\n",
    "\n",
    "# Read training data\n",
    "train_index = list()\n",
    "y_train = list()    \n",
    "with open(os.path.join(DATA_DIR, \"train.csv\"), 'r') as f:\n",
    "    for line in f:\n",
    "        t = line.split(',')\n",
    "        train_index.append(int(t[0]))\n",
    "        y_train.append(int(t[1]))\n",
    "\n",
    "# Read test data\n",
    "test_index = list()  \n",
    "with open(os.path.join(DATA_DIR, \"test.csv\"), 'r') as f:\n",
    "    for line in f:\n",
    "        t = line.split(',')\n",
    "        test_index.append(int(t[0]))\n",
    "\n",
    "# Load the textual content of the messages into the dictionary \"posts\"\n",
    "loaded_posts = dict()\n",
    "with open(os.path.join(DATA_DIR, \"posts.tsv\"), 'r') as f:\n",
    "    for line in f:\n",
    "        t = line.split('\\t')\n",
    "        loaded_posts[int(t[0])] = t[2][:-1]\n",
    "\n"
   ]
  },
  {
   "cell_type": "code",
   "execution_count": 101,
   "metadata": {},
   "outputs": [
    {
     "data": {
      "application/javascript": [
       "\n",
       "            setTimeout(function() {\n",
       "                var nbb_cell_id = 101;\n",
       "                var nbb_unformatted_code = \"total_entries = len(y_train)\\nclass_counts = {i: len(list(filter(lambda x: x == i, y_train))) for i in range(15)}\\nclass_weights = {\\n    cls: np.round((1 / class_counts[cls]) * total_entries / 2, 4) for cls in range(15)\\n}\";\n",
       "                var nbb_formatted_code = \"total_entries = len(y_train)\\nclass_counts = {i: len(list(filter(lambda x: x == i, y_train))) for i in range(15)}\\nclass_weights = {\\n    cls: np.round((1 / class_counts[cls]) * total_entries / 2, 4) for cls in range(15)\\n}\";\n",
       "                var nbb_cells = Jupyter.notebook.get_cells();\n",
       "                for (var i = 0; i < nbb_cells.length; ++i) {\n",
       "                    if (nbb_cells[i].input_prompt_number == nbb_cell_id) {\n",
       "                        if (nbb_cells[i].get_text() == nbb_unformatted_code) {\n",
       "                             nbb_cells[i].set_text(nbb_formatted_code);\n",
       "                        }\n",
       "                        break;\n",
       "                    }\n",
       "                }\n",
       "            }, 500);\n",
       "            "
      ],
      "text/plain": [
       "<IPython.core.display.Javascript object>"
      ]
     },
     "metadata": {},
     "output_type": "display_data"
    }
   ],
   "source": [
    "total_entries = len(y_train)\n",
    "class_counts = {i: len(list(filter(lambda x: x == i, y_train))) for i in range(15)}\n",
    "class_weights = {\n",
    "    cls: np.round((1 / class_counts[cls]) * total_entries / 2, 4) for cls in range(15)\n",
    "}"
   ]
  },
  {
   "cell_type": "code",
   "execution_count": 103,
   "metadata": {},
   "outputs": [
    {
     "data": {
      "text/plain": [
       "{0: 1.1758,\n",
       " 1: 11.5366,\n",
       " 2: 2.781,\n",
       " 3: 4.7218,\n",
       " 4: 6.207,\n",
       " 5: 36.725,\n",
       " 6: 70.3245,\n",
       " 7: 367.25,\n",
       " 8: 54.1844,\n",
       " 9: 58.5,\n",
       " 10: 13.1946,\n",
       " 11: 20.4028,\n",
       " 12: 22.1087,\n",
       " 13: 31.9348,\n",
       " 14: 20.2776}"
      ]
     },
     "execution_count": 103,
     "metadata": {},
     "output_type": "execute_result"
    },
    {
     "data": {
      "application/javascript": [
       "\n",
       "            setTimeout(function() {\n",
       "                var nbb_cell_id = 103;\n",
       "                var nbb_unformatted_code = \"class_weights\";\n",
       "                var nbb_formatted_code = \"class_weights\";\n",
       "                var nbb_cells = Jupyter.notebook.get_cells();\n",
       "                for (var i = 0; i < nbb_cells.length; ++i) {\n",
       "                    if (nbb_cells[i].input_prompt_number == nbb_cell_id) {\n",
       "                        if (nbb_cells[i].get_text() == nbb_unformatted_code) {\n",
       "                             nbb_cells[i].set_text(nbb_formatted_code);\n",
       "                        }\n",
       "                        break;\n",
       "                    }\n",
       "                }\n",
       "            }, 500);\n",
       "            "
      ],
      "text/plain": [
       "<IPython.core.display.Javascript object>"
      ]
     },
     "metadata": {},
     "output_type": "display_data"
    }
   ],
   "source": [
    "class_weights"
   ]
  },
  {
   "cell_type": "code",
   "execution_count": 35,
   "metadata": {},
   "outputs": [
    {
     "data": {
      "application/javascript": [
       "\n",
       "            setTimeout(function() {\n",
       "                var nbb_cell_id = 35;\n",
       "                var nbb_unformatted_code = \"# Data Preprocessing\\nimport re\\n\\n\\ndef clean_str(string):\\n    string = re.sub(r\\\"[^A-Za-z0-9(),!?\\\\'\\\\`]\\\", \\\" \\\", string)\\n    string = re.sub(r\\\"\\\\'s\\\", \\\" 's\\\", string)\\n    string = re.sub(r\\\"\\\\'ve\\\", \\\" 've\\\", string)\\n    string = re.sub(r\\\"n\\\\'t\\\", \\\" n't\\\", string)\\n    string = re.sub(r\\\"\\\\'re\\\", \\\" 're\\\", string)\\n    string = re.sub(r\\\"\\\\'d\\\", \\\" 'd\\\", string)\\n    string = re.sub(r\\\"\\\\'ll\\\", \\\" 'll\\\", string)\\n    string = re.sub(r\\\",\\\", \\\" , \\\", string)\\n    string = re.sub(r\\\"!\\\", \\\" ! \\\", string)\\n    string = re.sub(r\\\"\\\\(\\\", \\\" \\\\( \\\", string)\\n    string = re.sub(r\\\"\\\\)\\\", \\\" \\\\) \\\", string)\\n    string = re.sub(r\\\"\\\\?\\\", \\\" \\\\? \\\", string)\\n    string = re.sub(r\\\"\\\\s{2,}\\\", \\\" \\\", string)\\n    return string.strip().split()\\n\\n\\nposts = {idx: \\\" \\\".join(clean_str(post)) for idx, post in loaded_posts.items()}\\n# posts = {idx: preprocessor.clean(post) for idx, post in loaded_posts.items()}\";\n",
       "                var nbb_formatted_code = \"# Data Preprocessing\\nimport re\\n\\n\\ndef clean_str(string):\\n    string = re.sub(r\\\"[^A-Za-z0-9(),!?\\\\'\\\\`]\\\", \\\" \\\", string)\\n    string = re.sub(r\\\"\\\\'s\\\", \\\" 's\\\", string)\\n    string = re.sub(r\\\"\\\\'ve\\\", \\\" 've\\\", string)\\n    string = re.sub(r\\\"n\\\\'t\\\", \\\" n't\\\", string)\\n    string = re.sub(r\\\"\\\\'re\\\", \\\" 're\\\", string)\\n    string = re.sub(r\\\"\\\\'d\\\", \\\" 'd\\\", string)\\n    string = re.sub(r\\\"\\\\'ll\\\", \\\" 'll\\\", string)\\n    string = re.sub(r\\\",\\\", \\\" , \\\", string)\\n    string = re.sub(r\\\"!\\\", \\\" ! \\\", string)\\n    string = re.sub(r\\\"\\\\(\\\", \\\" \\\\( \\\", string)\\n    string = re.sub(r\\\"\\\\)\\\", \\\" \\\\) \\\", string)\\n    string = re.sub(r\\\"\\\\?\\\", \\\" \\\\? \\\", string)\\n    string = re.sub(r\\\"\\\\s{2,}\\\", \\\" \\\", string)\\n    return string.strip().split()\\n\\n\\nposts = {idx: \\\" \\\".join(clean_str(post)) for idx, post in loaded_posts.items()}\\n# posts = {idx: preprocessor.clean(post) for idx, post in loaded_posts.items()}\";\n",
       "                var nbb_cells = Jupyter.notebook.get_cells();\n",
       "                for (var i = 0; i < nbb_cells.length; ++i) {\n",
       "                    if (nbb_cells[i].input_prompt_number == nbb_cell_id) {\n",
       "                        if (nbb_cells[i].get_text() == nbb_unformatted_code) {\n",
       "                             nbb_cells[i].set_text(nbb_formatted_code);\n",
       "                        }\n",
       "                        break;\n",
       "                    }\n",
       "                }\n",
       "            }, 500);\n",
       "            "
      ],
      "text/plain": [
       "<IPython.core.display.Javascript object>"
      ]
     },
     "metadata": {},
     "output_type": "display_data"
    }
   ],
   "source": [
    "# Data Preprocessing\n",
    "import re\n",
    "\n",
    "\n",
    "def clean_str(string):\n",
    "    string = re.sub(r\"[^A-Za-z0-9(),!?\\'\\`]\", \" \", string)\n",
    "    string = re.sub(r\"\\'s\", \" 's\", string)\n",
    "    string = re.sub(r\"\\'ve\", \" 've\", string)\n",
    "    string = re.sub(r\"n\\'t\", \" n't\", string)\n",
    "    string = re.sub(r\"\\'re\", \" 're\", string)\n",
    "    string = re.sub(r\"\\'d\", \" 'd\", string)\n",
    "    string = re.sub(r\"\\'ll\", \" 'll\", string)\n",
    "    string = re.sub(r\",\", \" , \", string)\n",
    "    string = re.sub(r\"!\", \" ! \", string)\n",
    "    string = re.sub(r\"\\(\", \" \\( \", string)\n",
    "    string = re.sub(r\"\\)\", \" \\) \", string)\n",
    "    string = re.sub(r\"\\?\", \" \\? \", string)\n",
    "    string = re.sub(r\"\\s{2,}\", \" \", string)\n",
    "    return string.strip().split()\n",
    "\n",
    "\n",
    "posts = {idx: \" \".join(clean_str(post)) for idx, post in loaded_posts.items()}\n",
    "# posts = {idx: preprocessor.clean(post) for idx, post in loaded_posts.items()}"
   ]
  },
  {
   "cell_type": "code",
   "execution_count": 36,
   "metadata": {},
   "outputs": [
    {
     "data": {
      "text/plain": [
       "'Since everyone is on lockdown because of COVID19 , I want to spread some positivity and surprise some people ! I am giving five people that retweets this a free AnimalCrossing Nintendo Switch Bundle , must be following me for a DM ! Good luck amp ! ACNH https t co sIAkfuxZhK'"
      ]
     },
     "execution_count": 36,
     "metadata": {},
     "output_type": "execute_result"
    },
    {
     "data": {
      "application/javascript": [
       "\n",
       "            setTimeout(function() {\n",
       "                var nbb_cell_id = 36;\n",
       "                var nbb_unformatted_code = \"posts[0]\";\n",
       "                var nbb_formatted_code = \"posts[0]\";\n",
       "                var nbb_cells = Jupyter.notebook.get_cells();\n",
       "                for (var i = 0; i < nbb_cells.length; ++i) {\n",
       "                    if (nbb_cells[i].input_prompt_number == nbb_cell_id) {\n",
       "                        if (nbb_cells[i].get_text() == nbb_unformatted_code) {\n",
       "                             nbb_cells[i].set_text(nbb_formatted_code);\n",
       "                        }\n",
       "                        break;\n",
       "                    }\n",
       "                }\n",
       "            }, 500);\n",
       "            "
      ],
      "text/plain": [
       "<IPython.core.display.Javascript object>"
      ]
     },
     "metadata": {},
     "output_type": "display_data"
    }
   ],
   "source": [
    "posts[0]"
   ]
  },
  {
   "cell_type": "code",
   "execution_count": 37,
   "metadata": {},
   "outputs": [
    {
     "name": "stdout",
     "output_type": "stream",
     "text": [
      "Train matrix dimensionality:  (13221, 5699)\n",
      "Test matrix dimensionality:  (3306, 5699)\n"
     ]
    },
    {
     "data": {
      "application/javascript": [
       "\n",
       "            setTimeout(function() {\n",
       "                var nbb_cell_id = 37;\n",
       "                var nbb_unformatted_code = \"# Create 2 lists: one containing the messages of the training set and the other containing the messages of the\\n# test set\\ntrain_posts = [posts[idx] for idx in train_index]\\ntest_posts = [posts[idx] for idx in test_index]\\n\\n# Create the training matrix. Each row corresponds to a message and each column to a word present in at least 5\\n# messages of the training set. The value of each entry in a row is equal to the tf-idf weight of that word in the\\n# corresponding message\\nvectorizer = TfidfVectorizer(stop_words=\\\"english\\\", min_df=5)\\nX_train = vectorizer.fit_transform(train_posts)\\n\\n# Create the test matrix following the same approach as in the case of the training matrix\\nX_test = vectorizer.transform(test_posts)\\n\\nprint(\\\"Train matrix dimensionality: \\\", X_train.shape)\\nprint(\\\"Test matrix dimensionality: \\\", X_test.shape)\\n\\n# Use logistic regression to classify the messages of the test set\\nclf = LogisticRegression(solver=\\\"newton-cg\\\", multi_class=\\\"multinomial\\\")\\nclf.fit(X_train, y_train)\\ny_pred_train = clf.predict_proba(X_train)\\ny_pred = clf.predict_proba(X_test)\";\n",
       "                var nbb_formatted_code = \"# Create 2 lists: one containing the messages of the training set and the other containing the messages of the\\n# test set\\ntrain_posts = [posts[idx] for idx in train_index]\\ntest_posts = [posts[idx] for idx in test_index]\\n\\n# Create the training matrix. Each row corresponds to a message and each column to a word present in at least 5\\n# messages of the training set. The value of each entry in a row is equal to the tf-idf weight of that word in the\\n# corresponding message\\nvectorizer = TfidfVectorizer(stop_words=\\\"english\\\", min_df=5)\\nX_train = vectorizer.fit_transform(train_posts)\\n\\n# Create the test matrix following the same approach as in the case of the training matrix\\nX_test = vectorizer.transform(test_posts)\\n\\nprint(\\\"Train matrix dimensionality: \\\", X_train.shape)\\nprint(\\\"Test matrix dimensionality: \\\", X_test.shape)\\n\\n# Use logistic regression to classify the messages of the test set\\nclf = LogisticRegression(solver=\\\"newton-cg\\\", multi_class=\\\"multinomial\\\")\\nclf.fit(X_train, y_train)\\ny_pred_train = clf.predict_proba(X_train)\\ny_pred = clf.predict_proba(X_test)\";\n",
       "                var nbb_cells = Jupyter.notebook.get_cells();\n",
       "                for (var i = 0; i < nbb_cells.length; ++i) {\n",
       "                    if (nbb_cells[i].input_prompt_number == nbb_cell_id) {\n",
       "                        if (nbb_cells[i].get_text() == nbb_unformatted_code) {\n",
       "                             nbb_cells[i].set_text(nbb_formatted_code);\n",
       "                        }\n",
       "                        break;\n",
       "                    }\n",
       "                }\n",
       "            }, 500);\n",
       "            "
      ],
      "text/plain": [
       "<IPython.core.display.Javascript object>"
      ]
     },
     "metadata": {},
     "output_type": "display_data"
    }
   ],
   "source": [
    "# Create 2 lists: one containing the messages of the training set and the other containing the messages of the\n",
    "# test set\n",
    "train_posts = [posts[idx] for idx in train_index]\n",
    "test_posts = [posts[idx] for idx in test_index]\n",
    "\n",
    "# Create the training matrix. Each row corresponds to a message and each column to a word present in at least 5\n",
    "# messages of the training set. The value of each entry in a row is equal to the tf-idf weight of that word in the\n",
    "# corresponding message\n",
    "vectorizer = TfidfVectorizer(stop_words=\"english\", min_df=5)\n",
    "X_train = vectorizer.fit_transform(train_posts)\n",
    "\n",
    "# Create the test matrix following the same approach as in the case of the training matrix\n",
    "X_test = vectorizer.transform(test_posts)\n",
    "\n",
    "print(\"Train matrix dimensionality: \", X_train.shape)\n",
    "print(\"Test matrix dimensionality: \", X_test.shape)"
   ]
  },
  {
   "cell_type": "code",
   "execution_count": 86,
   "metadata": {},
   "outputs": [
    {
     "data": {
      "text/plain": [
       "<1x5699 sparse matrix of type '<class 'numpy.float64'>'\n",
       "\twith 21 stored elements in Compressed Sparse Row format>"
      ]
     },
     "execution_count": 86,
     "metadata": {},
     "output_type": "execute_result"
    },
    {
     "data": {
      "application/javascript": [
       "\n",
       "            setTimeout(function() {\n",
       "                var nbb_cell_id = 86;\n",
       "                var nbb_unformatted_code = \"X_train[0]\";\n",
       "                var nbb_formatted_code = \"X_train[0]\";\n",
       "                var nbb_cells = Jupyter.notebook.get_cells();\n",
       "                for (var i = 0; i < nbb_cells.length; ++i) {\n",
       "                    if (nbb_cells[i].input_prompt_number == nbb_cell_id) {\n",
       "                        if (nbb_cells[i].get_text() == nbb_unformatted_code) {\n",
       "                             nbb_cells[i].set_text(nbb_formatted_code);\n",
       "                        }\n",
       "                        break;\n",
       "                    }\n",
       "                }\n",
       "            }, 500);\n",
       "            "
      ],
      "text/plain": [
       "<IPython.core.display.Javascript object>"
      ]
     },
     "metadata": {},
     "output_type": "display_data"
    }
   ],
   "source": [
    "X_train[0]"
   ]
  },
  {
   "cell_type": "code",
   "execution_count": 38,
   "metadata": {},
   "outputs": [
    {
     "data": {
      "application/javascript": [
       "\n",
       "            setTimeout(function() {\n",
       "                var nbb_cell_id = 38;\n",
       "                var nbb_unformatted_code = \"X_train_dev, X_test_dev, y_train_dev, y_test_dev = train_test_split(\\n    X_train, y_train, test_size=0.2\\n)\";\n",
       "                var nbb_formatted_code = \"X_train_dev, X_test_dev, y_train_dev, y_test_dev = train_test_split(\\n    X_train, y_train, test_size=0.2\\n)\";\n",
       "                var nbb_cells = Jupyter.notebook.get_cells();\n",
       "                for (var i = 0; i < nbb_cells.length; ++i) {\n",
       "                    if (nbb_cells[i].input_prompt_number == nbb_cell_id) {\n",
       "                        if (nbb_cells[i].get_text() == nbb_unformatted_code) {\n",
       "                             nbb_cells[i].set_text(nbb_formatted_code);\n",
       "                        }\n",
       "                        break;\n",
       "                    }\n",
       "                }\n",
       "            }, 500);\n",
       "            "
      ],
      "text/plain": [
       "<IPython.core.display.Javascript object>"
      ]
     },
     "metadata": {},
     "output_type": "display_data"
    }
   ],
   "source": [
    "X_train_dev, X_test_dev, y_train_dev, y_test_dev = train_test_split(\n",
    "    X_train, y_train, test_size=0.2\n",
    ")"
   ]
  },
  {
   "cell_type": "code",
   "execution_count": 48,
   "metadata": {},
   "outputs": [
    {
     "data": {
      "text/plain": [
       "int"
      ]
     },
     "execution_count": 48,
     "metadata": {},
     "output_type": "execute_result"
    },
    {
     "data": {
      "application/javascript": [
       "\n",
       "            setTimeout(function() {\n",
       "                var nbb_cell_id = 48;\n",
       "                var nbb_unformatted_code = \"type(y_train_dev[0])\";\n",
       "                var nbb_formatted_code = \"type(y_train_dev[0])\";\n",
       "                var nbb_cells = Jupyter.notebook.get_cells();\n",
       "                for (var i = 0; i < nbb_cells.length; ++i) {\n",
       "                    if (nbb_cells[i].input_prompt_number == nbb_cell_id) {\n",
       "                        if (nbb_cells[i].get_text() == nbb_unformatted_code) {\n",
       "                             nbb_cells[i].set_text(nbb_formatted_code);\n",
       "                        }\n",
       "                        break;\n",
       "                    }\n",
       "                }\n",
       "            }, 500);\n",
       "            "
      ],
      "text/plain": [
       "<IPython.core.display.Javascript object>"
      ]
     },
     "metadata": {},
     "output_type": "display_data"
    }
   ],
   "source": [
    "type(y_train_dev[0])"
   ]
  },
  {
   "cell_type": "code",
   "execution_count": 65,
   "metadata": {},
   "outputs": [
    {
     "data": {
      "text/plain": [
       "VotingClassifier(estimators=[('clf_lin',\n",
       "                              LogisticRegression(class_weight={0: 1.1758,\n",
       "                                                               1: 11.5366,\n",
       "                                                               2: 2.781,\n",
       "                                                               3: 4.7218,\n",
       "                                                               4: 6.207,\n",
       "                                                               5: 36.725,\n",
       "                                                               6: 70.3245,\n",
       "                                                               7: 367.25,\n",
       "                                                               8: 54.1844,\n",
       "                                                               9: 58.5,\n",
       "                                                               10: 13.1946,\n",
       "                                                               11: 20.4028,\n",
       "                                                               12: 22.1087,\n",
       "                                                               13: 31.9348,\n",
       "                                                               14: 20.2776},\n",
       "                                                 multi_class='multinomial',\n",
       "                                                 solver='newton-cg')),\n",
       "                             ('clf_rd_frst',\n",
       "                              RandomForestClassifier(class_weight={0: 1.1758,\n",
       "                                                                   1: 11.5366,\n",
       "                                                                   2: 2.781,\n",
       "                                                                   3: 4.7218,\n",
       "                                                                   4: 6.207,\n",
       "                                                                   5: 36.725,\n",
       "                                                                   6: 70.3245,\n",
       "                                                                   7: 367.25,\n",
       "                                                                   8: 54.1844,\n",
       "                                                                   9: 58.5,\n",
       "                                                                   10: 13.1946,\n",
       "                                                                   11: 20.4028,\n",
       "                                                                   12: 22.1087,\n",
       "                                                                   13: 31.9348,\n",
       "                                                                   14: 20.2776},\n",
       "                                                     criterion='entropy',\n",
       "                                                     max_depth=150))],\n",
       "                 voting='soft')"
      ]
     },
     "execution_count": 65,
     "metadata": {},
     "output_type": "execute_result"
    },
    {
     "data": {
      "application/javascript": [
       "\n",
       "            setTimeout(function() {\n",
       "                var nbb_cell_id = 65;\n",
       "                var nbb_unformatted_code = \"clf_lin = LogisticRegression(\\n    solver=\\\"newton-cg\\\", multi_class=\\\"multinomial\\\", class_weight=class_weight\\n)\\nclf_rd_frst = RandomForestClassifier(\\n    max_depth=150, criterion=\\\"entropy\\\", class_weight=class_weight\\n)\\nmodels = list()\\nmodels.append((\\\"clf_lin\\\", clf_lin))\\nmodels.append((\\\"clf_rd_frst\\\", clf_rd_frst))\\nensemble = VotingClassifier(estimators=models, voting=\\\"soft\\\")\\nensemble.fit(X_train, y_train)\";\n",
       "                var nbb_formatted_code = \"clf_lin = LogisticRegression(\\n    solver=\\\"newton-cg\\\", multi_class=\\\"multinomial\\\", class_weight=class_weight\\n)\\nclf_rd_frst = RandomForestClassifier(\\n    max_depth=150, criterion=\\\"entropy\\\", class_weight=class_weight\\n)\\nmodels = list()\\nmodels.append((\\\"clf_lin\\\", clf_lin))\\nmodels.append((\\\"clf_rd_frst\\\", clf_rd_frst))\\nensemble = VotingClassifier(estimators=models, voting=\\\"soft\\\")\\nensemble.fit(X_train, y_train)\";\n",
       "                var nbb_cells = Jupyter.notebook.get_cells();\n",
       "                for (var i = 0; i < nbb_cells.length; ++i) {\n",
       "                    if (nbb_cells[i].input_prompt_number == nbb_cell_id) {\n",
       "                        if (nbb_cells[i].get_text() == nbb_unformatted_code) {\n",
       "                             nbb_cells[i].set_text(nbb_formatted_code);\n",
       "                        }\n",
       "                        break;\n",
       "                    }\n",
       "                }\n",
       "            }, 500);\n",
       "            "
      ],
      "text/plain": [
       "<IPython.core.display.Javascript object>"
      ]
     },
     "metadata": {},
     "output_type": "display_data"
    }
   ],
   "source": [
    "clf_lin = LogisticRegression(\n",
    "    solver=\"newton-cg\", multi_class=\"multinomial\", class_weight=class_weights\n",
    ")\n",
    "clf_rd_frst = RandomForestClassifier(\n",
    "    max_depth=150, criterion=\"entropy\", class_weight=class_weights\n",
    ")\n",
    "models = list()\n",
    "models.append((\"clf_lin\", clf_lin))\n",
    "models.append((\"clf_rd_frst\", clf_rd_frst))\n",
    "ensemble = VotingClassifier(estimators=models, voting=\"soft\")"
   ]
  },
  {
   "cell_type": "code",
   "execution_count": 74,
   "metadata": {},
   "outputs": [
    {
     "name": "stdout",
     "output_type": "stream",
     "text": [
      "{'fit_time': array([10.55127454,  9.6891861 , 11.65271401]), 'score_time': array([0.18290854, 0.17316794, 0.18747425]), 'test_score': array([0.65711855, 0.66326241, 0.66439716])}\n"
     ]
    },
    {
     "data": {
      "application/javascript": [
       "\n",
       "            setTimeout(function() {\n",
       "                var nbb_cell_id = 74;\n",
       "                var nbb_unformatted_code = \"from sklearn.model_selection import TimeSeriesSplit, cross_val_score, cross_validate, cross_val_predict\\nprint(cross_validate(ensemble, X_train_dev, y_train_dev, cv=3))\";\n",
       "                var nbb_formatted_code = \"from sklearn.model_selection import (\\n    TimeSeriesSplit,\\n    cross_val_score,\\n    cross_validate,\\n    cross_val_predict,\\n)\\n\\nprint(cross_validate(ensemble, X_train_dev, y_train_dev, cv=3))\";\n",
       "                var nbb_cells = Jupyter.notebook.get_cells();\n",
       "                for (var i = 0; i < nbb_cells.length; ++i) {\n",
       "                    if (nbb_cells[i].input_prompt_number == nbb_cell_id) {\n",
       "                        if (nbb_cells[i].get_text() == nbb_unformatted_code) {\n",
       "                             nbb_cells[i].set_text(nbb_formatted_code);\n",
       "                        }\n",
       "                        break;\n",
       "                    }\n",
       "                }\n",
       "            }, 500);\n",
       "            "
      ],
      "text/plain": [
       "<IPython.core.display.Javascript object>"
      ]
     },
     "metadata": {},
     "output_type": "display_data"
    }
   ],
   "source": [
    "## With cross Validation"
   ]
  },
  {
   "cell_type": "markdown",
   "metadata": {},
   "source": [
    "## Evaluation"
   ]
  },
  {
   "cell_type": "code",
   "execution_count": 85,
   "metadata": {},
   "outputs": [
    {
     "name": "stdout",
     "output_type": "stream",
     "text": [
      "log loss lin: 1.1474742345084075\n"
     ]
    },
    {
     "data": {
      "application/javascript": [
       "\n",
       "            setTimeout(function() {\n",
       "                var nbb_cell_id = 85;\n",
       "                var nbb_unformatted_code = \"dev_ensemble = ensemble.fit(X_train_dev, y_train_dev)\\nvot_pred_dev = ensemble.predict_proba(X_test_dev)\\nlog = log_loss(y_test_dev, vot_pred_dev)\\nprint(\\\"log loss lin:\\\", log)\";\n",
       "                var nbb_formatted_code = \"dev_ensemble = ensemble.fit(X_train_dev, y_train_dev)\\nvot_pred_dev = ensemble.predict_proba(X_test_dev)\\nlog = log_loss(y_test_dev, vot_pred_dev)\\nprint(\\\"log loss lin:\\\", log)\";\n",
       "                var nbb_cells = Jupyter.notebook.get_cells();\n",
       "                for (var i = 0; i < nbb_cells.length; ++i) {\n",
       "                    if (nbb_cells[i].input_prompt_number == nbb_cell_id) {\n",
       "                        if (nbb_cells[i].get_text() == nbb_unformatted_code) {\n",
       "                             nbb_cells[i].set_text(nbb_formatted_code);\n",
       "                        }\n",
       "                        break;\n",
       "                    }\n",
       "                }\n",
       "            }, 500);\n",
       "            "
      ],
      "text/plain": [
       "<IPython.core.display.Javascript object>"
      ]
     },
     "metadata": {},
     "output_type": "display_data"
    }
   ],
   "source": [
    "dev_ensemble = ensemble.fit(X_train_dev, y_train_dev)\n",
    "vot_pred_dev = ensemble.predict_proba(X_test_dev)\n",
    "log = log_loss(y_test_dev, vot_pred_dev)\n",
    "print(\"log loss lin:\", log)"
   ]
  },
  {
   "cell_type": "code",
   "execution_count": null,
   "metadata": {},
   "outputs": [],
   "source": []
  },
  {
   "cell_type": "markdown",
   "metadata": {},
   "source": [
    "## Prediction"
   ]
  },
  {
   "cell_type": "code",
   "execution_count": 71,
   "metadata": {},
   "outputs": [
    {
     "data": {
      "application/javascript": [
       "\n",
       "            setTimeout(function() {\n",
       "                var nbb_cell_id = 71;\n",
       "                var nbb_unformatted_code = \"full_ensemble = ensemble.fit(X_train, y_train)\\nvot_pred_train = full_ensemble.predict_proba(X_train)\\nvot_pred_test = full_ensemble.predict_proba(X_test)\";\n",
       "                var nbb_formatted_code = \"full_ensemble = ensemble.fit(X_train, y_train)\\nvot_pred_train = full_ensemble.predict_proba(X_train)\\nvot_pred_test = full_ensemble.predict_proba(X_test)\";\n",
       "                var nbb_cells = Jupyter.notebook.get_cells();\n",
       "                for (var i = 0; i < nbb_cells.length; ++i) {\n",
       "                    if (nbb_cells[i].input_prompt_number == nbb_cell_id) {\n",
       "                        if (nbb_cells[i].get_text() == nbb_unformatted_code) {\n",
       "                             nbb_cells[i].set_text(nbb_formatted_code);\n",
       "                        }\n",
       "                        break;\n",
       "                    }\n",
       "                }\n",
       "            }, 500);\n",
       "            "
      ],
      "text/plain": [
       "<IPython.core.display.Javascript object>"
      ]
     },
     "metadata": {},
     "output_type": "display_data"
    }
   ],
   "source": [
    "full_ensemble = ensemble.fit(X_train, y_train)\n",
    "vot_pred_train = full_ensemble.predict_proba(X_train)\n",
    "vot_pred_test = full_ensemble.predict_proba(X_test)"
   ]
  },
  {
   "cell_type": "code",
   "execution_count": 72,
   "metadata": {},
   "outputs": [
    {
     "data": {
      "application/javascript": [
       "\n",
       "            setTimeout(function() {\n",
       "                var nbb_cell_id = 72;\n",
       "                var nbb_unformatted_code = \"# Write predictions to a file\\nwith open(\\\"text_train_predictions.csv\\\", \\\"w+\\\") as csvfile:\\n    writer = csv.writer(csvfile, delimiter=\\\",\\\")\\n    for i, idx in enumerate(train_index):\\n        lst = vot_pred_train[i, :].tolist()\\n        writer.writerow(lst)\\n\\n\\n# Write predictions to a file\\nwith open(\\\"text_predictions.csv\\\", \\\"w+\\\") as csvfile:\\n    writer = csv.writer(csvfile, delimiter=\\\",\\\")\\n    for i, idx in enumerate(test_index):\\n        lst = vot_pred_test[i, :].tolist()\\n        writer.writerow(lst)\";\n",
       "                var nbb_formatted_code = \"# Write predictions to a file\\nwith open(\\\"text_train_predictions.csv\\\", \\\"w+\\\") as csvfile:\\n    writer = csv.writer(csvfile, delimiter=\\\",\\\")\\n    for i, idx in enumerate(train_index):\\n        lst = vot_pred_train[i, :].tolist()\\n        writer.writerow(lst)\\n\\n\\n# Write predictions to a file\\nwith open(\\\"text_predictions.csv\\\", \\\"w+\\\") as csvfile:\\n    writer = csv.writer(csvfile, delimiter=\\\",\\\")\\n    for i, idx in enumerate(test_index):\\n        lst = vot_pred_test[i, :].tolist()\\n        writer.writerow(lst)\";\n",
       "                var nbb_cells = Jupyter.notebook.get_cells();\n",
       "                for (var i = 0; i < nbb_cells.length; ++i) {\n",
       "                    if (nbb_cells[i].input_prompt_number == nbb_cell_id) {\n",
       "                        if (nbb_cells[i].get_text() == nbb_unformatted_code) {\n",
       "                             nbb_cells[i].set_text(nbb_formatted_code);\n",
       "                        }\n",
       "                        break;\n",
       "                    }\n",
       "                }\n",
       "            }, 500);\n",
       "            "
      ],
      "text/plain": [
       "<IPython.core.display.Javascript object>"
      ]
     },
     "metadata": {},
     "output_type": "display_data"
    }
   ],
   "source": [
    "# Write predictions to a file\n",
    "with open(\"text_train_predictions.csv\", \"w+\") as csvfile:\n",
    "    writer = csv.writer(csvfile, delimiter=\",\")\n",
    "    for i, idx in enumerate(train_index):\n",
    "        lst = vot_pred_train[i, :].tolist()\n",
    "        writer.writerow(lst)\n",
    "\n",
    "\n",
    "# Write predictions to a file\n",
    "with open(\"text_predictions.csv\", \"w+\") as csvfile:\n",
    "    writer = csv.writer(csvfile, delimiter=\",\")\n",
    "    for i, idx in enumerate(test_index):\n",
    "        lst = vot_pred_test[i, :].tolist()\n",
    "        writer.writerow(lst)"
   ]
  }
 ],
 "metadata": {
  "kernelspec": {
   "display_name": "Python 3",
   "language": "python",
   "name": "python3"
  },
  "language_info": {
   "codemirror_mode": {
    "name": "ipython",
    "version": 3
   },
   "file_extension": ".py",
   "mimetype": "text/x-python",
   "name": "python",
   "nbconvert_exporter": "python",
   "pygments_lexer": "ipython3",
   "version": "3.7.7"
  },
  "pycharm": {
   "stem_cell": {
    "cell_type": "raw",
    "source": [],
    "metadata": {
     "collapsed": false
    }
   }
  }
 },
 "nbformat": 4,
 "nbformat_minor": 4
}