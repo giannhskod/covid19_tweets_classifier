{
 "cells": [
  {
   "cell_type": "code",
   "execution_count": 1,
   "metadata": {},
   "outputs": [],
   "source": [
    "from sklearn.metrics import log_loss\n",
    "from sklearn.model_selection import train_test_split\n",
    "from sklearn.ensemble import RandomForestClassifier\n",
    "from sklearn.pipeline import make_pipeline\n",
    "from sklearn.preprocessing import StandardScaler\n",
    "from sklearn.svm import SVC\n",
    "from sklearn.ensemble import RandomForestClassifier\n",
    "from sklearn.linear_model import SGDClassifier\n",
    "from sklearn.ensemble import VotingClassifier"
   ]
  },
  {
   "cell_type": "code",
   "execution_count": 4,
   "metadata": {},
   "outputs": [
    {
     "data": {
      "application/javascript": [
       "\n",
       "            setTimeout(function() {\n",
       "                var nbb_cell_id = 4;\n",
       "                var nbb_unformatted_code = \"import csv\\nimport os\\nimport numpy as np\\nfrom sklearn.feature_extraction.text import TfidfVectorizer\\nfrom sklearn.linear_model import LogisticRegression\\nfrom sklearn.svm import SVC\\n\\nimport parent_modules\\nimport preprocessor\\n\\n%load_ext autoreload\\n%load_ext nb_black\\n%autoreload 2\\n\\nfrom definitions import *\\n\\n# Read training data\\ntrain_index = list()\\ny_train = list()    \\nwith open(os.path.join(DATA_DIR, \\\"train.csv\\\"), 'r') as f:\\n    for line in f:\\n        t = line.split(',')\\n        train_index.append(int(t[0]))\\n        y_train.append(int(t[1]))\\n\\n# Read test data\\ntest_index = list()  \\nwith open(os.path.join(DATA_DIR, \\\"test.csv\\\"), 'r') as f:\\n    for line in f:\\n        t = line.split(',')\\n        test_index.append(int(t[0]))\\n\\n# Load the textual content of the messages into the dictionary \\\"posts\\\"\\nloaded_posts = dict()\\nwith open(os.path.join(DATA_DIR, \\\"posts.tsv\\\"), 'r') as f:\\n    for line in f:\\n        t = line.split('\\\\t')\\n        loaded_posts[int(t[0])] = t[2][:-1]\";\n",
       "                var nbb_formatted_code = \"import csv\\nimport os\\nimport numpy as np\\nfrom sklearn.feature_extraction.text import TfidfVectorizer\\nfrom sklearn.linear_model import LogisticRegression\\nfrom sklearn.svm import SVC\\n\\nimport parent_modules\\nimport preprocessor\\n\\n%load_ext autoreload\\n%load_ext nb_black\\n%autoreload 2\\n\\nfrom definitions import *\\n\\n# Read training data\\ntrain_index = list()\\ny_train = list()\\nwith open(os.path.join(DATA_DIR, \\\"train.csv\\\"), \\\"r\\\") as f:\\n    for line in f:\\n        t = line.split(\\\",\\\")\\n        train_index.append(int(t[0]))\\n        y_train.append(int(t[1]))\\n\\n# Read test data\\ntest_index = list()\\nwith open(os.path.join(DATA_DIR, \\\"test.csv\\\"), \\\"r\\\") as f:\\n    for line in f:\\n        t = line.split(\\\",\\\")\\n        test_index.append(int(t[0]))\\n\\n# Load the textual content of the messages into the dictionary \\\"posts\\\"\\nloaded_posts = dict()\\nwith open(os.path.join(DATA_DIR, \\\"posts.tsv\\\"), \\\"r\\\") as f:\\n    for line in f:\\n        t = line.split(\\\"\\\\t\\\")\\n        loaded_posts[int(t[0])] = t[2][:-1]\";\n",
       "                var nbb_cells = Jupyter.notebook.get_cells();\n",
       "                for (var i = 0; i < nbb_cells.length; ++i) {\n",
       "                    if (nbb_cells[i].input_prompt_number == nbb_cell_id) {\n",
       "                        if (nbb_cells[i].get_text() == nbb_unformatted_code) {\n",
       "                             nbb_cells[i].set_text(nbb_formatted_code);\n",
       "                        }\n",
       "                        break;\n",
       "                    }\n",
       "                }\n",
       "            }, 500);\n",
       "            "
      ],
      "text/plain": [
       "<IPython.core.display.Javascript object>"
      ]
     },
     "metadata": {},
     "output_type": "display_data"
    }
   ],
   "source": [
    "import csv\n",
    "import os\n",
    "import numpy as np\n",
    "from sklearn.feature_extraction.text import TfidfVectorizer\n",
    "from sklearn.linear_model import LogisticRegression\n",
    "from sklearn.svm import SVC\n",
    "\n",
    "import parent_modules\n",
    "import preprocessor\n",
    "\n",
    "%load_ext autoreload\n",
    "%load_ext nb_black\n",
    "%autoreload 2\n",
    "\n",
    "from definitions import *\n",
    "\n",
    "# Read training data\n",
    "train_index = list()\n",
    "y_train = list()    \n",
    "with open(os.path.join(DATA_DIR, \"train.csv\"), 'r') as f:\n",
    "    for line in f:\n",
    "        t = line.split(',')\n",
    "        train_index.append(int(t[0]))\n",
    "        y_train.append(int(t[1]))\n",
    "\n",
    "# Read test data\n",
    "test_index = list()  \n",
    "with open(os.path.join(DATA_DIR, \"test.csv\"), 'r') as f:\n",
    "    for line in f:\n",
    "        t = line.split(',')\n",
    "        test_index.append(int(t[0]))\n",
    "\n",
    "# Load the textual content of the messages into the dictionary \"posts\"\n",
    "loaded_posts = dict()\n",
    "with open(os.path.join(DATA_DIR, \"posts.tsv\"), 'r') as f:\n",
    "    for line in f:\n",
    "        t = line.split('\\t')\n",
    "        loaded_posts[int(t[0])] = t[2][:-1]\n",
    "\n"
   ]
  },
  {
   "cell_type": "code",
   "execution_count": 5,
   "metadata": {},
   "outputs": [
    {
     "data": {
      "text/plain": [
       "{0: 1.1758,\n",
       " 1: 11.5366,\n",
       " 2: 2.781,\n",
       " 3: 4.7218,\n",
       " 4: 6.207,\n",
       " 5: 36.725,\n",
       " 6: 70.3245,\n",
       " 7: 367.25,\n",
       " 8: 54.1844,\n",
       " 9: 58.5,\n",
       " 10: 13.1946,\n",
       " 11: 20.4028,\n",
       " 12: 22.1087,\n",
       " 13: 31.9348,\n",
       " 14: 20.2776}"
      ]
     },
     "execution_count": 5,
     "metadata": {},
     "output_type": "execute_result"
    },
    {
     "data": {
      "application/javascript": [
       "\n",
       "            setTimeout(function() {\n",
       "                var nbb_cell_id = 5;\n",
       "                var nbb_unformatted_code = \"total_entries = len(y_train)\\nclass_counts = {i: len(list(filter(lambda x: x == i, y_train))) for i in range(15)}\\nclass_weights = {\\n    cls: np.round((1 / class_counts[cls]) * total_entries / 2, 4) for cls in range(15)\\n}\\nclass_weights\";\n",
       "                var nbb_formatted_code = \"total_entries = len(y_train)\\nclass_counts = {i: len(list(filter(lambda x: x == i, y_train))) for i in range(15)}\\nclass_weights = {\\n    cls: np.round((1 / class_counts[cls]) * total_entries / 2, 4) for cls in range(15)\\n}\\nclass_weights\";\n",
       "                var nbb_cells = Jupyter.notebook.get_cells();\n",
       "                for (var i = 0; i < nbb_cells.length; ++i) {\n",
       "                    if (nbb_cells[i].input_prompt_number == nbb_cell_id) {\n",
       "                        if (nbb_cells[i].get_text() == nbb_unformatted_code) {\n",
       "                             nbb_cells[i].set_text(nbb_formatted_code);\n",
       "                        }\n",
       "                        break;\n",
       "                    }\n",
       "                }\n",
       "            }, 500);\n",
       "            "
      ],
      "text/plain": [
       "<IPython.core.display.Javascript object>"
      ]
     },
     "metadata": {},
     "output_type": "display_data"
    }
   ],
   "source": [
    "total_entries = len(y_train)\n",
    "class_counts = {i: len(list(filter(lambda x: x == i, y_train))) for i in range(15)}\n",
    "class_weights = {\n",
    "    cls: np.round((1 / class_counts[cls]) * total_entries / 2, 4) for cls in range(15)\n",
    "}\n",
    "class_weights"
   ]
  },
  {
   "cell_type": "code",
   "execution_count": 6,
   "metadata": {
    "pycharm": {
     "name": "#%%\n"
    }
   },
   "outputs": [
    {
     "data": {
      "text/plain": [
       "{0: 5622,\n",
       " 1: 573,\n",
       " 2: 2377,\n",
       " 3: 1400,\n",
       " 4: 1065,\n",
       " 5: 180,\n",
       " 6: 94,\n",
       " 7: 18,\n",
       " 8: 122,\n",
       " 9: 113,\n",
       " 10: 501,\n",
       " 11: 324,\n",
       " 12: 299,\n",
       " 13: 207,\n",
       " 14: 326}"
      ]
     },
     "execution_count": 6,
     "metadata": {},
     "output_type": "execute_result"
    },
    {
     "data": {
      "application/javascript": [
       "\n",
       "            setTimeout(function() {\n",
       "                var nbb_cell_id = 6;\n",
       "                var nbb_unformatted_code = \"class_counts\";\n",
       "                var nbb_formatted_code = \"class_counts\";\n",
       "                var nbb_cells = Jupyter.notebook.get_cells();\n",
       "                for (var i = 0; i < nbb_cells.length; ++i) {\n",
       "                    if (nbb_cells[i].input_prompt_number == nbb_cell_id) {\n",
       "                        if (nbb_cells[i].get_text() == nbb_unformatted_code) {\n",
       "                             nbb_cells[i].set_text(nbb_formatted_code);\n",
       "                        }\n",
       "                        break;\n",
       "                    }\n",
       "                }\n",
       "            }, 500);\n",
       "            "
      ],
      "text/plain": [
       "<IPython.core.display.Javascript object>"
      ]
     },
     "metadata": {},
     "output_type": "display_data"
    }
   ],
   "source": [
    "class_counts"
   ]
  },
  {
   "cell_type": "code",
   "execution_count": 7,
   "metadata": {},
   "outputs": [
    {
     "data": {
      "application/javascript": [
       "\n",
       "            setTimeout(function() {\n",
       "                var nbb_cell_id = 7;\n",
       "                var nbb_unformatted_code = \"# Data Preprocessing\\nimport re\\n\\n\\ndef clean_str(string):\\n    string = re.sub(r\\\"[^A-Za-z0-9(),!?\\\\'\\\\`]\\\", \\\" \\\", string)\\n    string = re.sub(r\\\"\\\\'s\\\", \\\" 's\\\", string)\\n    string = re.sub(r\\\"\\\\'ve\\\", \\\" 've\\\", string)\\n    string = re.sub(r\\\"n\\\\'t\\\", \\\" n't\\\", string)\\n    string = re.sub(r\\\"\\\\'re\\\", \\\" 're\\\", string)\\n    string = re.sub(r\\\"\\\\'d\\\", \\\" 'd\\\", string)\\n    string = re.sub(r\\\"\\\\'ll\\\", \\\" 'll\\\", string)\\n    string = re.sub(r\\\",\\\", \\\" , \\\", string)\\n    string = re.sub(r\\\"!\\\", \\\" ! \\\", string)\\n    string = re.sub(r\\\"\\\\(\\\", \\\" \\\\( \\\", string)\\n    string = re.sub(r\\\"\\\\)\\\", \\\" \\\\) \\\", string)\\n    string = re.sub(r\\\"\\\\?\\\", \\\" \\\\? \\\", string)\\n    string = re.sub(r\\\"\\\\s{2,}\\\", \\\" \\\", string)\\n    return string.strip().split()\\n\\n\\nposts = {idx: \\\" \\\".join(clean_str(post)) for idx, post in loaded_posts.items()}\";\n",
       "                var nbb_formatted_code = \"# Data Preprocessing\\nimport re\\n\\n\\ndef clean_str(string):\\n    string = re.sub(r\\\"[^A-Za-z0-9(),!?\\\\'\\\\`]\\\", \\\" \\\", string)\\n    string = re.sub(r\\\"\\\\'s\\\", \\\" 's\\\", string)\\n    string = re.sub(r\\\"\\\\'ve\\\", \\\" 've\\\", string)\\n    string = re.sub(r\\\"n\\\\'t\\\", \\\" n't\\\", string)\\n    string = re.sub(r\\\"\\\\'re\\\", \\\" 're\\\", string)\\n    string = re.sub(r\\\"\\\\'d\\\", \\\" 'd\\\", string)\\n    string = re.sub(r\\\"\\\\'ll\\\", \\\" 'll\\\", string)\\n    string = re.sub(r\\\",\\\", \\\" , \\\", string)\\n    string = re.sub(r\\\"!\\\", \\\" ! \\\", string)\\n    string = re.sub(r\\\"\\\\(\\\", \\\" \\\\( \\\", string)\\n    string = re.sub(r\\\"\\\\)\\\", \\\" \\\\) \\\", string)\\n    string = re.sub(r\\\"\\\\?\\\", \\\" \\\\? \\\", string)\\n    string = re.sub(r\\\"\\\\s{2,}\\\", \\\" \\\", string)\\n    return string.strip().split()\\n\\n\\nposts = {idx: \\\" \\\".join(clean_str(post)) for idx, post in loaded_posts.items()}\";\n",
       "                var nbb_cells = Jupyter.notebook.get_cells();\n",
       "                for (var i = 0; i < nbb_cells.length; ++i) {\n",
       "                    if (nbb_cells[i].input_prompt_number == nbb_cell_id) {\n",
       "                        if (nbb_cells[i].get_text() == nbb_unformatted_code) {\n",
       "                             nbb_cells[i].set_text(nbb_formatted_code);\n",
       "                        }\n",
       "                        break;\n",
       "                    }\n",
       "                }\n",
       "            }, 500);\n",
       "            "
      ],
      "text/plain": [
       "<IPython.core.display.Javascript object>"
      ]
     },
     "metadata": {},
     "output_type": "display_data"
    }
   ],
   "source": [
    "# Data Preprocessing\n",
    "import re\n",
    "\n",
    "\n",
    "def clean_str(string):\n",
    "    string = re.sub(r\"[^A-Za-z0-9(),!?\\'\\`]\", \" \", string)\n",
    "    string = re.sub(r\"\\'s\", \" 's\", string)\n",
    "    string = re.sub(r\"\\'ve\", \" 've\", string)\n",
    "    string = re.sub(r\"n\\'t\", \" n't\", string)\n",
    "    string = re.sub(r\"\\'re\", \" 're\", string)\n",
    "    string = re.sub(r\"\\'d\", \" 'd\", string)\n",
    "    string = re.sub(r\"\\'ll\", \" 'll\", string)\n",
    "    string = re.sub(r\",\", \" , \", string)\n",
    "    string = re.sub(r\"!\", \" ! \", string)\n",
    "    string = re.sub(r\"\\(\", \" \\( \", string)\n",
    "    string = re.sub(r\"\\)\", \" \\) \", string)\n",
    "    string = re.sub(r\"\\?\", \" \\? \", string)\n",
    "    string = re.sub(r\"\\s{2,}\", \" \", string)\n",
    "    return string.strip().split()\n",
    "\n",
    "\n",
    "posts = {idx: \" \".join(clean_str(post)) for idx, post in loaded_posts.items()}"
   ]
  },
  {
   "cell_type": "code",
   "execution_count": 11,
   "metadata": {},
   "outputs": [
    {
     "name": "stdout",
     "output_type": "stream",
     "text": [
      "---Before\n",
      "---- Since everyone is on #lockdown because of #COVID19, I want to spread some positivity and surprise some people! 🥰  I am giving five people that retweets this a free #AnimalCrossing Nintendo Switch Bundle, must be following me for a DM! 🎁  Good luck &amp; ! ❤️ #ACNH https://t.co/sIAkfuxZhK \n",
      "---After---\n",
      " Since everyone is on lockdown because of COVID19 , I want to spread some positivity and surprise some people ! I am giving five people that retweets this a free AnimalCrossing Nintendo Switch Bundle , must be following me for a DM ! Good luck amp ! ACNH https t co sIAkfuxZhK\n"
     ]
    },
    {
     "data": {
      "application/javascript": [
       "\n",
       "            setTimeout(function() {\n",
       "                var nbb_cell_id = 11;\n",
       "                var nbb_unformatted_code = \"print(\\\"---Before\\\\n----\\\", loaded_posts[0], \\\"\\\\n---After---\\\\n\\\", posts[0])\";\n",
       "                var nbb_formatted_code = \"print(\\\"---Before\\\\n----\\\", loaded_posts[0], \\\"\\\\n---After---\\\\n\\\", posts[0])\";\n",
       "                var nbb_cells = Jupyter.notebook.get_cells();\n",
       "                for (var i = 0; i < nbb_cells.length; ++i) {\n",
       "                    if (nbb_cells[i].input_prompt_number == nbb_cell_id) {\n",
       "                        if (nbb_cells[i].get_text() == nbb_unformatted_code) {\n",
       "                             nbb_cells[i].set_text(nbb_formatted_code);\n",
       "                        }\n",
       "                        break;\n",
       "                    }\n",
       "                }\n",
       "            }, 500);\n",
       "            "
      ],
      "text/plain": [
       "<IPython.core.display.Javascript object>"
      ]
     },
     "metadata": {},
     "output_type": "display_data"
    }
   ],
   "source": [
    "print(\"---Before\\n----\", loaded_posts[0], \"\\n---After---\\n\", posts[0])"
   ]
  },
  {
   "cell_type": "code",
   "execution_count": 7,
   "metadata": {},
   "outputs": [
    {
     "data": {
      "text/plain": [
       "<1x5699 sparse matrix of type '<class 'numpy.float64'>'\n",
       "\twith 21 stored elements in Compressed Sparse Row format>"
      ]
     },
     "execution_count": 7,
     "metadata": {},
     "output_type": "execute_result"
    },
    {
     "data": {
      "application/javascript": [
       "\n",
       "            setTimeout(function() {\n",
       "                var nbb_cell_id = 7;\n",
       "                var nbb_unformatted_code = \"X_train[0]\";\n",
       "                var nbb_formatted_code = \"X_train[0]\";\n",
       "                var nbb_cells = Jupyter.notebook.get_cells();\n",
       "                for (var i = 0; i < nbb_cells.length; ++i) {\n",
       "                    if (nbb_cells[i].input_prompt_number == nbb_cell_id) {\n",
       "                        if (nbb_cells[i].get_text() == nbb_unformatted_code) {\n",
       "                             nbb_cells[i].set_text(nbb_formatted_code);\n",
       "                        }\n",
       "                        break;\n",
       "                    }\n",
       "                }\n",
       "            }, 500);\n",
       "            "
      ],
      "text/plain": [
       "<IPython.core.display.Javascript object>"
      ]
     },
     "metadata": {},
     "output_type": "display_data"
    }
   ],
   "source": [
    "# Create 2 lists: one containing the messages of the training set and the other containing the messages of the\n",
    "# test set\n",
    "train_posts = [posts[idx] for idx in train_index]\n",
    "test_posts = [posts[idx] for idx in test_index]\n",
    "\n",
    "# Create the training matrix. Each row corresponds to a message and each column to a word present in at least 5\n",
    "# messages of the training set. The value of each entry in a row is equal to the tf-idf weight of that word in the\n",
    "# corresponding message\n",
    "vectorizer = TfidfVectorizer(stop_words=\"english\", min_df=5)\n",
    "X_train = vectorizer.fit_transform(train_posts)\n",
    "\n",
    "# Create the test matrix following the same approach as in the case of the training matrix\n",
    "X_test = vectorizer.transform(test_posts)\n",
    "\n",
    "print(\"Train matrix dimensionality: \", X_train.shape)\n",
    "print(\"Test matrix dimensionality: \", X_test.shape)"
   ]
  },
  {
   "cell_type": "code",
   "execution_count": 8,
   "metadata": {},
   "outputs": [
    {
     "data": {
      "application/javascript": [
       "\n",
       "            setTimeout(function() {\n",
       "                var nbb_cell_id = 8;\n",
       "                var nbb_unformatted_code = \"X_train_dev, X_test_dev, y_train_dev, y_test_dev = train_test_split(\\n    X_train, y_train, test_size=0.2\\n)\";\n",
       "                var nbb_formatted_code = \"X_train_dev, X_test_dev, y_train_dev, y_test_dev = train_test_split(\\n    X_train, y_train, test_size=0.2\\n)\";\n",
       "                var nbb_cells = Jupyter.notebook.get_cells();\n",
       "                for (var i = 0; i < nbb_cells.length; ++i) {\n",
       "                    if (nbb_cells[i].input_prompt_number == nbb_cell_id) {\n",
       "                        if (nbb_cells[i].get_text() == nbb_unformatted_code) {\n",
       "                             nbb_cells[i].set_text(nbb_formatted_code);\n",
       "                        }\n",
       "                        break;\n",
       "                    }\n",
       "                }\n",
       "            }, 500);\n",
       "            "
      ],
      "text/plain": [
       "<IPython.core.display.Javascript object>"
      ]
     },
     "metadata": {},
     "output_type": "display_data"
    }
   ],
   "source": [
    "X_train_dev, X_test_dev, y_train_dev, y_test_dev = train_test_split(\n",
    "    X_train, y_train, test_size=0.2\n",
    ")"
   ]
  },
  {
   "cell_type": "code",
   "execution_count": 9,
   "metadata": {},
   "outputs": [
    {
     "data": {
      "application/javascript": [
       "\n",
       "            setTimeout(function() {\n",
       "                var nbb_cell_id = 9;\n",
       "                var nbb_unformatted_code = \"clf_lin = LogisticRegression(\\n    solver=\\\"newton-cg\\\", multi_class=\\\"multinomial\\\", class_weight=class_weights\\n)\\nclf_rd_frst = RandomForestClassifier(\\n    max_depth=150, criterion=\\\"entropy\\\", class_weight=class_weights\\n)\\nmodels = list()\\nmodels.append((\\\"clf_lin\\\", clf_lin))\\nmodels.append((\\\"clf_rd_frst\\\", clf_rd_frst))\\nensemble = VotingClassifier(estimators=models, voting=\\\"soft\\\")\";\n",
       "                var nbb_formatted_code = \"clf_lin = LogisticRegression(\\n    solver=\\\"newton-cg\\\", multi_class=\\\"multinomial\\\", class_weight=class_weights\\n)\\nclf_rd_frst = RandomForestClassifier(\\n    max_depth=150, criterion=\\\"entropy\\\", class_weight=class_weights\\n)\\nmodels = list()\\nmodels.append((\\\"clf_lin\\\", clf_lin))\\nmodels.append((\\\"clf_rd_frst\\\", clf_rd_frst))\\nensemble = VotingClassifier(estimators=models, voting=\\\"soft\\\")\";\n",
       "                var nbb_cells = Jupyter.notebook.get_cells();\n",
       "                for (var i = 0; i < nbb_cells.length; ++i) {\n",
       "                    if (nbb_cells[i].input_prompt_number == nbb_cell_id) {\n",
       "                        if (nbb_cells[i].get_text() == nbb_unformatted_code) {\n",
       "                             nbb_cells[i].set_text(nbb_formatted_code);\n",
       "                        }\n",
       "                        break;\n",
       "                    }\n",
       "                }\n",
       "            }, 500);\n",
       "            "
      ],
      "text/plain": [
       "<IPython.core.display.Javascript object>"
      ]
     },
     "metadata": {},
     "output_type": "display_data"
    }
   ],
   "source": [
    "clf_lin = LogisticRegression(\n",
    "    solver=\"newton-cg\", multi_class=\"multinomial\", class_weight=class_weights\n",
    ")\n",
    "clf_rd_frst = RandomForestClassifier(\n",
    "    max_depth=150, criterion=\"entropy\", class_weight=class_weights\n",
    ")\n",
    "models = list()\n",
    "models.append((\"clf_lin\", clf_lin))\n",
    "models.append((\"clf_rd_frst\", clf_rd_frst))\n",
    "ensemble = VotingClassifier(estimators=models, voting=\"soft\")"
   ]
  },
  {
   "cell_type": "markdown",
   "metadata": {},
   "source": [
    "## Evaluation on dev"
   ]
  },
  {
   "cell_type": "code",
   "execution_count": 10,
   "metadata": {},
   "outputs": [
    {
     "name": "stdout",
     "output_type": "stream",
     "text": [
      "log loss lin: 1.1189103394551934\n"
     ]
    },
    {
     "data": {
      "application/javascript": [
       "\n",
       "            setTimeout(function() {\n",
       "                var nbb_cell_id = 10;\n",
       "                var nbb_unformatted_code = \"dev_ensemble = ensemble.fit(X_train_dev, y_train_dev)\\nvot_pred_dev = ensemble.predict_proba(X_test_dev)\\nlog = log_loss(y_test_dev, vot_pred_dev)\\nprint(\\\"log loss lin:\\\", log)\";\n",
       "                var nbb_formatted_code = \"dev_ensemble = ensemble.fit(X_train_dev, y_train_dev)\\nvot_pred_dev = ensemble.predict_proba(X_test_dev)\\nlog = log_loss(y_test_dev, vot_pred_dev)\\nprint(\\\"log loss lin:\\\", log)\";\n",
       "                var nbb_cells = Jupyter.notebook.get_cells();\n",
       "                for (var i = 0; i < nbb_cells.length; ++i) {\n",
       "                    if (nbb_cells[i].input_prompt_number == nbb_cell_id) {\n",
       "                        if (nbb_cells[i].get_text() == nbb_unformatted_code) {\n",
       "                             nbb_cells[i].set_text(nbb_formatted_code);\n",
       "                        }\n",
       "                        break;\n",
       "                    }\n",
       "                }\n",
       "            }, 500);\n",
       "            "
      ],
      "text/plain": [
       "<IPython.core.display.Javascript object>"
      ]
     },
     "metadata": {},
     "output_type": "display_data"
    }
   ],
   "source": [
    "dev_ensemble = ensemble.fit(X_train_dev, y_train_dev)\n",
    "vot_pred_dev = ensemble.predict_proba(X_test_dev)\n",
    "log = log_loss(y_test_dev, vot_pred_dev)\n",
    "print(\"log loss lin:\", log)"
   ]
  },
  {
   "cell_type": "markdown",
   "metadata": {},
   "source": [
    "## Prediction on test"
   ]
  },
  {
   "cell_type": "code",
   "execution_count": 11,
   "metadata": {},
   "outputs": [
    {
     "data": {
      "application/javascript": [
       "\n",
       "            setTimeout(function() {\n",
       "                var nbb_cell_id = 11;\n",
       "                var nbb_unformatted_code = \"full_ensemble = ensemble.fit(X_train, y_train)\\nvot_pred_train = full_ensemble.predict_proba(X_train)\\nvot_pred_test = full_ensemble.predict_proba(X_test)\";\n",
       "                var nbb_formatted_code = \"full_ensemble = ensemble.fit(X_train, y_train)\\nvot_pred_train = full_ensemble.predict_proba(X_train)\\nvot_pred_test = full_ensemble.predict_proba(X_test)\";\n",
       "                var nbb_cells = Jupyter.notebook.get_cells();\n",
       "                for (var i = 0; i < nbb_cells.length; ++i) {\n",
       "                    if (nbb_cells[i].input_prompt_number == nbb_cell_id) {\n",
       "                        if (nbb_cells[i].get_text() == nbb_unformatted_code) {\n",
       "                             nbb_cells[i].set_text(nbb_formatted_code);\n",
       "                        }\n",
       "                        break;\n",
       "                    }\n",
       "                }\n",
       "            }, 500);\n",
       "            "
      ],
      "text/plain": [
       "<IPython.core.display.Javascript object>"
      ]
     },
     "metadata": {},
     "output_type": "display_data"
    }
   ],
   "source": [
    "full_ensemble = ensemble.fit(X_train, y_train)\n",
    "vot_pred_train = full_ensemble.predict_proba(X_train)\n",
    "vot_pred_test = full_ensemble.predict_proba(X_test)"
   ]
  },
  {
   "cell_type": "code",
   "execution_count": 14,
   "metadata": {},
   "outputs": [
    {
     "data": {
      "application/javascript": [
       "\n",
       "            setTimeout(function() {\n",
       "                var nbb_cell_id = 14;\n",
       "                var nbb_unformatted_code = \"# Write predictions to a file\\nml_classification_train_csv = os.path.join(\\n    ML_CLASSIFIERS_DIR, \\\"text_train_predictions.csv\\\"\\n)\\nml_classification_pred_csv = os.path.join(ML_CLASSIFIERS_DIR, \\\"text_predictions.csv\\\")\\n\\nwith open(ml_classification_train_csv, \\\"w+\\\") as csvfile:\\n    writer = csv.writer(csvfile, delimiter=\\\",\\\")\\n    for i, idx in enumerate(train_index):\\n        lst = vot_pred_train[i, :].tolist()\\n        writer.writerow(lst)\\n\\n\\n# Write predictions to a file\\nwith open(ml_classification_pred_csv, \\\"w+\\\") as csvfile:\\n    writer = csv.writer(csvfile, delimiter=\\\",\\\")\\n    for i, idx in enumerate(test_index):\\n        lst = vot_pred_test[i, :].tolist()\\n        writer.writerow(lst)\";\n",
       "                var nbb_formatted_code = \"# Write predictions to a file\\nml_classification_train_csv = os.path.join(\\n    ML_CLASSIFIERS_DIR, \\\"text_train_predictions.csv\\\"\\n)\\nml_classification_pred_csv = os.path.join(ML_CLASSIFIERS_DIR, \\\"text_predictions.csv\\\")\\n\\nwith open(ml_classification_train_csv, \\\"w+\\\") as csvfile:\\n    writer = csv.writer(csvfile, delimiter=\\\",\\\")\\n    for i, idx in enumerate(train_index):\\n        lst = vot_pred_train[i, :].tolist()\\n        writer.writerow(lst)\\n\\n\\n# Write predictions to a file\\nwith open(ml_classification_pred_csv, \\\"w+\\\") as csvfile:\\n    writer = csv.writer(csvfile, delimiter=\\\",\\\")\\n    for i, idx in enumerate(test_index):\\n        lst = vot_pred_test[i, :].tolist()\\n        writer.writerow(lst)\";\n",
       "                var nbb_cells = Jupyter.notebook.get_cells();\n",
       "                for (var i = 0; i < nbb_cells.length; ++i) {\n",
       "                    if (nbb_cells[i].input_prompt_number == nbb_cell_id) {\n",
       "                        if (nbb_cells[i].get_text() == nbb_unformatted_code) {\n",
       "                             nbb_cells[i].set_text(nbb_formatted_code);\n",
       "                        }\n",
       "                        break;\n",
       "                    }\n",
       "                }\n",
       "            }, 500);\n",
       "            "
      ],
      "text/plain": [
       "<IPython.core.display.Javascript object>"
      ]
     },
     "metadata": {},
     "output_type": "display_data"
    }
   ],
   "source": [
    "# Write predictions to a file\n",
    "ml_classification_train_csv = os.path.join(\n",
    "    ML_CLASSIFIERS_DIR, \"text_train_predictions.csv\"\n",
    ")\n",
    "ml_classification_pred_csv = os.path.join(ML_CLASSIFIERS_DIR, \"text_predictions.csv\")\n",
    "\n",
    "with open(ml_classification_train_csv, \"w+\") as csvfile:\n",
    "    writer = csv.writer(csvfile, delimiter=\",\")\n",
    "    for i, idx in enumerate(train_index):\n",
    "        lst = vot_pred_train[i, :].tolist()\n",
    "        writer.writerow(lst)\n",
    "\n",
    "\n",
    "# Write predictions to a file\n",
    "with open(ml_classification_pred_csv, \"w+\") as csvfile:\n",
    "    writer = csv.writer(csvfile, delimiter=\",\")\n",
    "    for i, idx in enumerate(test_index):\n",
    "        lst = vot_pred_test[i, :].tolist()\n",
    "        writer.writerow(lst)"
   ]
  }
 ],
 "metadata": {
  "kernelspec": {
   "display_name": "Python 3",
   "language": "python",
   "name": "python3"
  },
  "language_info": {
   "codemirror_mode": {
    "name": "ipython",
    "version": 3
   },
   "file_extension": ".py",
   "mimetype": "text/x-python",
   "name": "python",
   "nbconvert_exporter": "python",
   "pygments_lexer": "ipython3",
   "version": "3.7.7"
  },
  "pycharm": {
   "stem_cell": {
    "cell_type": "raw",
    "source": [],
    "metadata": {
     "collapsed": false
    }
   }
  }
 },
 "nbformat": 4,
 "nbformat_minor": 4
}